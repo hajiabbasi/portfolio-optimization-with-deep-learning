{
 "cells": [
  {
   "cell_type": "code",
   "execution_count": null,
   "metadata": {},
   "outputs": [],
   "source": [
    "import pandas as pd\n",
    "import numpy as np\n",
    "import matplotlib.pyplot as plt\n",
    "import scipy.stats \n",
    "from datetime import datetime\n",
    "from scipy.optimize import minimize"
   ]
  },
  {
   "cell_type": "code",
   "execution_count": null,
   "metadata": {},
   "outputs": [],
   "source": [
    "from scipy.optimize import minimize"
   ]
  },
  {
   "cell_type": "code",
   "execution_count": 2,
   "metadata": {},
   "outputs": [],
   "source": [
    "import mahdi as ma\n"
   ]
  },
  {
   "cell_type": "code",
   "execution_count": 3,
   "metadata": {},
   "outputs": [],
   "source": [
    "import pandas as pd\n",
    "ind = pd.read_csv(\"ind30_m_vw_rets.csv\", header=0, index_col=0)/100\n",
    "ind.index = pd.to_datetime(ind.index, format=\"%Y%m\").to_period('M')"
   ]
  },
  {
   "cell_type": "code",
   "execution_count": 4,
   "metadata": {},
   "outputs": [
    {
     "data": {
      "text/html": [
       "<div>\n",
       "<style scoped>\n",
       "    .dataframe tbody tr th:only-of-type {\n",
       "        vertical-align: middle;\n",
       "    }\n",
       "\n",
       "    .dataframe tbody tr th {\n",
       "        vertical-align: top;\n",
       "    }\n",
       "\n",
       "    .dataframe thead th {\n",
       "        text-align: right;\n",
       "    }\n",
       "</style>\n",
       "<table border=\"1\" class=\"dataframe\">\n",
       "  <thead>\n",
       "    <tr style=\"text-align: right;\">\n",
       "      <th></th>\n",
       "      <th>Food</th>\n",
       "      <th>Beer</th>\n",
       "      <th>Smoke</th>\n",
       "      <th>Games</th>\n",
       "      <th>Books</th>\n",
       "      <th>Hshld</th>\n",
       "      <th>Clths</th>\n",
       "      <th>Hlth</th>\n",
       "      <th>Chems</th>\n",
       "      <th>Txtls</th>\n",
       "      <th>...</th>\n",
       "      <th>Telcm</th>\n",
       "      <th>Servs</th>\n",
       "      <th>BusEq</th>\n",
       "      <th>Paper</th>\n",
       "      <th>Trans</th>\n",
       "      <th>Whlsl</th>\n",
       "      <th>Rtail</th>\n",
       "      <th>Meals</th>\n",
       "      <th>Fin</th>\n",
       "      <th>Other</th>\n",
       "    </tr>\n",
       "  </thead>\n",
       "  <tbody>\n",
       "    <tr>\n",
       "      <th>1926-07</th>\n",
       "      <td>0.0056</td>\n",
       "      <td>-0.0519</td>\n",
       "      <td>0.0129</td>\n",
       "      <td>0.0293</td>\n",
       "      <td>0.1097</td>\n",
       "      <td>-0.0048</td>\n",
       "      <td>0.0808</td>\n",
       "      <td>0.0177</td>\n",
       "      <td>0.0814</td>\n",
       "      <td>0.0039</td>\n",
       "      <td>...</td>\n",
       "      <td>0.0083</td>\n",
       "      <td>0.0922</td>\n",
       "      <td>0.0206</td>\n",
       "      <td>0.0770</td>\n",
       "      <td>0.0193</td>\n",
       "      <td>-0.2379</td>\n",
       "      <td>0.0007</td>\n",
       "      <td>0.0187</td>\n",
       "      <td>0.0037</td>\n",
       "      <td>0.0520</td>\n",
       "    </tr>\n",
       "    <tr>\n",
       "      <th>1926-08</th>\n",
       "      <td>0.0259</td>\n",
       "      <td>0.2703</td>\n",
       "      <td>0.0650</td>\n",
       "      <td>0.0055</td>\n",
       "      <td>0.1001</td>\n",
       "      <td>-0.0358</td>\n",
       "      <td>-0.0251</td>\n",
       "      <td>0.0425</td>\n",
       "      <td>0.0550</td>\n",
       "      <td>0.0814</td>\n",
       "      <td>...</td>\n",
       "      <td>0.0217</td>\n",
       "      <td>0.0202</td>\n",
       "      <td>0.0439</td>\n",
       "      <td>-0.0238</td>\n",
       "      <td>0.0488</td>\n",
       "      <td>0.0539</td>\n",
       "      <td>-0.0075</td>\n",
       "      <td>-0.0013</td>\n",
       "      <td>0.0446</td>\n",
       "      <td>0.0676</td>\n",
       "    </tr>\n",
       "    <tr>\n",
       "      <th>1926-09</th>\n",
       "      <td>0.0116</td>\n",
       "      <td>0.0402</td>\n",
       "      <td>0.0126</td>\n",
       "      <td>0.0658</td>\n",
       "      <td>-0.0099</td>\n",
       "      <td>0.0073</td>\n",
       "      <td>-0.0051</td>\n",
       "      <td>0.0069</td>\n",
       "      <td>0.0533</td>\n",
       "      <td>0.0231</td>\n",
       "      <td>...</td>\n",
       "      <td>0.0241</td>\n",
       "      <td>0.0225</td>\n",
       "      <td>0.0019</td>\n",
       "      <td>-0.0554</td>\n",
       "      <td>0.0005</td>\n",
       "      <td>-0.0787</td>\n",
       "      <td>0.0025</td>\n",
       "      <td>-0.0056</td>\n",
       "      <td>-0.0123</td>\n",
       "      <td>-0.0386</td>\n",
       "    </tr>\n",
       "    <tr>\n",
       "      <th>1926-10</th>\n",
       "      <td>-0.0306</td>\n",
       "      <td>-0.0331</td>\n",
       "      <td>0.0106</td>\n",
       "      <td>-0.0476</td>\n",
       "      <td>0.0947</td>\n",
       "      <td>-0.0468</td>\n",
       "      <td>0.0012</td>\n",
       "      <td>-0.0057</td>\n",
       "      <td>-0.0476</td>\n",
       "      <td>0.0100</td>\n",
       "      <td>...</td>\n",
       "      <td>-0.0011</td>\n",
       "      <td>-0.0200</td>\n",
       "      <td>-0.0109</td>\n",
       "      <td>-0.0508</td>\n",
       "      <td>-0.0264</td>\n",
       "      <td>-0.1538</td>\n",
       "      <td>-0.0220</td>\n",
       "      <td>-0.0411</td>\n",
       "      <td>-0.0516</td>\n",
       "      <td>-0.0849</td>\n",
       "    </tr>\n",
       "    <tr>\n",
       "      <th>1926-11</th>\n",
       "      <td>0.0635</td>\n",
       "      <td>0.0729</td>\n",
       "      <td>0.0455</td>\n",
       "      <td>0.0166</td>\n",
       "      <td>-0.0580</td>\n",
       "      <td>-0.0054</td>\n",
       "      <td>0.0187</td>\n",
       "      <td>0.0542</td>\n",
       "      <td>0.0520</td>\n",
       "      <td>0.0311</td>\n",
       "      <td>...</td>\n",
       "      <td>0.0163</td>\n",
       "      <td>0.0377</td>\n",
       "      <td>0.0364</td>\n",
       "      <td>0.0384</td>\n",
       "      <td>0.0160</td>\n",
       "      <td>0.0467</td>\n",
       "      <td>0.0652</td>\n",
       "      <td>0.0433</td>\n",
       "      <td>0.0224</td>\n",
       "      <td>0.0400</td>\n",
       "    </tr>\n",
       "  </tbody>\n",
       "</table>\n",
       "<p>5 rows × 30 columns</p>\n",
       "</div>"
      ],
      "text/plain": [
       "          Food    Beer    Smoke   Games   Books   Hshld   Clths   Hlth   \\\n",
       "1926-07  0.0056 -0.0519  0.0129  0.0293  0.1097 -0.0048  0.0808  0.0177   \n",
       "1926-08  0.0259  0.2703  0.0650  0.0055  0.1001 -0.0358 -0.0251  0.0425   \n",
       "1926-09  0.0116  0.0402  0.0126  0.0658 -0.0099  0.0073 -0.0051  0.0069   \n",
       "1926-10 -0.0306 -0.0331  0.0106 -0.0476  0.0947 -0.0468  0.0012 -0.0057   \n",
       "1926-11  0.0635  0.0729  0.0455  0.0166 -0.0580 -0.0054  0.0187  0.0542   \n",
       "\n",
       "          Chems   Txtls  ...   Telcm   Servs   BusEq   Paper   Trans   Whlsl  \\\n",
       "1926-07  0.0814  0.0039  ...  0.0083  0.0922  0.0206  0.0770  0.0193 -0.2379   \n",
       "1926-08  0.0550  0.0814  ...  0.0217  0.0202  0.0439 -0.0238  0.0488  0.0539   \n",
       "1926-09  0.0533  0.0231  ...  0.0241  0.0225  0.0019 -0.0554  0.0005 -0.0787   \n",
       "1926-10 -0.0476  0.0100  ... -0.0011 -0.0200 -0.0109 -0.0508 -0.0264 -0.1538   \n",
       "1926-11  0.0520  0.0311  ...  0.0163  0.0377  0.0364  0.0384  0.0160  0.0467   \n",
       "\n",
       "          Rtail   Meals   Fin     Other  \n",
       "1926-07  0.0007  0.0187  0.0037  0.0520  \n",
       "1926-08 -0.0075 -0.0013  0.0446  0.0676  \n",
       "1926-09  0.0025 -0.0056 -0.0123 -0.0386  \n",
       "1926-10 -0.0220 -0.0411 -0.0516 -0.0849  \n",
       "1926-11  0.0652  0.0433  0.0224  0.0400  \n",
       "\n",
       "[5 rows x 30 columns]"
      ]
     },
     "execution_count": 4,
     "metadata": {},
     "output_type": "execute_result"
    }
   ],
   "source": [
    "ind.head()"
   ]
  },
  {
   "cell_type": "code",
   "execution_count": 5,
   "metadata": {},
   "outputs": [
    {
     "data": {
      "text/plain": [
       "Index(['Food ', 'Beer ', 'Smoke', 'Games', 'Books', 'Hshld', 'Clths', 'Hlth ',\n",
       "       'Chems', 'Txtls', 'Cnstr', 'Steel', 'FabPr', 'ElcEq', 'Autos', 'Carry',\n",
       "       'Mines', 'Coal ', 'Oil  ', 'Util ', 'Telcm', 'Servs', 'BusEq', 'Paper',\n",
       "       'Trans', 'Whlsl', 'Rtail', 'Meals', 'Fin  ', 'Other'],\n",
       "      dtype='object')"
      ]
     },
     "execution_count": 5,
     "metadata": {},
     "output_type": "execute_result"
    }
   ],
   "source": [
    "ind.columns"
   ]
  },
  {
   "cell_type": "code",
   "execution_count": 6,
   "metadata": {},
   "outputs": [],
   "source": [
    "ind.columns = ind.columns.str.strip()"
   ]
  },
  {
   "cell_type": "code",
   "execution_count": 7,
   "metadata": {},
   "outputs": [
    {
     "data": {
      "text/plain": [
       "Index(['Food', 'Beer', 'Smoke', 'Games', 'Books', 'Hshld', 'Clths', 'Hlth',\n",
       "       'Chems', 'Txtls', 'Cnstr', 'Steel', 'FabPr', 'ElcEq', 'Autos', 'Carry',\n",
       "       'Mines', 'Coal', 'Oil', 'Util', 'Telcm', 'Servs', 'BusEq', 'Paper',\n",
       "       'Trans', 'Whlsl', 'Rtail', 'Meals', 'Fin', 'Other'],\n",
       "      dtype='object')"
      ]
     },
     "execution_count": 7,
     "metadata": {},
     "output_type": "execute_result"
    }
   ],
   "source": [
    "ind.columns"
   ]
  },
  {
   "cell_type": "code",
   "execution_count": 8,
   "metadata": {},
   "outputs": [
    {
     "data": {
      "text/plain": [
       "(1110, 30)"
      ]
     },
     "execution_count": 8,
     "metadata": {},
     "output_type": "execute_result"
    }
   ],
   "source": [
    "ind.shape"
   ]
  },
  {
   "cell_type": "code",
   "execution_count": 9,
   "metadata": {},
   "outputs": [
    {
     "name": "stdout",
     "output_type": "stream",
     "text": [
      "120\n"
     ]
    }
   ],
   "source": [
    "import pandas as pd\n",
    "\n",
    "# ایجاد یک سری از اعداد\n",
    "numbers = pd.Series([1, 2, 3, 4, 5])\n",
    "\n",
    "# استفاده از تابع .prod() برای محاسبه محصول این اعداد\n",
    "product_of_numbers = numbers.prod()\n",
    "\n",
    "print(product_of_numbers)\n"
   ]
  },
  {
   "cell_type": "markdown",
   "metadata": {},
   "source": [
    "12 برای ماهانه \n",
    "\n",
    "252 روزانه\n",
    "\n",
    "52 هفتگی"
   ]
  },
  {
   "cell_type": "code",
   "execution_count": 10,
   "metadata": {},
   "outputs": [],
   "source": [
    "# add to ma\n",
    "\n",
    "def annualize_rets(s, periods_per_year):\n",
    "    '''\n",
    "    بازده سالانه را محاسبه میکند\n",
    "    periods_per_year ===> 12, 52, 252, \n",
    "    '''\n",
    "\n",
    "    growth = (1 + s).prod()\n",
    "    n_period_growth = s.size\n",
    "\n",
    "    return growth**(periods_per_year/n_period_growth) - 1\n",
    "\n"
   ]
  },
  {
   "cell_type": "code",
   "execution_count": 11,
   "metadata": {},
   "outputs": [
    {
     "data": {
      "text/plain": [
       "Food     0.003384\n",
       "Beer     0.003786\n",
       "Smoke    0.003854\n",
       "Games    0.002933\n",
       "Books    0.002542\n",
       "Hshld    0.002984\n",
       "Clths    0.002984\n",
       "Hlth     0.003687\n",
       "Chems    0.003404\n",
       "Txtls    0.002672\n",
       "Cnstr    0.002760\n",
       "Steel    0.002193\n",
       "FabPr    0.003126\n",
       "ElcEq    0.003460\n",
       "Autos    0.003011\n",
       "Carry    0.003398\n",
       "Mines    0.002444\n",
       "Coal     0.002024\n",
       "Oil      0.003234\n",
       "Util     0.002881\n",
       "Telcm    0.002958\n",
       "Servs    0.003461\n",
       "BusEq    0.003560\n",
       "Paper    0.003367\n",
       "Trans    0.002695\n",
       "Whlsl    0.002177\n",
       "Rtail    0.003407\n",
       "Meals    0.003383\n",
       "Fin      0.003126\n",
       "Other    0.002219\n",
       "dtype: float64"
      ]
     },
     "execution_count": 11,
     "metadata": {},
     "output_type": "execute_result"
    }
   ],
   "source": [
    "annualize_rets(ind,12)"
   ]
  },
  {
   "cell_type": "code",
   "execution_count": 12,
   "metadata": {},
   "outputs": [],
   "source": [
    "\n",
    "\n",
    "def annualize_vol(s, periods_per_year, ddof=1):\n",
    "    '''\n",
    "    نوسان سالانه را محاسبه میکند\n",
    "    periods_per_year ===> 12, 52, 252,  \n",
    "    '''\n",
    "\n",
    "    return s.std(ddof=ddof) * (periods_per_year)**(0.5)\n",
    "\n",
    "       \n",
    "   "
   ]
  },
  {
   "cell_type": "code",
   "execution_count": 13,
   "metadata": {},
   "outputs": [
    {
     "name": "stdout",
     "output_type": "stream",
     "text": [
      "      numbers\n",
      "mean      3.0\n",
      "max       5.0\n"
     ]
    }
   ],
   "source": [
    "import pandas as pd\n",
    "\n",
    "# ایجاد یک DataFrame ساده با یک ستون اعداد\n",
    "df = pd.DataFrame({'numbers': [1, 2, 3, 4, 5]})\n",
    "\n",
    "# استفاده از تابع aggregate برای محاسبه میانگین و حداکثر\n",
    "result = df.aggregate(['mean', 'max'])\n",
    "\n",
    "print(result)\n"
   ]
  },
  {
   "cell_type": "code",
   "execution_count": 14,
   "metadata": {},
   "outputs": [],
   "source": [
    "\n",
    "\n",
    "\n",
    "def sharpe_ratio(s, risk_free_rate, periods_per_year, v=None):\n",
    "    '''\n",
    "    محاسبه نسبت شارپ سالانه \n",
    "    periods_per_year ===> 12, 52, 252,  \n",
    "    '''\n",
    "\n",
    "    \n",
    "\n",
    "        # نرخ سالانه بدون ریسک را به دوره تبدیل میکنیم با این فرض که:\n",
    "        # RFR_year = (1+RFR_period)^{periods_per_year} - 1.\n",
    "    rf_to_period = (1 + risk_free_rate)**(1/periods_per_year) - 1        \n",
    "    excess_return = s - rf_to_period\n",
    "    # اکنون، بازده اضافی را سالانه می کنیم\n",
    "    ann_ex_rets = annualize_rets(excess_return, periods_per_year)\n",
    "    # محاسبه نوسانات سالانه\n",
    "    ann_vol = annualize_vol(s, periods_per_year)\n",
    "    return ann_ex_rets / ann_vol\n",
    "    \n",
    "   "
   ]
  },
  {
   "cell_type": "code",
   "execution_count": 15,
   "metadata": {},
   "outputs": [
    {
     "data": {
      "text/html": [
       "<div>\n",
       "<style scoped>\n",
       "    .dataframe tbody tr th:only-of-type {\n",
       "        vertical-align: middle;\n",
       "    }\n",
       "\n",
       "    .dataframe tbody tr th {\n",
       "        vertical-align: top;\n",
       "    }\n",
       "\n",
       "    .dataframe thead th {\n",
       "        text-align: right;\n",
       "    }\n",
       "</style>\n",
       "<table border=\"1\" class=\"dataframe\">\n",
       "  <thead>\n",
       "    <tr style=\"text-align: right;\">\n",
       "      <th></th>\n",
       "      <th>Food</th>\n",
       "      <th>Beer</th>\n",
       "      <th>Smoke</th>\n",
       "      <th>Games</th>\n",
       "      <th>Books</th>\n",
       "      <th>Hshld</th>\n",
       "      <th>Clths</th>\n",
       "      <th>Hlth</th>\n",
       "      <th>Chems</th>\n",
       "      <th>Txtls</th>\n",
       "      <th>...</th>\n",
       "      <th>Telcm</th>\n",
       "      <th>Servs</th>\n",
       "      <th>BusEq</th>\n",
       "      <th>Paper</th>\n",
       "      <th>Trans</th>\n",
       "      <th>Whlsl</th>\n",
       "      <th>Rtail</th>\n",
       "      <th>Meals</th>\n",
       "      <th>Fin</th>\n",
       "      <th>Other</th>\n",
       "    </tr>\n",
       "  </thead>\n",
       "  <tbody>\n",
       "    <tr>\n",
       "      <th>1926-07</th>\n",
       "      <td>0.0056</td>\n",
       "      <td>-0.0519</td>\n",
       "      <td>0.0129</td>\n",
       "      <td>0.0293</td>\n",
       "      <td>0.1097</td>\n",
       "      <td>-0.0048</td>\n",
       "      <td>0.0808</td>\n",
       "      <td>0.0177</td>\n",
       "      <td>0.0814</td>\n",
       "      <td>0.0039</td>\n",
       "      <td>...</td>\n",
       "      <td>0.0083</td>\n",
       "      <td>0.0922</td>\n",
       "      <td>0.0206</td>\n",
       "      <td>0.0770</td>\n",
       "      <td>0.0193</td>\n",
       "      <td>-0.2379</td>\n",
       "      <td>0.0007</td>\n",
       "      <td>0.0187</td>\n",
       "      <td>0.0037</td>\n",
       "      <td>0.0520</td>\n",
       "    </tr>\n",
       "    <tr>\n",
       "      <th>1926-08</th>\n",
       "      <td>0.0259</td>\n",
       "      <td>0.2703</td>\n",
       "      <td>0.0650</td>\n",
       "      <td>0.0055</td>\n",
       "      <td>0.1001</td>\n",
       "      <td>-0.0358</td>\n",
       "      <td>-0.0251</td>\n",
       "      <td>0.0425</td>\n",
       "      <td>0.0550</td>\n",
       "      <td>0.0814</td>\n",
       "      <td>...</td>\n",
       "      <td>0.0217</td>\n",
       "      <td>0.0202</td>\n",
       "      <td>0.0439</td>\n",
       "      <td>-0.0238</td>\n",
       "      <td>0.0488</td>\n",
       "      <td>0.0539</td>\n",
       "      <td>-0.0075</td>\n",
       "      <td>-0.0013</td>\n",
       "      <td>0.0446</td>\n",
       "      <td>0.0676</td>\n",
       "    </tr>\n",
       "    <tr>\n",
       "      <th>1926-09</th>\n",
       "      <td>0.0116</td>\n",
       "      <td>0.0402</td>\n",
       "      <td>0.0126</td>\n",
       "      <td>0.0658</td>\n",
       "      <td>-0.0099</td>\n",
       "      <td>0.0073</td>\n",
       "      <td>-0.0051</td>\n",
       "      <td>0.0069</td>\n",
       "      <td>0.0533</td>\n",
       "      <td>0.0231</td>\n",
       "      <td>...</td>\n",
       "      <td>0.0241</td>\n",
       "      <td>0.0225</td>\n",
       "      <td>0.0019</td>\n",
       "      <td>-0.0554</td>\n",
       "      <td>0.0005</td>\n",
       "      <td>-0.0787</td>\n",
       "      <td>0.0025</td>\n",
       "      <td>-0.0056</td>\n",
       "      <td>-0.0123</td>\n",
       "      <td>-0.0386</td>\n",
       "    </tr>\n",
       "    <tr>\n",
       "      <th>1926-10</th>\n",
       "      <td>-0.0306</td>\n",
       "      <td>-0.0331</td>\n",
       "      <td>0.0106</td>\n",
       "      <td>-0.0476</td>\n",
       "      <td>0.0947</td>\n",
       "      <td>-0.0468</td>\n",
       "      <td>0.0012</td>\n",
       "      <td>-0.0057</td>\n",
       "      <td>-0.0476</td>\n",
       "      <td>0.0100</td>\n",
       "      <td>...</td>\n",
       "      <td>-0.0011</td>\n",
       "      <td>-0.0200</td>\n",
       "      <td>-0.0109</td>\n",
       "      <td>-0.0508</td>\n",
       "      <td>-0.0264</td>\n",
       "      <td>-0.1538</td>\n",
       "      <td>-0.0220</td>\n",
       "      <td>-0.0411</td>\n",
       "      <td>-0.0516</td>\n",
       "      <td>-0.0849</td>\n",
       "    </tr>\n",
       "    <tr>\n",
       "      <th>1926-11</th>\n",
       "      <td>0.0635</td>\n",
       "      <td>0.0729</td>\n",
       "      <td>0.0455</td>\n",
       "      <td>0.0166</td>\n",
       "      <td>-0.0580</td>\n",
       "      <td>-0.0054</td>\n",
       "      <td>0.0187</td>\n",
       "      <td>0.0542</td>\n",
       "      <td>0.0520</td>\n",
       "      <td>0.0311</td>\n",
       "      <td>...</td>\n",
       "      <td>0.0163</td>\n",
       "      <td>0.0377</td>\n",
       "      <td>0.0364</td>\n",
       "      <td>0.0384</td>\n",
       "      <td>0.0160</td>\n",
       "      <td>0.0467</td>\n",
       "      <td>0.0652</td>\n",
       "      <td>0.0433</td>\n",
       "      <td>0.0224</td>\n",
       "      <td>0.0400</td>\n",
       "    </tr>\n",
       "  </tbody>\n",
       "</table>\n",
       "<p>5 rows × 30 columns</p>\n",
       "</div>"
      ],
      "text/plain": [
       "           Food    Beer   Smoke   Games   Books   Hshld   Clths    Hlth  \\\n",
       "1926-07  0.0056 -0.0519  0.0129  0.0293  0.1097 -0.0048  0.0808  0.0177   \n",
       "1926-08  0.0259  0.2703  0.0650  0.0055  0.1001 -0.0358 -0.0251  0.0425   \n",
       "1926-09  0.0116  0.0402  0.0126  0.0658 -0.0099  0.0073 -0.0051  0.0069   \n",
       "1926-10 -0.0306 -0.0331  0.0106 -0.0476  0.0947 -0.0468  0.0012 -0.0057   \n",
       "1926-11  0.0635  0.0729  0.0455  0.0166 -0.0580 -0.0054  0.0187  0.0542   \n",
       "\n",
       "          Chems   Txtls  ...   Telcm   Servs   BusEq   Paper   Trans   Whlsl  \\\n",
       "1926-07  0.0814  0.0039  ...  0.0083  0.0922  0.0206  0.0770  0.0193 -0.2379   \n",
       "1926-08  0.0550  0.0814  ...  0.0217  0.0202  0.0439 -0.0238  0.0488  0.0539   \n",
       "1926-09  0.0533  0.0231  ...  0.0241  0.0225  0.0019 -0.0554  0.0005 -0.0787   \n",
       "1926-10 -0.0476  0.0100  ... -0.0011 -0.0200 -0.0109 -0.0508 -0.0264 -0.1538   \n",
       "1926-11  0.0520  0.0311  ...  0.0163  0.0377  0.0364  0.0384  0.0160  0.0467   \n",
       "\n",
       "          Rtail   Meals     Fin   Other  \n",
       "1926-07  0.0007  0.0187  0.0037  0.0520  \n",
       "1926-08 -0.0075 -0.0013  0.0446  0.0676  \n",
       "1926-09  0.0025 -0.0056 -0.0123 -0.0386  \n",
       "1926-10 -0.0220 -0.0411 -0.0516 -0.0849  \n",
       "1926-11  0.0652  0.0433  0.0224  0.0400  \n",
       "\n",
       "[5 rows x 30 columns]"
      ]
     },
     "execution_count": 15,
     "metadata": {},
     "output_type": "execute_result"
    }
   ],
   "source": [
    "ind.head()"
   ]
  },
  {
   "cell_type": "code",
   "execution_count": 16,
   "metadata": {},
   "outputs": [
    {
     "data": {
      "text/plain": [
       "Coal     0.002767\n",
       "Steel    0.004129\n",
       "Whlsl    0.004701\n",
       "Other    0.005267\n",
       "Mines    0.005780\n",
       "Books    0.006279\n",
       "Games    0.006300\n",
       "Txtls    0.006339\n",
       "Trans    0.006978\n",
       "Autos    0.007365\n",
       "Cnstr    0.007450\n",
       "FabPr    0.008572\n",
       "Servs    0.008593\n",
       "Fin      0.009119\n",
       "Carry    0.009201\n",
       "ElcEq    0.009423\n",
       "Clths    0.009490\n",
       "Hshld    0.009951\n",
       "Util     0.009953\n",
       "Oil      0.010657\n",
       "Meals    0.010710\n",
       "BusEq    0.011011\n",
       "Chems    0.011098\n",
       "Beer     0.011256\n",
       "Rtail    0.011723\n",
       "Paper    0.011742\n",
       "Telcm    0.012414\n",
       "Hlth     0.014029\n",
       "Smoke    0.014269\n",
       "Food     0.014638\n",
       "dtype: float64"
      ]
     },
     "execution_count": 16,
     "metadata": {},
     "output_type": "execute_result"
    }
   ],
   "source": [
    "sharpe_ratio(ind, 0.03, 12).sort_values()"
   ]
  },
  {
   "cell_type": "code",
   "execution_count": 17,
   "metadata": {},
   "outputs": [
    {
     "data": {
      "text/plain": [
       "<Axes: title={'center': ' 1926-2018'}>"
      ]
     },
     "execution_count": 17,
     "metadata": {},
     "output_type": "execute_result"
    },
    {
     "data": {
      "image/png": "[encoded data removed]",
      "text/plain": [
       "<Figure size 640x480 with 1 Axes>"
      ]
     },
     "metadata": {},
     "output_type": "display_data"
    }
   ],
   "source": [
    "sharpe_ratio(ind, 0.03, 12).sort_values().plot.bar(title=\" 1926-2018\")"
   ]
  },
  {
   "cell_type": "code",
   "execution_count": 18,
   "metadata": {},
   "outputs": [
    {
     "data": {
      "text/plain": [
       "<Axes: title={'center': 'Sharp ratio from 2000'}>"
      ]
     },
     "execution_count": 18,
     "metadata": {},
     "output_type": "execute_result"
    },
    {
     "data": {
      "image/png": "[encoded data removed]",
      "text/plain": [
       "<Figure size 640x480 with 1 Axes>"
      ]
     },
     "metadata": {},
     "output_type": "display_data"
    }
   ],
   "source": [
    "sharpe_ratio(ind[\"2000\":], 0.03, 12).sort_values().plot.bar(title='Sharp ratio from 2000')"
   ]
  },
  {
   "cell_type": "code",
   "execution_count": 19,
   "metadata": {},
   "outputs": [
    {
     "data": {
      "text/plain": [
       "<Axes: title={'center': 'Sharp ratio from 2015'}>"
      ]
     },
     "execution_count": 19,
     "metadata": {},
     "output_type": "execute_result"
    },
    {
     "data": {
      "image/png": "[encoded data removed]",
      "text/plain": [
       "<Figure size 640x480 with 1 Axes>"
      ]
     },
     "metadata": {},
     "output_type": "display_data"
    }
   ],
   "source": [
    "sharpe_ratio(ind[\"2015\":], 0.03, 12).sort_values().plot.bar(title='Sharp ratio from 2015')"
   ]
  },
  {
   "cell_type": "code",
   "execution_count": 20,
   "metadata": {},
   "outputs": [],
   "source": [
    "\n",
    "\n",
    "def portfolio_return(weights, returns):\n",
    "    \"\"\"\n",
    "    بازده پورتفولیو را از بازده و وزن تشکیل دهنده محاسبه می کند\n",
    "    weights ====> numpy array or Nx1 matrix  \n",
    "    returns ====> numpy array or Nx1 matrix\n",
    "    \"\"\"\n",
    "    return weights.T @ returns\n"
   ]
  },
  {
   "cell_type": "code",
   "execution_count": 21,
   "metadata": {},
   "outputs": [],
   "source": [
    "\n",
    "\n",
    "def portfolio_vol(weights, covmat):\n",
    "    \"\"\"\n",
    "    نوسان پورتفولیو را از روی ماتریس کوواریانس و وزن اجزای تشکیل دهنده محاسبه می کند\n",
    "    weights ====> numpy array or Nx1 matrix\n",
    "    covmat  ====> N x N matrix\n",
    "    \"\"\"\n",
    "    weights=np.array(weights)\n",
    "    return (weights.T @ covmat @ weights)**0.5"
   ]
  },
  {
   "cell_type": "code",
   "execution_count": 22,
   "metadata": {},
   "outputs": [],
   "source": [
    "ind = ma.get_ind_returns()\n",
    "er = annualize_rets(ind[\"1996\":\"2000\"], 12)\n",
    "cov = ind[\"1996\":\"2000\"].cov()"
   ]
  },
  {
   "cell_type": "code",
   "execution_count": 23,
   "metadata": {},
   "outputs": [
    {
     "data": {
      "text/html": [
       "<div>\n",
       "<style scoped>\n",
       "    .dataframe tbody tr th:only-of-type {\n",
       "        vertical-align: middle;\n",
       "    }\n",
       "\n",
       "    .dataframe tbody tr th {\n",
       "        vertical-align: top;\n",
       "    }\n",
       "\n",
       "    .dataframe thead th {\n",
       "        text-align: right;\n",
       "    }\n",
       "</style>\n",
       "<table border=\"1\" class=\"dataframe\">\n",
       "  <thead>\n",
       "    <tr style=\"text-align: right;\">\n",
       "      <th></th>\n",
       "      <th>Food</th>\n",
       "      <th>Beer</th>\n",
       "      <th>Smoke</th>\n",
       "      <th>Games</th>\n",
       "      <th>Books</th>\n",
       "      <th>Hshld</th>\n",
       "      <th>Clths</th>\n",
       "      <th>Hlth</th>\n",
       "      <th>Chems</th>\n",
       "      <th>Txtls</th>\n",
       "      <th>...</th>\n",
       "      <th>Telcm</th>\n",
       "      <th>Servs</th>\n",
       "      <th>BusEq</th>\n",
       "      <th>Paper</th>\n",
       "      <th>Trans</th>\n",
       "      <th>Whlsl</th>\n",
       "      <th>Rtail</th>\n",
       "      <th>Meals</th>\n",
       "      <th>Fin</th>\n",
       "      <th>Other</th>\n",
       "    </tr>\n",
       "  </thead>\n",
       "  <tbody>\n",
       "    <tr>\n",
       "      <th>Food</th>\n",
       "      <td>0.002609</td>\n",
       "      <td>0.002379</td>\n",
       "      <td>0.002061</td>\n",
       "      <td>0.000846</td>\n",
       "      <td>0.001035</td>\n",
       "      <td>0.001374</td>\n",
       "      <td>0.001733</td>\n",
       "      <td>0.001230</td>\n",
       "      <td>0.001414</td>\n",
       "      <td>0.001216</td>\n",
       "      <td>...</td>\n",
       "      <td>0.000667</td>\n",
       "      <td>0.000237</td>\n",
       "      <td>-0.000315</td>\n",
       "      <td>0.001429</td>\n",
       "      <td>0.001534</td>\n",
       "      <td>0.000740</td>\n",
       "      <td>0.001363</td>\n",
       "      <td>0.001230</td>\n",
       "      <td>0.002132</td>\n",
       "      <td>0.001057</td>\n",
       "    </tr>\n",
       "    <tr>\n",
       "      <th>Beer</th>\n",
       "      <td>0.002379</td>\n",
       "      <td>0.005264</td>\n",
       "      <td>0.001359</td>\n",
       "      <td>0.001348</td>\n",
       "      <td>0.000865</td>\n",
       "      <td>0.002804</td>\n",
       "      <td>0.001704</td>\n",
       "      <td>0.001955</td>\n",
       "      <td>0.001460</td>\n",
       "      <td>0.002005</td>\n",
       "      <td>...</td>\n",
       "      <td>0.001146</td>\n",
       "      <td>0.000438</td>\n",
       "      <td>0.000007</td>\n",
       "      <td>0.001710</td>\n",
       "      <td>0.002284</td>\n",
       "      <td>0.000697</td>\n",
       "      <td>0.001690</td>\n",
       "      <td>0.001822</td>\n",
       "      <td>0.002571</td>\n",
       "      <td>0.001383</td>\n",
       "    </tr>\n",
       "    <tr>\n",
       "      <th>Smoke</th>\n",
       "      <td>0.002061</td>\n",
       "      <td>0.001359</td>\n",
       "      <td>0.008349</td>\n",
       "      <td>0.000379</td>\n",
       "      <td>-0.000128</td>\n",
       "      <td>0.001167</td>\n",
       "      <td>0.000950</td>\n",
       "      <td>0.001038</td>\n",
       "      <td>0.000853</td>\n",
       "      <td>0.000779</td>\n",
       "      <td>...</td>\n",
       "      <td>0.000062</td>\n",
       "      <td>-0.000218</td>\n",
       "      <td>-0.000120</td>\n",
       "      <td>0.001327</td>\n",
       "      <td>0.000396</td>\n",
       "      <td>0.001707</td>\n",
       "      <td>0.000105</td>\n",
       "      <td>0.000703</td>\n",
       "      <td>0.001312</td>\n",
       "      <td>0.001741</td>\n",
       "    </tr>\n",
       "    <tr>\n",
       "      <th>Games</th>\n",
       "      <td>0.000846</td>\n",
       "      <td>0.001348</td>\n",
       "      <td>0.000379</td>\n",
       "      <td>0.003773</td>\n",
       "      <td>0.001726</td>\n",
       "      <td>0.001206</td>\n",
       "      <td>0.002189</td>\n",
       "      <td>0.001433</td>\n",
       "      <td>0.001775</td>\n",
       "      <td>0.001422</td>\n",
       "      <td>...</td>\n",
       "      <td>0.001922</td>\n",
       "      <td>0.002848</td>\n",
       "      <td>0.003434</td>\n",
       "      <td>0.001852</td>\n",
       "      <td>0.001578</td>\n",
       "      <td>0.001966</td>\n",
       "      <td>0.001872</td>\n",
       "      <td>0.001561</td>\n",
       "      <td>0.002416</td>\n",
       "      <td>0.002382</td>\n",
       "    </tr>\n",
       "    <tr>\n",
       "      <th>Books</th>\n",
       "      <td>0.001035</td>\n",
       "      <td>0.000865</td>\n",
       "      <td>-0.000128</td>\n",
       "      <td>0.001726</td>\n",
       "      <td>0.002612</td>\n",
       "      <td>0.001025</td>\n",
       "      <td>0.002361</td>\n",
       "      <td>0.000758</td>\n",
       "      <td>0.001731</td>\n",
       "      <td>0.001459</td>\n",
       "      <td>...</td>\n",
       "      <td>0.001918</td>\n",
       "      <td>0.002367</td>\n",
       "      <td>0.001944</td>\n",
       "      <td>0.001638</td>\n",
       "      <td>0.001776</td>\n",
       "      <td>0.001392</td>\n",
       "      <td>0.002223</td>\n",
       "      <td>0.001189</td>\n",
       "      <td>0.002261</td>\n",
       "      <td>0.001442</td>\n",
       "    </tr>\n",
       "    <tr>\n",
       "      <th>Hshld</th>\n",
       "      <td>0.001374</td>\n",
       "      <td>0.002804</td>\n",
       "      <td>0.001167</td>\n",
       "      <td>0.001206</td>\n",
       "      <td>0.001025</td>\n",
       "      <td>0.003300</td>\n",
       "      <td>0.001320</td>\n",
       "      <td>0.001473</td>\n",
       "      <td>0.001413</td>\n",
       "      <td>0.001364</td>\n",
       "      <td>...</td>\n",
       "      <td>0.001060</td>\n",
       "      <td>0.001310</td>\n",
       "      <td>0.001102</td>\n",
       "      <td>0.001873</td>\n",
       "      <td>0.001582</td>\n",
       "      <td>0.000683</td>\n",
       "      <td>0.001378</td>\n",
       "      <td>0.001202</td>\n",
       "      <td>0.001912</td>\n",
       "      <td>0.001580</td>\n",
       "    </tr>\n",
       "    <tr>\n",
       "      <th>Clths</th>\n",
       "      <td>0.001733</td>\n",
       "      <td>0.001704</td>\n",
       "      <td>0.000950</td>\n",
       "      <td>0.002189</td>\n",
       "      <td>0.002361</td>\n",
       "      <td>0.001320</td>\n",
       "      <td>0.005655</td>\n",
       "      <td>0.000834</td>\n",
       "      <td>0.002932</td>\n",
       "      <td>0.002472</td>\n",
       "      <td>...</td>\n",
       "      <td>0.001436</td>\n",
       "      <td>0.001625</td>\n",
       "      <td>0.000834</td>\n",
       "      <td>0.003165</td>\n",
       "      <td>0.002862</td>\n",
       "      <td>0.001934</td>\n",
       "      <td>0.003013</td>\n",
       "      <td>0.002721</td>\n",
       "      <td>0.003210</td>\n",
       "      <td>0.002299</td>\n",
       "    </tr>\n",
       "    <tr>\n",
       "      <th>Hlth</th>\n",
       "      <td>0.001230</td>\n",
       "      <td>0.001955</td>\n",
       "      <td>0.001038</td>\n",
       "      <td>0.001433</td>\n",
       "      <td>0.000758</td>\n",
       "      <td>0.001473</td>\n",
       "      <td>0.000834</td>\n",
       "      <td>0.002565</td>\n",
       "      <td>0.000474</td>\n",
       "      <td>0.000608</td>\n",
       "      <td>...</td>\n",
       "      <td>0.001204</td>\n",
       "      <td>0.001651</td>\n",
       "      <td>0.001535</td>\n",
       "      <td>0.000650</td>\n",
       "      <td>0.000944</td>\n",
       "      <td>0.001056</td>\n",
       "      <td>0.000869</td>\n",
       "      <td>0.000986</td>\n",
       "      <td>0.001617</td>\n",
       "      <td>0.001258</td>\n",
       "    </tr>\n",
       "    <tr>\n",
       "      <th>Chems</th>\n",
       "      <td>0.001414</td>\n",
       "      <td>0.001460</td>\n",
       "      <td>0.000853</td>\n",
       "      <td>0.001775</td>\n",
       "      <td>0.001731</td>\n",
       "      <td>0.001413</td>\n",
       "      <td>0.002932</td>\n",
       "      <td>0.000474</td>\n",
       "      <td>0.003276</td>\n",
       "      <td>0.001868</td>\n",
       "      <td>...</td>\n",
       "      <td>0.001004</td>\n",
       "      <td>0.001203</td>\n",
       "      <td>0.001031</td>\n",
       "      <td>0.002920</td>\n",
       "      <td>0.002196</td>\n",
       "      <td>0.001404</td>\n",
       "      <td>0.001808</td>\n",
       "      <td>0.001646</td>\n",
       "      <td>0.002469</td>\n",
       "      <td>0.002059</td>\n",
       "    </tr>\n",
       "    <tr>\n",
       "      <th>Txtls</th>\n",
       "      <td>0.001216</td>\n",
       "      <td>0.002005</td>\n",
       "      <td>0.000779</td>\n",
       "      <td>0.001422</td>\n",
       "      <td>0.001459</td>\n",
       "      <td>0.001364</td>\n",
       "      <td>0.002472</td>\n",
       "      <td>0.000608</td>\n",
       "      <td>0.001868</td>\n",
       "      <td>0.003117</td>\n",
       "      <td>...</td>\n",
       "      <td>0.000907</td>\n",
       "      <td>0.000666</td>\n",
       "      <td>0.000702</td>\n",
       "      <td>0.002058</td>\n",
       "      <td>0.001929</td>\n",
       "      <td>0.001610</td>\n",
       "      <td>0.001805</td>\n",
       "      <td>0.001250</td>\n",
       "      <td>0.001986</td>\n",
       "      <td>0.001811</td>\n",
       "    </tr>\n",
       "    <tr>\n",
       "      <th>Cnstr</th>\n",
       "      <td>0.001487</td>\n",
       "      <td>0.002268</td>\n",
       "      <td>0.001446</td>\n",
       "      <td>0.002013</td>\n",
       "      <td>0.001753</td>\n",
       "      <td>0.002080</td>\n",
       "      <td>0.002937</td>\n",
       "      <td>0.001399</td>\n",
       "      <td>0.002088</td>\n",
       "      <td>0.001860</td>\n",
       "      <td>...</td>\n",
       "      <td>0.001732</td>\n",
       "      <td>0.002543</td>\n",
       "      <td>0.002310</td>\n",
       "      <td>0.002205</td>\n",
       "      <td>0.002302</td>\n",
       "      <td>0.001685</td>\n",
       "      <td>0.002136</td>\n",
       "      <td>0.002100</td>\n",
       "      <td>0.002708</td>\n",
       "      <td>0.001810</td>\n",
       "    </tr>\n",
       "    <tr>\n",
       "      <th>Steel</th>\n",
       "      <td>0.000070</td>\n",
       "      <td>0.000213</td>\n",
       "      <td>0.000322</td>\n",
       "      <td>0.003132</td>\n",
       "      <td>0.001992</td>\n",
       "      <td>0.001296</td>\n",
       "      <td>0.001895</td>\n",
       "      <td>0.001019</td>\n",
       "      <td>0.002588</td>\n",
       "      <td>0.001322</td>\n",
       "      <td>...</td>\n",
       "      <td>0.002390</td>\n",
       "      <td>0.004607</td>\n",
       "      <td>0.005890</td>\n",
       "      <td>0.002551</td>\n",
       "      <td>0.001656</td>\n",
       "      <td>0.002543</td>\n",
       "      <td>0.001447</td>\n",
       "      <td>0.000660</td>\n",
       "      <td>0.002178</td>\n",
       "      <td>0.003864</td>\n",
       "    </tr>\n",
       "    <tr>\n",
       "      <th>FabPr</th>\n",
       "      <td>0.000742</td>\n",
       "      <td>0.000769</td>\n",
       "      <td>0.000912</td>\n",
       "      <td>0.002848</td>\n",
       "      <td>0.001947</td>\n",
       "      <td>0.001343</td>\n",
       "      <td>0.002834</td>\n",
       "      <td>0.000896</td>\n",
       "      <td>0.002536</td>\n",
       "      <td>0.001691</td>\n",
       "      <td>...</td>\n",
       "      <td>0.001708</td>\n",
       "      <td>0.003056</td>\n",
       "      <td>0.004275</td>\n",
       "      <td>0.002669</td>\n",
       "      <td>0.002119</td>\n",
       "      <td>0.002383</td>\n",
       "      <td>0.001835</td>\n",
       "      <td>0.001725</td>\n",
       "      <td>0.002319</td>\n",
       "      <td>0.002756</td>\n",
       "    </tr>\n",
       "    <tr>\n",
       "      <th>ElcEq</th>\n",
       "      <td>0.001313</td>\n",
       "      <td>0.001236</td>\n",
       "      <td>0.000006</td>\n",
       "      <td>0.002386</td>\n",
       "      <td>0.002426</td>\n",
       "      <td>0.001675</td>\n",
       "      <td>0.002593</td>\n",
       "      <td>0.001260</td>\n",
       "      <td>0.001755</td>\n",
       "      <td>0.001222</td>\n",
       "      <td>...</td>\n",
       "      <td>0.002429</td>\n",
       "      <td>0.004001</td>\n",
       "      <td>0.003618</td>\n",
       "      <td>0.001794</td>\n",
       "      <td>0.001888</td>\n",
       "      <td>0.001246</td>\n",
       "      <td>0.002738</td>\n",
       "      <td>0.001526</td>\n",
       "      <td>0.002717</td>\n",
       "      <td>0.001825</td>\n",
       "    </tr>\n",
       "    <tr>\n",
       "      <th>Autos</th>\n",
       "      <td>0.000618</td>\n",
       "      <td>0.001520</td>\n",
       "      <td>0.000314</td>\n",
       "      <td>0.002371</td>\n",
       "      <td>0.001723</td>\n",
       "      <td>0.001760</td>\n",
       "      <td>0.002887</td>\n",
       "      <td>0.001019</td>\n",
       "      <td>0.002034</td>\n",
       "      <td>0.001982</td>\n",
       "      <td>...</td>\n",
       "      <td>0.001856</td>\n",
       "      <td>0.002125</td>\n",
       "      <td>0.002668</td>\n",
       "      <td>0.002186</td>\n",
       "      <td>0.002279</td>\n",
       "      <td>0.001754</td>\n",
       "      <td>0.002011</td>\n",
       "      <td>0.001952</td>\n",
       "      <td>0.002604</td>\n",
       "      <td>0.002343</td>\n",
       "    </tr>\n",
       "    <tr>\n",
       "      <th>Carry</th>\n",
       "      <td>0.001583</td>\n",
       "      <td>0.002015</td>\n",
       "      <td>0.001812</td>\n",
       "      <td>0.001874</td>\n",
       "      <td>0.001422</td>\n",
       "      <td>0.001975</td>\n",
       "      <td>0.003301</td>\n",
       "      <td>0.000784</td>\n",
       "      <td>0.002592</td>\n",
       "      <td>0.002035</td>\n",
       "      <td>...</td>\n",
       "      <td>0.000945</td>\n",
       "      <td>0.001171</td>\n",
       "      <td>0.001393</td>\n",
       "      <td>0.002968</td>\n",
       "      <td>0.002450</td>\n",
       "      <td>0.001629</td>\n",
       "      <td>0.001845</td>\n",
       "      <td>0.002108</td>\n",
       "      <td>0.002721</td>\n",
       "      <td>0.002404</td>\n",
       "    </tr>\n",
       "    <tr>\n",
       "      <th>Mines</th>\n",
       "      <td>0.000909</td>\n",
       "      <td>0.000278</td>\n",
       "      <td>0.001588</td>\n",
       "      <td>0.001777</td>\n",
       "      <td>0.001304</td>\n",
       "      <td>0.000687</td>\n",
       "      <td>0.002685</td>\n",
       "      <td>0.001223</td>\n",
       "      <td>0.002425</td>\n",
       "      <td>0.001291</td>\n",
       "      <td>...</td>\n",
       "      <td>0.001683</td>\n",
       "      <td>0.002565</td>\n",
       "      <td>0.002536</td>\n",
       "      <td>0.002802</td>\n",
       "      <td>0.001639</td>\n",
       "      <td>0.002250</td>\n",
       "      <td>0.001487</td>\n",
       "      <td>0.001403</td>\n",
       "      <td>0.001979</td>\n",
       "      <td>0.002876</td>\n",
       "    </tr>\n",
       "    <tr>\n",
       "      <th>Coal</th>\n",
       "      <td>0.000027</td>\n",
       "      <td>0.001728</td>\n",
       "      <td>-0.000733</td>\n",
       "      <td>0.001888</td>\n",
       "      <td>0.002426</td>\n",
       "      <td>0.002300</td>\n",
       "      <td>0.002792</td>\n",
       "      <td>0.001902</td>\n",
       "      <td>0.002213</td>\n",
       "      <td>0.000732</td>\n",
       "      <td>...</td>\n",
       "      <td>0.001118</td>\n",
       "      <td>0.003013</td>\n",
       "      <td>0.003240</td>\n",
       "      <td>0.002560</td>\n",
       "      <td>0.001635</td>\n",
       "      <td>0.002197</td>\n",
       "      <td>0.000490</td>\n",
       "      <td>0.000614</td>\n",
       "      <td>0.002946</td>\n",
       "      <td>0.001691</td>\n",
       "    </tr>\n",
       "    <tr>\n",
       "      <th>Oil</th>\n",
       "      <td>0.001079</td>\n",
       "      <td>0.000733</td>\n",
       "      <td>0.000984</td>\n",
       "      <td>0.001119</td>\n",
       "      <td>0.000988</td>\n",
       "      <td>0.000620</td>\n",
       "      <td>0.001924</td>\n",
       "      <td>0.000597</td>\n",
       "      <td>0.002077</td>\n",
       "      <td>0.001274</td>\n",
       "      <td>...</td>\n",
       "      <td>0.000488</td>\n",
       "      <td>0.001220</td>\n",
       "      <td>0.001158</td>\n",
       "      <td>0.001820</td>\n",
       "      <td>0.001496</td>\n",
       "      <td>0.001658</td>\n",
       "      <td>0.000918</td>\n",
       "      <td>0.001262</td>\n",
       "      <td>0.001896</td>\n",
       "      <td>0.001950</td>\n",
       "    </tr>\n",
       "    <tr>\n",
       "      <th>Util</th>\n",
       "      <td>0.000943</td>\n",
       "      <td>0.000643</td>\n",
       "      <td>0.001274</td>\n",
       "      <td>0.000036</td>\n",
       "      <td>0.000550</td>\n",
       "      <td>0.000373</td>\n",
       "      <td>0.000800</td>\n",
       "      <td>0.000572</td>\n",
       "      <td>0.000673</td>\n",
       "      <td>0.000926</td>\n",
       "      <td>...</td>\n",
       "      <td>0.000107</td>\n",
       "      <td>-0.000624</td>\n",
       "      <td>-0.001087</td>\n",
       "      <td>0.000524</td>\n",
       "      <td>0.000603</td>\n",
       "      <td>0.000879</td>\n",
       "      <td>-0.000076</td>\n",
       "      <td>0.000301</td>\n",
       "      <td>0.001094</td>\n",
       "      <td>0.001013</td>\n",
       "    </tr>\n",
       "    <tr>\n",
       "      <th>Telcm</th>\n",
       "      <td>0.000667</td>\n",
       "      <td>0.001146</td>\n",
       "      <td>0.000062</td>\n",
       "      <td>0.001922</td>\n",
       "      <td>0.001918</td>\n",
       "      <td>0.001060</td>\n",
       "      <td>0.001436</td>\n",
       "      <td>0.001204</td>\n",
       "      <td>0.001004</td>\n",
       "      <td>0.000907</td>\n",
       "      <td>...</td>\n",
       "      <td>0.003569</td>\n",
       "      <td>0.003556</td>\n",
       "      <td>0.003260</td>\n",
       "      <td>0.001308</td>\n",
       "      <td>0.001541</td>\n",
       "      <td>0.001187</td>\n",
       "      <td>0.002042</td>\n",
       "      <td>0.001179</td>\n",
       "      <td>0.001787</td>\n",
       "      <td>0.001321</td>\n",
       "    </tr>\n",
       "    <tr>\n",
       "      <th>Servs</th>\n",
       "      <td>0.000237</td>\n",
       "      <td>0.000438</td>\n",
       "      <td>-0.000218</td>\n",
       "      <td>0.002848</td>\n",
       "      <td>0.002367</td>\n",
       "      <td>0.001310</td>\n",
       "      <td>0.001625</td>\n",
       "      <td>0.001651</td>\n",
       "      <td>0.001203</td>\n",
       "      <td>0.000666</td>\n",
       "      <td>...</td>\n",
       "      <td>0.003556</td>\n",
       "      <td>0.007612</td>\n",
       "      <td>0.007098</td>\n",
       "      <td>0.001300</td>\n",
       "      <td>0.001397</td>\n",
       "      <td>0.002083</td>\n",
       "      <td>0.002888</td>\n",
       "      <td>0.001121</td>\n",
       "      <td>0.001961</td>\n",
       "      <td>0.002396</td>\n",
       "    </tr>\n",
       "    <tr>\n",
       "      <th>BusEq</th>\n",
       "      <td>-0.000315</td>\n",
       "      <td>0.000007</td>\n",
       "      <td>-0.000120</td>\n",
       "      <td>0.003434</td>\n",
       "      <td>0.001944</td>\n",
       "      <td>0.001102</td>\n",
       "      <td>0.000834</td>\n",
       "      <td>0.001535</td>\n",
       "      <td>0.001031</td>\n",
       "      <td>0.000702</td>\n",
       "      <td>...</td>\n",
       "      <td>0.003260</td>\n",
       "      <td>0.007098</td>\n",
       "      <td>0.009620</td>\n",
       "      <td>0.001414</td>\n",
       "      <td>0.001282</td>\n",
       "      <td>0.002515</td>\n",
       "      <td>0.002021</td>\n",
       "      <td>0.000724</td>\n",
       "      <td>0.001689</td>\n",
       "      <td>0.002674</td>\n",
       "    </tr>\n",
       "    <tr>\n",
       "      <th>Paper</th>\n",
       "      <td>0.001429</td>\n",
       "      <td>0.001710</td>\n",
       "      <td>0.001327</td>\n",
       "      <td>0.001852</td>\n",
       "      <td>0.001638</td>\n",
       "      <td>0.001873</td>\n",
       "      <td>0.003165</td>\n",
       "      <td>0.000650</td>\n",
       "      <td>0.002920</td>\n",
       "      <td>0.002058</td>\n",
       "      <td>...</td>\n",
       "      <td>0.001308</td>\n",
       "      <td>0.001300</td>\n",
       "      <td>0.001414</td>\n",
       "      <td>0.003409</td>\n",
       "      <td>0.002361</td>\n",
       "      <td>0.001576</td>\n",
       "      <td>0.001819</td>\n",
       "      <td>0.001642</td>\n",
       "      <td>0.002495</td>\n",
       "      <td>0.001911</td>\n",
       "    </tr>\n",
       "    <tr>\n",
       "      <th>Trans</th>\n",
       "      <td>0.001534</td>\n",
       "      <td>0.002284</td>\n",
       "      <td>0.000396</td>\n",
       "      <td>0.001578</td>\n",
       "      <td>0.001776</td>\n",
       "      <td>0.001582</td>\n",
       "      <td>0.002862</td>\n",
       "      <td>0.000944</td>\n",
       "      <td>0.002196</td>\n",
       "      <td>0.001929</td>\n",
       "      <td>...</td>\n",
       "      <td>0.001541</td>\n",
       "      <td>0.001397</td>\n",
       "      <td>0.001282</td>\n",
       "      <td>0.002361</td>\n",
       "      <td>0.002852</td>\n",
       "      <td>0.001190</td>\n",
       "      <td>0.002044</td>\n",
       "      <td>0.001963</td>\n",
       "      <td>0.002598</td>\n",
       "      <td>0.001712</td>\n",
       "    </tr>\n",
       "    <tr>\n",
       "      <th>Whlsl</th>\n",
       "      <td>0.000740</td>\n",
       "      <td>0.000697</td>\n",
       "      <td>0.001707</td>\n",
       "      <td>0.001966</td>\n",
       "      <td>0.001392</td>\n",
       "      <td>0.000683</td>\n",
       "      <td>0.001934</td>\n",
       "      <td>0.001056</td>\n",
       "      <td>0.001404</td>\n",
       "      <td>0.001610</td>\n",
       "      <td>...</td>\n",
       "      <td>0.001187</td>\n",
       "      <td>0.002083</td>\n",
       "      <td>0.002515</td>\n",
       "      <td>0.001576</td>\n",
       "      <td>0.001190</td>\n",
       "      <td>0.002734</td>\n",
       "      <td>0.001202</td>\n",
       "      <td>0.000961</td>\n",
       "      <td>0.001882</td>\n",
       "      <td>0.002197</td>\n",
       "    </tr>\n",
       "    <tr>\n",
       "      <th>Rtail</th>\n",
       "      <td>0.001363</td>\n",
       "      <td>0.001690</td>\n",
       "      <td>0.000105</td>\n",
       "      <td>0.001872</td>\n",
       "      <td>0.002223</td>\n",
       "      <td>0.001378</td>\n",
       "      <td>0.003013</td>\n",
       "      <td>0.000869</td>\n",
       "      <td>0.001808</td>\n",
       "      <td>0.001805</td>\n",
       "      <td>...</td>\n",
       "      <td>0.002042</td>\n",
       "      <td>0.002888</td>\n",
       "      <td>0.002021</td>\n",
       "      <td>0.001819</td>\n",
       "      <td>0.002044</td>\n",
       "      <td>0.001202</td>\n",
       "      <td>0.003480</td>\n",
       "      <td>0.002187</td>\n",
       "      <td>0.002313</td>\n",
       "      <td>0.001399</td>\n",
       "    </tr>\n",
       "    <tr>\n",
       "      <th>Meals</th>\n",
       "      <td>0.001230</td>\n",
       "      <td>0.001822</td>\n",
       "      <td>0.000703</td>\n",
       "      <td>0.001561</td>\n",
       "      <td>0.001189</td>\n",
       "      <td>0.001202</td>\n",
       "      <td>0.002721</td>\n",
       "      <td>0.000986</td>\n",
       "      <td>0.001646</td>\n",
       "      <td>0.001250</td>\n",
       "      <td>...</td>\n",
       "      <td>0.001179</td>\n",
       "      <td>0.001121</td>\n",
       "      <td>0.000724</td>\n",
       "      <td>0.001642</td>\n",
       "      <td>0.001963</td>\n",
       "      <td>0.000961</td>\n",
       "      <td>0.002187</td>\n",
       "      <td>0.002979</td>\n",
       "      <td>0.002026</td>\n",
       "      <td>0.001247</td>\n",
       "    </tr>\n",
       "    <tr>\n",
       "      <th>Fin</th>\n",
       "      <td>0.002132</td>\n",
       "      <td>0.002571</td>\n",
       "      <td>0.001312</td>\n",
       "      <td>0.002416</td>\n",
       "      <td>0.002261</td>\n",
       "      <td>0.001912</td>\n",
       "      <td>0.003210</td>\n",
       "      <td>0.001617</td>\n",
       "      <td>0.002469</td>\n",
       "      <td>0.001986</td>\n",
       "      <td>...</td>\n",
       "      <td>0.001787</td>\n",
       "      <td>0.001961</td>\n",
       "      <td>0.001689</td>\n",
       "      <td>0.002495</td>\n",
       "      <td>0.002598</td>\n",
       "      <td>0.001882</td>\n",
       "      <td>0.002313</td>\n",
       "      <td>0.002026</td>\n",
       "      <td>0.003982</td>\n",
       "      <td>0.002243</td>\n",
       "    </tr>\n",
       "    <tr>\n",
       "      <th>Other</th>\n",
       "      <td>0.001057</td>\n",
       "      <td>0.001383</td>\n",
       "      <td>0.001741</td>\n",
       "      <td>0.002382</td>\n",
       "      <td>0.001442</td>\n",
       "      <td>0.001580</td>\n",
       "      <td>0.002299</td>\n",
       "      <td>0.001258</td>\n",
       "      <td>0.002059</td>\n",
       "      <td>0.001811</td>\n",
       "      <td>...</td>\n",
       "      <td>0.001321</td>\n",
       "      <td>0.002396</td>\n",
       "      <td>0.002674</td>\n",
       "      <td>0.001911</td>\n",
       "      <td>0.001712</td>\n",
       "      <td>0.002197</td>\n",
       "      <td>0.001399</td>\n",
       "      <td>0.001247</td>\n",
       "      <td>0.002243</td>\n",
       "      <td>0.004200</td>\n",
       "    </tr>\n",
       "  </tbody>\n",
       "</table>\n",
       "<p>30 rows × 30 columns</p>\n",
       "</div>"
      ],
      "text/plain": [
       "           Food      Beer     Smoke     Games     Books     Hshld     Clths  \\\n",
       "Food   0.002609  0.002379  0.002061  0.000846  0.001035  0.001374  0.001733   \n",
       "Beer   0.002379  0.005264  0.001359  0.001348  0.000865  0.002804  0.001704   \n",
       "Smoke  0.002061  0.001359  0.008349  0.000379 -0.000128  0.001167  0.000950   \n",
       "Games  0.000846  0.001348  0.000379  0.003773  0.001726  0.001206  0.002189   \n",
       "Books  0.001035  0.000865 -0.000128  0.001726  0.002612  0.001025  0.002361   \n",
       "Hshld  0.001374  0.002804  0.001167  0.001206  0.001025  0.003300  0.001320   \n",
       "Clths  0.001733  0.001704  0.000950  0.002189  0.002361  0.001320  0.005655   \n",
       "Hlth   0.001230  0.001955  0.001038  0.001433  0.000758  0.001473  0.000834   \n",
       "Chems  0.001414  0.001460  0.000853  0.001775  0.001731  0.001413  0.002932   \n",
       "Txtls  0.001216  0.002005  0.000779  0.001422  0.001459  0.001364  0.002472   \n",
       "Cnstr  0.001487  0.002268  0.001446  0.002013  0.001753  0.002080  0.002937   \n",
       "Steel  0.000070  0.000213  0.000322  0.003132  0.001992  0.001296  0.001895   \n",
       "FabPr  0.000742  0.000769  0.000912  0.002848  0.001947  0.001343  0.002834   \n",
       "ElcEq  0.001313  0.001236  0.000006  0.002386  0.002426  0.001675  0.002593   \n",
       "Autos  0.000618  0.001520  0.000314  0.002371  0.001723  0.001760  0.002887   \n",
       "Carry  0.001583  0.002015  0.001812  0.001874  0.001422  0.001975  0.003301   \n",
       "Mines  0.000909  0.000278  0.001588  0.001777  0.001304  0.000687  0.002685   \n",
       "Coal   0.000027  0.001728 -0.000733  0.001888  0.002426  0.002300  0.002792   \n",
       "Oil    0.001079  0.000733  0.000984  0.001119  0.000988  0.000620  0.001924   \n",
       "Util   0.000943  0.000643  0.001274  0.000036  0.000550  0.000373  0.000800   \n",
       "Telcm  0.000667  0.001146  0.000062  0.001922  0.001918  0.001060  0.001436   \n",
       "Servs  0.000237  0.000438 -0.000218  0.002848  0.002367  0.001310  0.001625   \n",
       "BusEq -0.000315  0.000007 -0.000120  0.003434  0.001944  0.001102  0.000834   \n",
       "Paper  0.001429  0.001710  0.001327  0.001852  0.001638  0.001873  0.003165   \n",
       "Trans  0.001534  0.002284  0.000396  0.001578  0.001776  0.001582  0.002862   \n",
       "Whlsl  0.000740  0.000697  0.001707  0.001966  0.001392  0.000683  0.001934   \n",
       "Rtail  0.001363  0.001690  0.000105  0.001872  0.002223  0.001378  0.003013   \n",
       "Meals  0.001230  0.001822  0.000703  0.001561  0.001189  0.001202  0.002721   \n",
       "Fin    0.002132  0.002571  0.001312  0.002416  0.002261  0.001912  0.003210   \n",
       "Other  0.001057  0.001383  0.001741  0.002382  0.001442  0.001580  0.002299   \n",
       "\n",
       "           Hlth     Chems     Txtls  ...     Telcm     Servs     BusEq  \\\n",
       "Food   0.001230  0.001414  0.001216  ...  0.000667  0.000237 -0.000315   \n",
       "Beer   0.001955  0.001460  0.002005  ...  0.001146  0.000438  0.000007   \n",
       "Smoke  0.001038  0.000853  0.000779  ...  0.000062 -0.000218 -0.000120   \n",
       "Games  0.001433  0.001775  0.001422  ...  0.001922  0.002848  0.003434   \n",
       "Books  0.000758  0.001731  0.001459  ...  0.001918  0.002367  0.001944   \n",
       "Hshld  0.001473  0.001413  0.001364  ...  0.001060  0.001310  0.001102   \n",
       "Clths  0.000834  0.002932  0.002472  ...  0.001436  0.001625  0.000834   \n",
       "Hlth   0.002565  0.000474  0.000608  ...  0.001204  0.001651  0.001535   \n",
       "Chems  0.000474  0.003276  0.001868  ...  0.001004  0.001203  0.001031   \n",
       "Txtls  0.000608  0.001868  0.003117  ...  0.000907  0.000666  0.000702   \n",
       "Cnstr  0.001399  0.002088  0.001860  ...  0.001732  0.002543  0.002310   \n",
       "Steel  0.001019  0.002588  0.001322  ...  0.002390  0.004607  0.005890   \n",
       "FabPr  0.000896  0.002536  0.001691  ...  0.001708  0.003056  0.004275   \n",
       "ElcEq  0.001260  0.001755  0.001222  ...  0.002429  0.004001  0.003618   \n",
       "Autos  0.001019  0.002034  0.001982  ...  0.001856  0.002125  0.002668   \n",
       "Carry  0.000784  0.002592  0.002035  ...  0.000945  0.001171  0.001393   \n",
       "Mines  0.001223  0.002425  0.001291  ...  0.001683  0.002565  0.002536   \n",
       "Coal   0.001902  0.002213  0.000732  ...  0.001118  0.003013  0.003240   \n",
       "Oil    0.000597  0.002077  0.001274  ...  0.000488  0.001220  0.001158   \n",
       "Util   0.000572  0.000673  0.000926  ...  0.000107 -0.000624 -0.001087   \n",
       "Telcm  0.001204  0.001004  0.000907  ...  0.003569  0.003556  0.003260   \n",
       "Servs  0.001651  0.001203  0.000666  ...  0.003556  0.007612  0.007098   \n",
       "BusEq  0.001535  0.001031  0.000702  ...  0.003260  0.007098  0.009620   \n",
       "Paper  0.000650  0.002920  0.002058  ...  0.001308  0.001300  0.001414   \n",
       "Trans  0.000944  0.002196  0.001929  ...  0.001541  0.001397  0.001282   \n",
       "Whlsl  0.001056  0.001404  0.001610  ...  0.001187  0.002083  0.002515   \n",
       "Rtail  0.000869  0.001808  0.001805  ...  0.002042  0.002888  0.002021   \n",
       "Meals  0.000986  0.001646  0.001250  ...  0.001179  0.001121  0.000724   \n",
       "Fin    0.001617  0.002469  0.001986  ...  0.001787  0.001961  0.001689   \n",
       "Other  0.001258  0.002059  0.001811  ...  0.001321  0.002396  0.002674   \n",
       "\n",
       "          Paper     Trans     Whlsl     Rtail     Meals       Fin     Other  \n",
       "Food   0.001429  0.001534  0.000740  0.001363  0.001230  0.002132  0.001057  \n",
       "Beer   0.001710  0.002284  0.000697  0.001690  0.001822  0.002571  0.001383  \n",
       "Smoke  0.001327  0.000396  0.001707  0.000105  0.000703  0.001312  0.001741  \n",
       "Games  0.001852  0.001578  0.001966  0.001872  0.001561  0.002416  0.002382  \n",
       "Books  0.001638  0.001776  0.001392  0.002223  0.001189  0.002261  0.001442  \n",
       "Hshld  0.001873  0.001582  0.000683  0.001378  0.001202  0.001912  0.001580  \n",
       "Clths  0.003165  0.002862  0.001934  0.003013  0.002721  0.003210  0.002299  \n",
       "Hlth   0.000650  0.000944  0.001056  0.000869  0.000986  0.001617  0.001258  \n",
       "Chems  0.002920  0.002196  0.001404  0.001808  0.001646  0.002469  0.002059  \n",
       "Txtls  0.002058  0.001929  0.001610  0.001805  0.001250  0.001986  0.001811  \n",
       "Cnstr  0.002205  0.002302  0.001685  0.002136  0.002100  0.002708  0.001810  \n",
       "Steel  0.002551  0.001656  0.002543  0.001447  0.000660  0.002178  0.003864  \n",
       "FabPr  0.002669  0.002119  0.002383  0.001835  0.001725  0.002319  0.002756  \n",
       "ElcEq  0.001794  0.001888  0.001246  0.002738  0.001526  0.002717  0.001825  \n",
       "Autos  0.002186  0.002279  0.001754  0.002011  0.001952  0.002604  0.002343  \n",
       "Carry  0.002968  0.002450  0.001629  0.001845  0.002108  0.002721  0.002404  \n",
       "Mines  0.002802  0.001639  0.002250  0.001487  0.001403  0.001979  0.002876  \n",
       "Coal   0.002560  0.001635  0.002197  0.000490  0.000614  0.002946  0.001691  \n",
       "Oil    0.001820  0.001496  0.001658  0.000918  0.001262  0.001896  0.001950  \n",
       "Util   0.000524  0.000603  0.000879 -0.000076  0.000301  0.001094  0.001013  \n",
       "Telcm  0.001308  0.001541  0.001187  0.002042  0.001179  0.001787  0.001321  \n",
       "Servs  0.001300  0.001397  0.002083  0.002888  0.001121  0.001961  0.002396  \n",
       "BusEq  0.001414  0.001282  0.002515  0.002021  0.000724  0.001689  0.002674  \n",
       "Paper  0.003409  0.002361  0.001576  0.001819  0.001642  0.002495  0.001911  \n",
       "Trans  0.002361  0.002852  0.001190  0.002044  0.001963  0.002598  0.001712  \n",
       "Whlsl  0.001576  0.001190  0.002734  0.001202  0.000961  0.001882  0.002197  \n",
       "Rtail  0.001819  0.002044  0.001202  0.003480  0.002187  0.002313  0.001399  \n",
       "Meals  0.001642  0.001963  0.000961  0.002187  0.002979  0.002026  0.001247  \n",
       "Fin    0.002495  0.002598  0.001882  0.002313  0.002026  0.003982  0.002243  \n",
       "Other  0.001911  0.001712  0.002197  0.001399  0.001247  0.002243  0.004200  \n",
       "\n",
       "[30 rows x 30 columns]"
      ]
     },
     "execution_count": 23,
     "metadata": {},
     "output_type": "execute_result"
    }
   ],
   "source": [
    "cov"
   ]
  },
  {
   "cell_type": "code",
   "execution_count": 24,
   "metadata": {},
   "outputs": [],
   "source": [
    "l = [\"Food\", \"Beer\", \"Smoke\", \"Coal\"]"
   ]
  },
  {
   "cell_type": "code",
   "execution_count": 25,
   "metadata": {},
   "outputs": [
    {
     "data": {
      "text/plain": [
       "Food     0.003689\n",
       "Beer     0.004410\n",
       "Smoke    0.003419\n",
       "Coal     0.011631\n",
       "dtype: float64"
      ]
     },
     "execution_count": 25,
     "metadata": {},
     "output_type": "execute_result"
    }
   ],
   "source": [
    "er[l]"
   ]
  },
  {
   "cell_type": "code",
   "execution_count": 26,
   "metadata": {},
   "outputs": [
    {
     "data": {
      "text/html": [
       "<div>\n",
       "<style scoped>\n",
       "    .dataframe tbody tr th:only-of-type {\n",
       "        vertical-align: middle;\n",
       "    }\n",
       "\n",
       "    .dataframe tbody tr th {\n",
       "        vertical-align: top;\n",
       "    }\n",
       "\n",
       "    .dataframe thead th {\n",
       "        text-align: right;\n",
       "    }\n",
       "</style>\n",
       "<table border=\"1\" class=\"dataframe\">\n",
       "  <thead>\n",
       "    <tr style=\"text-align: right;\">\n",
       "      <th></th>\n",
       "      <th>Food</th>\n",
       "      <th>Beer</th>\n",
       "      <th>Smoke</th>\n",
       "      <th>Coal</th>\n",
       "    </tr>\n",
       "  </thead>\n",
       "  <tbody>\n",
       "    <tr>\n",
       "      <th>Food</th>\n",
       "      <td>0.002609</td>\n",
       "      <td>0.002379</td>\n",
       "      <td>0.002061</td>\n",
       "      <td>0.000027</td>\n",
       "    </tr>\n",
       "    <tr>\n",
       "      <th>Beer</th>\n",
       "      <td>0.002379</td>\n",
       "      <td>0.005264</td>\n",
       "      <td>0.001359</td>\n",
       "      <td>0.001728</td>\n",
       "    </tr>\n",
       "    <tr>\n",
       "      <th>Smoke</th>\n",
       "      <td>0.002061</td>\n",
       "      <td>0.001359</td>\n",
       "      <td>0.008349</td>\n",
       "      <td>-0.000733</td>\n",
       "    </tr>\n",
       "    <tr>\n",
       "      <th>Coal</th>\n",
       "      <td>0.000027</td>\n",
       "      <td>0.001728</td>\n",
       "      <td>-0.000733</td>\n",
       "      <td>0.018641</td>\n",
       "    </tr>\n",
       "  </tbody>\n",
       "</table>\n",
       "</div>"
      ],
      "text/plain": [
       "           Food      Beer     Smoke      Coal\n",
       "Food   0.002609  0.002379  0.002061  0.000027\n",
       "Beer   0.002379  0.005264  0.001359  0.001728\n",
       "Smoke  0.002061  0.001359  0.008349 -0.000733\n",
       "Coal   0.000027  0.001728 -0.000733  0.018641"
      ]
     },
     "execution_count": 26,
     "metadata": {},
     "output_type": "execute_result"
    }
   ],
   "source": [
    "cov.loc[l,l]"
   ]
  },
  {
   "cell_type": "code",
   "execution_count": 27,
   "metadata": {},
   "outputs": [],
   "source": [
    "ew = np.repeat(0.25, 4)\n"
   ]
  },
  {
   "cell_type": "code",
   "execution_count": 28,
   "metadata": {},
   "outputs": [
    {
     "data": {
      "text/plain": [
       "0.055059195776437045"
      ]
     },
     "execution_count": 28,
     "metadata": {},
     "output_type": "execute_result"
    }
   ],
   "source": [
    "portfolio_vol(ew, cov.loc[l,l])"
   ]
  },
  {
   "cell_type": "code",
   "execution_count": 29,
   "metadata": {},
   "outputs": [],
   "source": [
    "import numpy as np\n",
    "\n",
    "n_points = 20\n",
    "weights = [np.array([w, 1-w]) for w in np.linspace(0, 1, n_points)]\n"
   ]
  },
  {
   "cell_type": "code",
   "execution_count": 30,
   "metadata": {},
   "outputs": [
    {
     "data": {
      "text/plain": [
       "list"
      ]
     },
     "execution_count": 30,
     "metadata": {},
     "output_type": "execute_result"
    }
   ],
   "source": [
    "type(weights)"
   ]
  },
  {
   "cell_type": "code",
   "execution_count": 31,
   "metadata": {},
   "outputs": [
    {
     "data": {
      "text/plain": [
       "20"
      ]
     },
     "execution_count": 31,
     "metadata": {},
     "output_type": "execute_result"
    }
   ],
   "source": [
    "len(weights)"
   ]
  },
  {
   "cell_type": "code",
   "execution_count": 32,
   "metadata": {},
   "outputs": [
    {
     "data": {
      "text/plain": [
       "array([0., 1.])"
      ]
     },
     "execution_count": 32,
     "metadata": {},
     "output_type": "execute_result"
    }
   ],
   "source": [
    "weights[0]"
   ]
  },
  {
   "cell_type": "code",
   "execution_count": 33,
   "metadata": {},
   "outputs": [
    {
     "data": {
      "text/plain": [
       "array([0.21052632, 0.78947368])"
      ]
     },
     "execution_count": 33,
     "metadata": {},
     "output_type": "execute_result"
    }
   ],
   "source": [
    "weights[4]"
   ]
  },
  {
   "cell_type": "code",
   "execution_count": 34,
   "metadata": {},
   "outputs": [
    {
     "data": {
      "text/plain": [
       "array([1., 0.])"
      ]
     },
     "execution_count": 34,
     "metadata": {},
     "output_type": "execute_result"
    }
   ],
   "source": [
    "weights[19]"
   ]
  },
  {
   "cell_type": "code",
   "execution_count": 35,
   "metadata": {},
   "outputs": [
    {
     "data": {
      "text/plain": [
       "<Axes: xlabel='V', ylabel='R'>"
      ]
     },
     "execution_count": 35,
     "metadata": {},
     "output_type": "execute_result"
    },
    {
     "data": {
      "image/png": "[encoded data removed]",
      "text/plain": [
       "<Figure size 640x480 with 1 Axes>"
      ]
     },
     "metadata": {},
     "output_type": "display_data"
    }
   ],
   "source": [
    "l = [\"Games\", \"Fin\"]\n",
    "rets = [portfolio_return(w, er[l]) for w in weights]\n",
    "vols = [portfolio_vol(w, cov.loc[l,l]) for w in weights]\n",
    "ef = pd.DataFrame({\"R\": rets, \"V\": vols})\n",
    "ef.plot.scatter(x=\"V\", y=\"R\")"
   ]
  },
  {
   "cell_type": "code",
   "execution_count": 36,
   "metadata": {},
   "outputs": [],
   "source": [
    "#add to msj\n",
    "\n",
    "def plot_ef2(n_points, er, cov):\n",
    "    \"\"\"\n",
    "    مرز کارا 2 دارایی را ترسیم می کند\n",
    "    \"\"\"\n",
    "    if er.shape[0] != 2 :\n",
    "        raise ValueError(\"plot_ef2 can only plot 2-asset frontiers\")\n",
    "    weights = [np.array([w, 1-w]) for w in np.linspace(0, 1, n_points)]\n",
    "    rets = [portfolio_return(w, er) for w in weights]\n",
    "    vols = [portfolio_vol(w, cov) for w in weights]\n",
    "    ef = pd.DataFrame({\n",
    "        \"Returns\": rets, \n",
    "        \"Volatility\": vols\n",
    "    })\n",
    "    return ef.plot.line(x=\"Volatility\", y=\"Returns\", style=\".-\")"
   ]
  },
  {
   "cell_type": "code",
   "execution_count": 37,
   "metadata": {},
   "outputs": [
    {
     "data": {
      "text/plain": [
       "<Axes: xlabel='Volatility'>"
      ]
     },
     "execution_count": 37,
     "metadata": {},
     "output_type": "execute_result"
    },
    {
     "data": {
      "image/png": "[encoded data removed]",
      "text/plain": [
       "<Figure size 640x480 with 1 Axes>"
      ]
     },
     "metadata": {},
     "output_type": "display_data"
    }
   ],
   "source": [
    "l = [\"Fin\", \"Food\"]\n",
    "plot_ef2(25, er[l].values, cov.loc[l,l])"
   ]
  },
  {
   "cell_type": "code",
   "execution_count": 38,
   "metadata": {},
   "outputs": [],
   "source": [
    "ind = ma.get_ind_returns()\n",
    "er = annualize_rets(ind[\"1996\":\"2000\"], 12)\n",
    "cov = ind[\"1996\":\"2000\"].cov()"
   ]
  },
  {
   "cell_type": "code",
   "execution_count": 39,
   "metadata": {},
   "outputs": [
    {
     "data": {
      "text/plain": [
       "Food     0.003689\n",
       "Beer     0.004410\n",
       "Smoke    0.003419\n",
       "Games    0.002202\n",
       "Books    0.005739\n",
       "Hshld    0.004223\n",
       "Clths    0.002543\n",
       "Hlth     0.007375\n",
       "Chems    0.002490\n",
       "Txtls   -0.001454\n",
       "Cnstr    0.002695\n",
       "Steel    0.003659\n",
       "FabPr    0.003433\n",
       "ElcEq    0.008063\n",
       "Autos    0.002598\n",
       "Carry    0.005359\n",
       "Mines   -0.001833\n",
       "Coal     0.011631\n",
       "Oil      0.005115\n",
       "Util     0.004550\n",
       "Telcm    0.003867\n",
       "Servs    0.005398\n",
       "BusEq    0.008051\n",
       "Paper    0.003096\n",
       "Trans    0.002292\n",
       "Whlsl    0.003976\n",
       "Rtail    0.006298\n",
       "Meals    0.002177\n",
       "Fin      0.006743\n",
       "Other    0.001416\n",
       "dtype: float64"
      ]
     },
     "execution_count": 39,
     "metadata": {},
     "output_type": "execute_result"
    }
   ],
   "source": [
    "er"
   ]
  },
  {
   "cell_type": "code",
   "execution_count": 40,
   "metadata": {},
   "outputs": [],
   "source": [
    "# برای یافتن وزن های بهینه، به تابعی نیاز داریم که نوسانات را برای یک سطح بازده معین به حداقل برساند.\n",
    "\n",
    "\n",
    "\n",
    "from scipy.optimize import minimize\n",
    "\n",
    "def minimize_volatility(rets, covmatrix, target_return=None):\n",
    "\n",
    "    n_assets = rets.shape[0]    \n",
    "    # حدس اولیه\n",
    "    init_guess = np.repeat(1/n_assets, n_assets)\n",
    "    weights_constraint = {\n",
    "        \"type\": \"eq\",\n",
    "        \"fun\": lambda w: 1.0 - np.sum(w)  \n",
    "    }\n",
    "    if target_return is not None:\n",
    "        return_constraint = {\n",
    "            \"type\": \"eq\",\n",
    "            \"args\": (rets,),\n",
    "            \"fun\": lambda w, r: target_return - portfolio_return(w, r)\n",
    "        }\n",
    "        constr = (return_constraint, weights_constraint)\n",
    "    else:\n",
    "        constr = weights_constraint\n",
    "        \n",
    "    result = minimize(portfolio_vol, \n",
    "                      init_guess,\n",
    "                      args = (covmatrix,),\n",
    "                      method = \"SLSQP\",\n",
    "                      options = {\"disp\": False},\n",
    "                      constraints = constr,\n",
    "                      bounds = ((0.0,1.0),)*n_assets ) \n",
    "    return result.x"
   ]
  },
  {
   "cell_type": "markdown",
   "metadata": {},
   "source": [
    "اکنون که می‌توانیم وزن‌هایی را برای به حداقل رساندن انحراف معیار با بازده هدف پیدا کنیم، می‌توانیم مرز کارا را با تقسیم دامنه از بالاترین به پایین‌ترین بازده ممکن در یک شبکه، و یافتن پورتفولیویی که حداقل نوسان را هدف قرار می‌دهد، رسم کنیم."
   ]
  },
  {
   "cell_type": "code",
   "execution_count": 41,
   "metadata": {},
   "outputs": [],
   "source": [
    "\n",
    "\n",
    "def optimal_weights(n_points, rets, covmatrix, periods_per_year):\n",
    "\n",
    "    target_rets = np.linspace(rets.min(), rets.max(), n_points)    \n",
    "    weights = [minimize_volatility(rets, covmatrix, target) for target in target_rets]\n",
    "    return weights"
   ]
  },
  {
   "cell_type": "code",
   "execution_count": null,
   "metadata": {},
   "outputs": [],
   "source": []
  },
  {
   "cell_type": "markdown",
   "metadata": {},
   "source": [
    "### \n",
    "\n",
    "\n",
    "اکنون ما سری های زمانی برخی از سهام های بورس ایالات متحده را دریافت خواهیم کرد و خواهیم دید که چگونه می توان یک پرتفولیو به روشی کارآمد ایجاد کرد."
   ]
  },
  {
   "cell_type": "markdown",
   "metadata": {},
   "source": [
    "## مثال از دنیای واقعی"
   ]
  },
  {
   "cell_type": "code",
   "execution_count": 42,
   "metadata": {},
   "outputs": [],
   "source": [
    "import yfinance as yf"
   ]
  },
  {
   "cell_type": "code",
   "execution_count": 43,
   "metadata": {},
   "outputs": [
    {
     "name": "stderr",
     "output_type": "stream",
     "text": [
      "[*********************100%%**********************]  1 of 1 completed"
     ]
    },
    {
     "name": "stdout",
     "output_type": "stream",
     "text": [
      "                 Open       High        Low      Close  Adj Close    Volume\n",
      "Date                                                                       \n",
      "2020-01-02  55.320000  55.430000  54.759998  54.990002  48.147964  11867700\n",
      "2020-01-03  54.320000  54.990002  54.090000  54.689999  47.885284  11354500\n",
      "2020-01-06  54.650002  54.910000  54.520000  54.669998  47.867783  14698300\n",
      "2020-01-07  54.450001  54.599998  54.150002  54.250000  47.500042   9973900\n",
      "2020-01-08  54.270000  54.639999  54.150002  54.349998  47.587597  10676000\n",
      "...               ...        ...        ...        ...        ...       ...\n",
      "2022-11-23  62.490002  62.790001  62.299999  62.630001  59.808544   8990400\n",
      "2022-11-25  62.730000  62.810001  62.380001  62.689999  59.865845   5165500\n",
      "2022-11-28  62.689999  63.099998  62.560001  62.700001  59.875397  12267500\n",
      "2022-11-29  62.520000  62.570000  61.980000  62.480000  59.665306  10969600\n",
      "2022-11-30  62.009998  63.680000  61.750000  63.610001  61.175209  30433900\n",
      "\n",
      "[735 rows x 6 columns]\n"
     ]
    },
    {
     "name": "stderr",
     "output_type": "stream",
     "text": [
      "\n"
     ]
    }
   ],
   "source": [
    "import yfinance as yf\n",
    "\n",
    "# تنظیمات اضافی برای افزایش زمان تایم‌اوت\n",
    "yf.pdr_override()\n",
    "\n",
    "# دانلود داده‌های تاریخی سهام کوکاکولا با زمان تایم‌اوت بیشتر\n",
    "stocks = yf.download(\"KO\", start=\"2020-01-01\", end=\"2022-12-01\", interval=\"1d\", timeout=20)\n",
    "\n",
    "# نمایش داده‌های دانلود شده\n",
    "print(stocks)\n"
   ]
  },
  {
   "cell_type": "code",
   "execution_count": 44,
   "metadata": {},
   "outputs": [
    {
     "name": "stderr",
     "output_type": "stream",
     "text": [
      "[*********************100%%**********************]  1 of 1 completed\n",
      "[*********************100%%**********************]  1 of 1 completed\n",
      "[*********************100%%**********************]  1 of 1 completed\n"
     ]
    },
    {
     "data": {
      "text/html": [
       "<div>\n",
       "<style scoped>\n",
       "    .dataframe tbody tr th:only-of-type {\n",
       "        vertical-align: middle;\n",
       "    }\n",
       "\n",
       "    .dataframe tbody tr th {\n",
       "        vertical-align: top;\n",
       "    }\n",
       "\n",
       "    .dataframe thead th {\n",
       "        text-align: right;\n",
       "    }\n",
       "</style>\n",
       "<table border=\"1\" class=\"dataframe\">\n",
       "  <thead>\n",
       "    <tr style=\"text-align: right;\">\n",
       "      <th></th>\n",
       "      <th>AMZN</th>\n",
       "      <th>KO</th>\n",
       "      <th>MSFT</th>\n",
       "    </tr>\n",
       "    <tr>\n",
       "      <th>Date</th>\n",
       "      <th></th>\n",
       "      <th></th>\n",
       "      <th></th>\n",
       "    </tr>\n",
       "  </thead>\n",
       "  <tbody>\n",
       "    <tr>\n",
       "      <th>2020-01-02</th>\n",
       "      <td>94.900497</td>\n",
       "      <td>48.147964</td>\n",
       "      <td>154.493820</td>\n",
       "    </tr>\n",
       "    <tr>\n",
       "      <th>2020-01-03</th>\n",
       "      <td>93.748497</td>\n",
       "      <td>47.885284</td>\n",
       "      <td>152.570114</td>\n",
       "    </tr>\n",
       "    <tr>\n",
       "      <th>2020-01-06</th>\n",
       "      <td>95.143997</td>\n",
       "      <td>47.867783</td>\n",
       "      <td>152.964478</td>\n",
       "    </tr>\n",
       "    <tr>\n",
       "      <th>2020-01-07</th>\n",
       "      <td>95.343002</td>\n",
       "      <td>47.500042</td>\n",
       "      <td>151.569809</td>\n",
       "    </tr>\n",
       "    <tr>\n",
       "      <th>2020-01-08</th>\n",
       "      <td>94.598503</td>\n",
       "      <td>47.587597</td>\n",
       "      <td>153.984039</td>\n",
       "    </tr>\n",
       "    <tr>\n",
       "      <th>...</th>\n",
       "      <td>...</td>\n",
       "      <td>...</td>\n",
       "      <td>...</td>\n",
       "    </tr>\n",
       "    <tr>\n",
       "      <th>2022-11-23</th>\n",
       "      <td>94.129997</td>\n",
       "      <td>59.808544</td>\n",
       "      <td>244.951065</td>\n",
       "    </tr>\n",
       "    <tr>\n",
       "      <th>2022-11-25</th>\n",
       "      <td>93.410004</td>\n",
       "      <td>59.865845</td>\n",
       "      <td>244.862000</td>\n",
       "    </tr>\n",
       "    <tr>\n",
       "      <th>2022-11-28</th>\n",
       "      <td>93.949997</td>\n",
       "      <td>59.875397</td>\n",
       "      <td>239.192856</td>\n",
       "    </tr>\n",
       "    <tr>\n",
       "      <th>2022-11-29</th>\n",
       "      <td>92.419998</td>\n",
       "      <td>59.665306</td>\n",
       "      <td>237.778046</td>\n",
       "    </tr>\n",
       "    <tr>\n",
       "      <th>2022-11-30</th>\n",
       "      <td>96.540001</td>\n",
       "      <td>61.175209</td>\n",
       "      <td>252.430771</td>\n",
       "    </tr>\n",
       "  </tbody>\n",
       "</table>\n",
       "<p>735 rows × 3 columns</p>\n",
       "</div>"
      ],
      "text/plain": [
       "                 AMZN         KO        MSFT\n",
       "Date                                        \n",
       "2020-01-02  94.900497  48.147964  154.493820\n",
       "2020-01-03  93.748497  47.885284  152.570114\n",
       "2020-01-06  95.143997  47.867783  152.964478\n",
       "2020-01-07  95.343002  47.500042  151.569809\n",
       "2020-01-08  94.598503  47.587597  153.984039\n",
       "...               ...        ...         ...\n",
       "2022-11-23  94.129997  59.808544  244.951065\n",
       "2022-11-25  93.410004  59.865845  244.862000\n",
       "2022-11-28  93.949997  59.875397  239.192856\n",
       "2022-11-29  92.419998  59.665306  237.778046\n",
       "2022-11-30  96.540001  61.175209  252.430771\n",
       "\n",
       "[735 rows x 3 columns]"
      ]
     },
     "execution_count": 44,
     "metadata": {},
     "output_type": "execute_result"
    }
   ],
   "source": [
    "import yfinance as yf\n",
    "tickers  = [\"AMZN\",\"KO\",\"MSFT\"]\n",
    "n_assets = len(tickers) \n",
    "\n",
    "stocks = pd.DataFrame()\n",
    "for stock_name in tickers:\n",
    "    # داده های روزانه\n",
    "    stocks[stock_name] = yf.download(stock_name, start=\"2020-01-01\", end=\"2022-12-01\" , interval= \"1d\")[\"Adj Close\"]   \n",
    "    \n",
    "stocks"
   ]
  },
  {
   "cell_type": "code",
   "execution_count": 45,
   "metadata": {},
   "outputs": [
    {
     "data": {
      "text/html": [
       "<div>\n",
       "<style scoped>\n",
       "    .dataframe tbody tr th:only-of-type {\n",
       "        vertical-align: middle;\n",
       "    }\n",
       "\n",
       "    .dataframe tbody tr th {\n",
       "        vertical-align: top;\n",
       "    }\n",
       "\n",
       "    .dataframe thead th {\n",
       "        text-align: right;\n",
       "    }\n",
       "</style>\n",
       "<table border=\"1\" class=\"dataframe\">\n",
       "  <thead>\n",
       "    <tr style=\"text-align: right;\">\n",
       "      <th></th>\n",
       "      <th>AMZN</th>\n",
       "      <th>KO</th>\n",
       "      <th>MSFT</th>\n",
       "    </tr>\n",
       "    <tr>\n",
       "      <th>Date</th>\n",
       "      <th></th>\n",
       "      <th></th>\n",
       "      <th></th>\n",
       "    </tr>\n",
       "  </thead>\n",
       "  <tbody>\n",
       "    <tr>\n",
       "      <th>2020-01-02</th>\n",
       "      <td>94.900497</td>\n",
       "      <td>48.147964</td>\n",
       "      <td>154.493820</td>\n",
       "    </tr>\n",
       "    <tr>\n",
       "      <th>2020-01-03</th>\n",
       "      <td>93.748497</td>\n",
       "      <td>47.885284</td>\n",
       "      <td>152.570114</td>\n",
       "    </tr>\n",
       "    <tr>\n",
       "      <th>2020-01-06</th>\n",
       "      <td>95.143997</td>\n",
       "      <td>47.867783</td>\n",
       "      <td>152.964478</td>\n",
       "    </tr>\n",
       "    <tr>\n",
       "      <th>2020-01-07</th>\n",
       "      <td>95.343002</td>\n",
       "      <td>47.500042</td>\n",
       "      <td>151.569809</td>\n",
       "    </tr>\n",
       "    <tr>\n",
       "      <th>2020-01-08</th>\n",
       "      <td>94.598503</td>\n",
       "      <td>47.587597</td>\n",
       "      <td>153.984039</td>\n",
       "    </tr>\n",
       "    <tr>\n",
       "      <th>...</th>\n",
       "      <td>...</td>\n",
       "      <td>...</td>\n",
       "      <td>...</td>\n",
       "    </tr>\n",
       "    <tr>\n",
       "      <th>2022-11-23</th>\n",
       "      <td>94.129997</td>\n",
       "      <td>59.808544</td>\n",
       "      <td>244.951065</td>\n",
       "    </tr>\n",
       "    <tr>\n",
       "      <th>2022-11-25</th>\n",
       "      <td>93.410004</td>\n",
       "      <td>59.865845</td>\n",
       "      <td>244.862000</td>\n",
       "    </tr>\n",
       "    <tr>\n",
       "      <th>2022-11-28</th>\n",
       "      <td>93.949997</td>\n",
       "      <td>59.875397</td>\n",
       "      <td>239.192856</td>\n",
       "    </tr>\n",
       "    <tr>\n",
       "      <th>2022-11-29</th>\n",
       "      <td>92.419998</td>\n",
       "      <td>59.665306</td>\n",
       "      <td>237.778046</td>\n",
       "    </tr>\n",
       "    <tr>\n",
       "      <th>2022-11-30</th>\n",
       "      <td>96.540001</td>\n",
       "      <td>61.175209</td>\n",
       "      <td>252.430771</td>\n",
       "    </tr>\n",
       "  </tbody>\n",
       "</table>\n",
       "<p>735 rows × 3 columns</p>\n",
       "</div>"
      ],
      "text/plain": [
       "                 AMZN         KO        MSFT\n",
       "Date                                        \n",
       "2020-01-02  94.900497  48.147964  154.493820\n",
       "2020-01-03  93.748497  47.885284  152.570114\n",
       "2020-01-06  95.143997  47.867783  152.964478\n",
       "2020-01-07  95.343002  47.500042  151.569809\n",
       "2020-01-08  94.598503  47.587597  153.984039\n",
       "...               ...        ...         ...\n",
       "2022-11-23  94.129997  59.808544  244.951065\n",
       "2022-11-25  93.410004  59.865845  244.862000\n",
       "2022-11-28  93.949997  59.875397  239.192856\n",
       "2022-11-29  92.419998  59.665306  237.778046\n",
       "2022-11-30  96.540001  61.175209  252.430771\n",
       "\n",
       "[735 rows x 3 columns]"
      ]
     },
     "execution_count": 45,
     "metadata": {},
     "output_type": "execute_result"
    }
   ],
   "source": [
    "stocks#.tail()"
   ]
  },
  {
   "cell_type": "code",
   "execution_count": 46,
   "metadata": {},
   "outputs": [],
   "source": [
    "def compute_returns(s):\n",
    "\n",
    "    if isinstance(s, pd.DataFrame):\n",
    "        return s.aggregate( compute_returns )\n",
    "    elif isinstance(s, pd.Series):\n",
    "        return s / s.shift(1) - 1\n",
    "    else:\n",
    "        raise TypeError(\"Expected pd.DataFrame or pd.Series\")"
   ]
  },
  {
   "cell_type": "code",
   "execution_count": 47,
   "metadata": {},
   "outputs": [
    {
     "data": {
      "text/html": [
       "<div>\n",
       "<style scoped>\n",
       "    .dataframe tbody tr th:only-of-type {\n",
       "        vertical-align: middle;\n",
       "    }\n",
       "\n",
       "    .dataframe tbody tr th {\n",
       "        vertical-align: top;\n",
       "    }\n",
       "\n",
       "    .dataframe thead th {\n",
       "        text-align: right;\n",
       "    }\n",
       "</style>\n",
       "<table border=\"1\" class=\"dataframe\">\n",
       "  <thead>\n",
       "    <tr style=\"text-align: right;\">\n",
       "      <th></th>\n",
       "      <th>AMZN</th>\n",
       "      <th>KO</th>\n",
       "      <th>MSFT</th>\n",
       "    </tr>\n",
       "    <tr>\n",
       "      <th>Date</th>\n",
       "      <th></th>\n",
       "      <th></th>\n",
       "      <th></th>\n",
       "    </tr>\n",
       "  </thead>\n",
       "  <tbody>\n",
       "    <tr>\n",
       "      <th>2020-01-03</th>\n",
       "      <td>-0.012139</td>\n",
       "      <td>-0.005456</td>\n",
       "      <td>-0.012452</td>\n",
       "    </tr>\n",
       "    <tr>\n",
       "      <th>2020-01-06</th>\n",
       "      <td>0.014886</td>\n",
       "      <td>-0.000365</td>\n",
       "      <td>0.002585</td>\n",
       "    </tr>\n",
       "    <tr>\n",
       "      <th>2020-01-07</th>\n",
       "      <td>0.002092</td>\n",
       "      <td>-0.007682</td>\n",
       "      <td>-0.009118</td>\n",
       "    </tr>\n",
       "    <tr>\n",
       "      <th>2020-01-08</th>\n",
       "      <td>-0.007809</td>\n",
       "      <td>0.001843</td>\n",
       "      <td>0.015928</td>\n",
       "    </tr>\n",
       "    <tr>\n",
       "      <th>2020-01-09</th>\n",
       "      <td>0.004799</td>\n",
       "      <td>0.018215</td>\n",
       "      <td>0.012493</td>\n",
       "    </tr>\n",
       "    <tr>\n",
       "      <th>...</th>\n",
       "      <td>...</td>\n",
       "      <td>...</td>\n",
       "      <td>...</td>\n",
       "    </tr>\n",
       "    <tr>\n",
       "      <th>2022-11-23</th>\n",
       "      <td>0.009979</td>\n",
       "      <td>0.004491</td>\n",
       "      <td>0.010407</td>\n",
       "    </tr>\n",
       "    <tr>\n",
       "      <th>2022-11-25</th>\n",
       "      <td>-0.007649</td>\n",
       "      <td>0.000958</td>\n",
       "      <td>-0.000364</td>\n",
       "    </tr>\n",
       "    <tr>\n",
       "      <th>2022-11-28</th>\n",
       "      <td>0.005781</td>\n",
       "      <td>0.000160</td>\n",
       "      <td>-0.023152</td>\n",
       "    </tr>\n",
       "    <tr>\n",
       "      <th>2022-11-29</th>\n",
       "      <td>-0.016285</td>\n",
       "      <td>-0.003509</td>\n",
       "      <td>-0.005915</td>\n",
       "    </tr>\n",
       "    <tr>\n",
       "      <th>2022-11-30</th>\n",
       "      <td>0.044579</td>\n",
       "      <td>0.025306</td>\n",
       "      <td>0.061624</td>\n",
       "    </tr>\n",
       "  </tbody>\n",
       "</table>\n",
       "<p>734 rows × 3 columns</p>\n",
       "</div>"
      ],
      "text/plain": [
       "                AMZN        KO      MSFT\n",
       "Date                                    \n",
       "2020-01-03 -0.012139 -0.005456 -0.012452\n",
       "2020-01-06  0.014886 -0.000365  0.002585\n",
       "2020-01-07  0.002092 -0.007682 -0.009118\n",
       "2020-01-08 -0.007809  0.001843  0.015928\n",
       "2020-01-09  0.004799  0.018215  0.012493\n",
       "...              ...       ...       ...\n",
       "2022-11-23  0.009979  0.004491  0.010407\n",
       "2022-11-25 -0.007649  0.000958 -0.000364\n",
       "2022-11-28  0.005781  0.000160 -0.023152\n",
       "2022-11-29 -0.016285 -0.003509 -0.005915\n",
       "2022-11-30  0.044579  0.025306  0.061624\n",
       "\n",
       "[734 rows x 3 columns]"
      ]
     },
     "execution_count": 47,
     "metadata": {},
     "output_type": "execute_result"
    }
   ],
   "source": [
    "# محاسبه بازده روزانه\n",
    "daily_rets = compute_returns(stocks)\n",
    "daily_rets#.tail()\n",
    "daily_rets.dropna()"
   ]
  },
  {
   "cell_type": "code",
   "execution_count": 48,
   "metadata": {},
   "outputs": [
    {
     "data": {
      "text/plain": [
       "AMZN    0.00\n",
       "KO      0.03\n",
       "MSFT    0.06\n",
       "dtype: float64"
      ]
     },
     "execution_count": 48,
     "metadata": {},
     "output_type": "execute_result"
    }
   ],
   "source": [
    "# Annualize returns (periods = 252)\n",
    "ann_rets = annualize_rets(daily_rets, 252)\n",
    "round(ann_rets,2)"
   ]
  },
  {
   "cell_type": "code",
   "execution_count": 49,
   "metadata": {},
   "outputs": [
    {
     "data": {
      "text/html": [
       "<div>\n",
       "<style scoped>\n",
       "    .dataframe tbody tr th:only-of-type {\n",
       "        vertical-align: middle;\n",
       "    }\n",
       "\n",
       "    .dataframe tbody tr th {\n",
       "        vertical-align: top;\n",
       "    }\n",
       "\n",
       "    .dataframe thead th {\n",
       "        text-align: right;\n",
       "    }\n",
       "</style>\n",
       "<table border=\"1\" class=\"dataframe\">\n",
       "  <thead>\n",
       "    <tr style=\"text-align: right;\">\n",
       "      <th></th>\n",
       "      <th>AMZN</th>\n",
       "      <th>KO</th>\n",
       "      <th>MSFT</th>\n",
       "    </tr>\n",
       "  </thead>\n",
       "  <tbody>\n",
       "    <tr>\n",
       "      <th>AMZN</th>\n",
       "      <td>0.000610</td>\n",
       "      <td>0.000109</td>\n",
       "      <td>0.000380</td>\n",
       "    </tr>\n",
       "    <tr>\n",
       "      <th>KO</th>\n",
       "      <td>0.000109</td>\n",
       "      <td>0.000246</td>\n",
       "      <td>0.000177</td>\n",
       "    </tr>\n",
       "    <tr>\n",
       "      <th>MSFT</th>\n",
       "      <td>0.000380</td>\n",
       "      <td>0.000177</td>\n",
       "      <td>0.000485</td>\n",
       "    </tr>\n",
       "  </tbody>\n",
       "</table>\n",
       "</div>"
      ],
      "text/plain": [
       "          AMZN        KO      MSFT\n",
       "AMZN  0.000610  0.000109  0.000380\n",
       "KO    0.000109  0.000246  0.000177\n",
       "MSFT  0.000380  0.000177  0.000485"
      ]
     },
     "execution_count": 49,
     "metadata": {},
     "output_type": "execute_result"
    }
   ],
   "source": [
    "# میانگین بازده روزانه و کوواریانس بازده روزانه دو دارایی را محاسبه می کنیم\n",
    "mean_rets = daily_rets.mean()\n",
    "std_rets  = daily_rets.std()\n",
    "cov_rets  = daily_rets.cov()\n",
    "cov_rets"
   ]
  },
  {
   "cell_type": "markdown",
   "metadata": {},
   "source": [
    "اکنون 4000 پرتفوی را با وزن های تخصیص یافته به سهام فوق شبیه سازی می کنیم:"
   ]
  },
  {
   "cell_type": "code",
   "execution_count": 50,
   "metadata": {},
   "outputs": [],
   "source": [
    "periods_per_year = 252\n",
    "num_portfolios   = 4000\n",
    "portfolios       = pd.DataFrame(columns=[\"return\",\"volatility\",\"sharpe ratio\",\"w1\",\"w2\",\"w3\"])\n",
    "risk_free_rate   = 0\n",
    "weights /= np.sum(weights)"
   ]
  },
  {
   "cell_type": "code",
   "execution_count": 51,
   "metadata": {},
   "outputs": [
    {
     "data": {
      "text/plain": [
       "array([[0.        , 0.05      ],\n",
       "       [0.00263158, 0.04736842],\n",
       "       [0.00526316, 0.04473684],\n",
       "       [0.00789474, 0.04210526],\n",
       "       [0.01052632, 0.03947368],\n",
       "       [0.01315789, 0.03684211],\n",
       "       [0.01578947, 0.03421053],\n",
       "       [0.01842105, 0.03157895],\n",
       "       [0.02105263, 0.02894737],\n",
       "       [0.02368421, 0.02631579],\n",
       "       [0.02631579, 0.02368421],\n",
       "       [0.02894737, 0.02105263],\n",
       "       [0.03157895, 0.01842105],\n",
       "       [0.03421053, 0.01578947],\n",
       "       [0.03684211, 0.01315789],\n",
       "       [0.03947368, 0.01052632],\n",
       "       [0.04210526, 0.00789474],\n",
       "       [0.04473684, 0.00526316],\n",
       "       [0.04736842, 0.00263158],\n",
       "       [0.05      , 0.        ]])"
      ]
     },
     "execution_count": 51,
     "metadata": {},
     "output_type": "execute_result"
    }
   ],
   "source": [
    "weights"
   ]
  },
  {
   "cell_type": "code",
   "execution_count": 52,
   "metadata": {},
   "outputs": [
    {
     "name": "stderr",
     "output_type": "stream",
     "text": [
      "C:\\Users\\mahdi\\AppData\\Local\\Temp\\ipykernel_17844\\3474224408.py:19: FutureWarning: The behavior of DataFrame concatenation with empty or all-NA entries is deprecated. In a future version, this will no longer exclude empty or all-NA columns when determining the result dtypes. To retain the old behavior, exclude the relevant entries before the concat operation.\n",
      "  portfolios = pd.concat([portfolios, pd.DataFrame([{\"return\": portfolio_ret,\n"
     ]
    }
   ],
   "source": [
    "for i in range(num_portfolios):\n",
    "    # انتخاب وزن های تصادفی به تعداد دارایی ها\n",
    "    weights = np.random.random(n_assets)\n",
    "    # حال جوری تنظیمشان میکنیم که جمعشان 1 شود\n",
    "    weights /= np.sum(weights)\n",
    "    \n",
    "    # بازده سالانه پرتفوی\n",
    "    ann_rets = ma.annualize_rets(daily_rets, periods_per_year)\n",
    "    portfolio_ret = portfolio_return(weights, ann_rets)        \n",
    "\n",
    "    # نوسانات سالانه پرتفوی\n",
    "    portfolio_vol12 = ma.portfolio_vol(weights, cov_rets)\n",
    "    portfolio_vol12 = ma.annualize_vol(portfolio_vol12, periods_per_year)\n",
    "\n",
    "    # نسبت شارپ سالانه پرتفوی\n",
    "    portfolio_shpr = ma.sharpe_ratio(portfolio_ret, risk_free_rate, periods_per_year, v=portfolio_vol12)\n",
    "    \n",
    "    # create dataframe   \n",
    "    portfolios = pd.concat([portfolios, pd.DataFrame([{\"return\": portfolio_ret, \n",
    "                                                   \"volatility\": portfolio_vol12, \n",
    "                                                   \"sharpe ratio\": portfolio_shpr, \n",
    "                                                   \"w1\": weights[0], \"w2\": weights[1], \"w3\": weights[2]}])], ignore_index=True)\n"
   ]
  },
  {
   "cell_type": "code",
   "execution_count": 53,
   "metadata": {},
   "outputs": [
    {
     "data": {
      "text/plain": [
       "0.2465265967032921"
      ]
     },
     "execution_count": 53,
     "metadata": {},
     "output_type": "execute_result"
    }
   ],
   "source": [
    "portfolio_vol12"
   ]
  },
  {
   "cell_type": "code",
   "execution_count": 54,
   "metadata": {},
   "outputs": [],
   "source": [
    "def portfolio_vol1(weights, cov_rets):\n",
    "    weights=np.array(weights)\n",
    "\n",
    "    return ( np.dot(weights.T, np.dot(cov_rets, weights)) )**(0.5) "
   ]
  },
  {
   "cell_type": "code",
   "execution_count": 55,
   "metadata": {},
   "outputs": [],
   "source": [
    "portfolio_vol = portfolio_vol1(weights, cov_rets)"
   ]
  },
  {
   "cell_type": "code",
   "execution_count": 56,
   "metadata": {},
   "outputs": [
    {
     "data": {
      "text/html": [
       "<div>\n",
       "<style scoped>\n",
       "    .dataframe tbody tr th:only-of-type {\n",
       "        vertical-align: middle;\n",
       "    }\n",
       "\n",
       "    .dataframe tbody tr th {\n",
       "        vertical-align: top;\n",
       "    }\n",
       "\n",
       "    .dataframe thead th {\n",
       "        text-align: right;\n",
       "    }\n",
       "</style>\n",
       "<table border=\"1\" class=\"dataframe\">\n",
       "  <thead>\n",
       "    <tr style=\"text-align: right;\">\n",
       "      <th></th>\n",
       "      <th>return</th>\n",
       "      <th>volatility</th>\n",
       "      <th>sharpe ratio</th>\n",
       "      <th>w1</th>\n",
       "      <th>w2</th>\n",
       "      <th>w3</th>\n",
       "    </tr>\n",
       "  </thead>\n",
       "  <tbody>\n",
       "    <tr>\n",
       "      <th>0</th>\n",
       "      <td>0.147669</td>\n",
       "      <td>0.334584</td>\n",
       "      <td>0.441350</td>\n",
       "      <td>0.188649</td>\n",
       "      <td>0.022417</td>\n",
       "      <td>0.788934</td>\n",
       "    </tr>\n",
       "    <tr>\n",
       "      <th>1</th>\n",
       "      <td>0.073238</td>\n",
       "      <td>0.233974</td>\n",
       "      <td>0.313018</td>\n",
       "      <td>0.209279</td>\n",
       "      <td>0.746264</td>\n",
       "      <td>0.044457</td>\n",
       "    </tr>\n",
       "    <tr>\n",
       "      <th>2</th>\n",
       "      <td>0.140241</td>\n",
       "      <td>0.300669</td>\n",
       "      <td>0.466431</td>\n",
       "      <td>0.135012</td>\n",
       "      <td>0.195734</td>\n",
       "      <td>0.669254</td>\n",
       "    </tr>\n",
       "    <tr>\n",
       "      <th>3</th>\n",
       "      <td>0.088688</td>\n",
       "      <td>0.278861</td>\n",
       "      <td>0.318038</td>\n",
       "      <td>0.365605</td>\n",
       "      <td>0.304513</td>\n",
       "      <td>0.329882</td>\n",
       "    </tr>\n",
       "    <tr>\n",
       "      <th>4</th>\n",
       "      <td>0.116963</td>\n",
       "      <td>0.325137</td>\n",
       "      <td>0.359734</td>\n",
       "      <td>0.342103</td>\n",
       "      <td>0.057972</td>\n",
       "      <td>0.599925</td>\n",
       "    </tr>\n",
       "  </tbody>\n",
       "</table>\n",
       "</div>"
      ],
      "text/plain": [
       "     return  volatility  sharpe ratio        w1        w2        w3\n",
       "0  0.147669    0.334584      0.441350  0.188649  0.022417  0.788934\n",
       "1  0.073238    0.233974      0.313018  0.209279  0.746264  0.044457\n",
       "2  0.140241    0.300669      0.466431  0.135012  0.195734  0.669254\n",
       "3  0.088688    0.278861      0.318038  0.365605  0.304513  0.329882\n",
       "4  0.116963    0.325137      0.359734  0.342103  0.057972  0.599925"
      ]
     },
     "execution_count": 56,
     "metadata": {},
     "output_type": "execute_result"
    }
   ],
   "source": [
    "portfolios.head()"
   ]
  },
  {
   "cell_type": "code",
   "execution_count": 57,
   "metadata": {},
   "outputs": [],
   "source": [
    "portfolios[\"return\"] = pd.to_numeric(portfolios[\"return\"])\n",
    "portfolios[\"volatility\"] = pd.to_numeric(portfolios[\"volatility\"])\n",
    "portfolios[\"sharpe ratio\"] = pd.to_numeric(portfolios[\"sharpe ratio\"])\n",
    "portfolios[\"w1\"] = pd.to_numeric(portfolios[\"w1\"])\n",
    "portfolios[\"w2\"] = pd.to_numeric(portfolios[\"w2\"])\n",
    "portfolios[\"w3\"] = pd.to_numeric(portfolios[\"w3\"])"
   ]
  },
  {
   "cell_type": "code",
   "execution_count": 58,
   "metadata": {},
   "outputs": [
    {
     "data": {
      "text/plain": [
       "2688"
      ]
     },
     "execution_count": 58,
     "metadata": {},
     "output_type": "execute_result"
    }
   ],
   "source": [
    "portfolios[\"volatility\"].argmin()"
   ]
  },
  {
   "cell_type": "code",
   "execution_count": 59,
   "metadata": {},
   "outputs": [
    {
     "data": {
      "text/plain": [
       "100"
      ]
     },
     "execution_count": 59,
     "metadata": {},
     "output_type": "execute_result"
    }
   ],
   "source": [
    "portfolios[\"sharpe ratio\"].argmax()"
   ]
  },
  {
   "cell_type": "code",
   "execution_count": 60,
   "metadata": {},
   "outputs": [
    {
     "data": {
      "image/png": "[encoded data removed]",
      "text/plain": [
       "<Figure size 1000x600 with 2 Axes>"
      ]
     },
     "metadata": {},
     "output_type": "display_data"
    }
   ],
   "source": [
    "fig, ax = plt.subplots(1,1, figsize=(10,6)) \n",
    "\n",
    "im = ax.scatter(portfolios[\"volatility\"], portfolios[\"return\"], c=portfolios[\"sharpe ratio\"], s=20, edgecolor=None, cmap='RdYlBu')\n",
    "ax.set_title(\"Portfolios\")\n",
    "ax.set_ylabel(\"return (%)\")\n",
    "ax.grid()\n",
    "\n",
    "\n",
    "ax.set_xlim([0.125,0.33])\n",
    "ax.set_xlabel(\"volatility (%)\")\n",
    "\n",
    "fig.colorbar(im, ax=ax)\n",
    "plt.show()"
   ]
  },
  {
   "cell_type": "code",
   "execution_count": 61,
   "metadata": {},
   "outputs": [
    {
     "name": "stdout",
     "output_type": "stream",
     "text": [
      "------------------------------------\n",
      "Global Minimum Volatility portfolio:\n",
      "------------------------------------\n",
      "- return      : 6.71%\n",
      "- volatility  : 23.36%\n",
      "- sharpe ratio: 0.29\n"
     ]
    },
    {
     "name": "stderr",
     "output_type": "stream",
     "text": [
      "C:\\Users\\mahdi\\AppData\\Local\\Temp\\ipykernel_17844\\1381213236.py:6: FutureWarning: Series.__getitem__ treating keys as positions is deprecated. In a future version, integer keys will always be treated as labels (consistent with DataFrame behavior). To access a value by position, use `ser.iloc[pos]`\n",
      "  print(\"- return      : {:.2f}%\".format(low_vol_portfolio[0]*100) )\n",
      "C:\\Users\\mahdi\\AppData\\Local\\Temp\\ipykernel_17844\\1381213236.py:7: FutureWarning: Series.__getitem__ treating keys as positions is deprecated. In a future version, integer keys will always be treated as labels (consistent with DataFrame behavior). To access a value by position, use `ser.iloc[pos]`\n",
      "  print(\"- volatility  : {:.2f}%\".format(low_vol_portfolio[1]*100) )\n",
      "C:\\Users\\mahdi\\AppData\\Local\\Temp\\ipykernel_17844\\1381213236.py:8: FutureWarning: Series.__getitem__ treating keys as positions is deprecated. In a future version, integer keys will always be treated as labels (consistent with DataFrame behavior). To access a value by position, use `ser.iloc[pos]`\n",
      "  print(\"- sharpe ratio: {:.2f}\".format(low_vol_portfolio[2]) )\n"
     ]
    }
   ],
   "source": [
    "# یافتن پرتفو با پایین ترین ریسک\n",
    "low_vol_portfolio = portfolios.iloc[ portfolios[\"volatility\"].idxmin() ]\n",
    "print(36 * \"-\")\n",
    "print(\"Global Minimum Volatility portfolio:\")\n",
    "print(36 * \"-\")\n",
    "print(\"- return      : {:.2f}%\".format(low_vol_portfolio[0]*100) )\n",
    "print(\"- volatility  : {:.2f}%\".format(low_vol_portfolio[1]*100) )\n",
    "print(\"- sharpe ratio: {:.2f}\".format(low_vol_portfolio[2]) )\n"
   ]
  },
  {
   "cell_type": "code",
   "execution_count": 62,
   "metadata": {},
   "outputs": [
    {
     "name": "stdout",
     "output_type": "stream",
     "text": [
      "------------------------------------\n",
      "Global Minimum Volatility portfolio:\n",
      "------------------------------------\n",
      "- return      : 6.71%\n",
      "- volatility  : 23.36%\n",
      "- sharpe ratio: 0.29\n",
      "------------------------------------\n",
      "Maximum Sharpe Ratio portfolio:\n",
      "------------------------------------\n",
      "- return      : 15.96%\n",
      "- volatility  : 30.10%\n",
      "- sharpe ratio: 0.53\n"
     ]
    },
    {
     "name": "stderr",
     "output_type": "stream",
     "text": [
      "C:\\Users\\mahdi\\AppData\\Local\\Temp\\ipykernel_17844\\1364853294.py:6: FutureWarning: Series.__getitem__ treating keys as positions is deprecated. In a future version, integer keys will always be treated as labels (consistent with DataFrame behavior). To access a value by position, use `ser.iloc[pos]`\n",
      "  print(\"- return      : {:.2f}%\".format(low_vol_portfolio[0]*100) )\n",
      "C:\\Users\\mahdi\\AppData\\Local\\Temp\\ipykernel_17844\\1364853294.py:7: FutureWarning: Series.__getitem__ treating keys as positions is deprecated. In a future version, integer keys will always be treated as labels (consistent with DataFrame behavior). To access a value by position, use `ser.iloc[pos]`\n",
      "  print(\"- volatility  : {:.2f}%\".format(low_vol_portfolio[1]*100) )\n",
      "C:\\Users\\mahdi\\AppData\\Local\\Temp\\ipykernel_17844\\1364853294.py:8: FutureWarning: Series.__getitem__ treating keys as positions is deprecated. In a future version, integer keys will always be treated as labels (consistent with DataFrame behavior). To access a value by position, use `ser.iloc[pos]`\n",
      "  print(\"- sharpe ratio: {:.2f}\".format(low_vol_portfolio[2]) )\n",
      "C:\\Users\\mahdi\\AppData\\Local\\Temp\\ipykernel_17844\\1364853294.py:15: FutureWarning: Series.__getitem__ treating keys as positions is deprecated. In a future version, integer keys will always be treated as labels (consistent with DataFrame behavior). To access a value by position, use `ser.iloc[pos]`\n",
      "  print(\"- return      : {:.2f}%\".format(high_sharpe_portfolio[0]*100) )\n",
      "C:\\Users\\mahdi\\AppData\\Local\\Temp\\ipykernel_17844\\1364853294.py:16: FutureWarning: Series.__getitem__ treating keys as positions is deprecated. In a future version, integer keys will always be treated as labels (consistent with DataFrame behavior). To access a value by position, use `ser.iloc[pos]`\n",
      "  print(\"- volatility  : {:.2f}%\".format(high_sharpe_portfolio[1]*100) )\n",
      "C:\\Users\\mahdi\\AppData\\Local\\Temp\\ipykernel_17844\\1364853294.py:17: FutureWarning: Series.__getitem__ treating keys as positions is deprecated. In a future version, integer keys will always be treated as labels (consistent with DataFrame behavior). To access a value by position, use `ser.iloc[pos]`\n",
      "  print(\"- sharpe ratio: {:.2f}\".format(high_sharpe_portfolio[2]) )\n"
     ]
    }
   ],
   "source": [
    "# یافتن پرتفو با پایین ترین ریسک\n",
    "low_vol_portfolio = portfolios.iloc[ portfolios[\"volatility\"].idxmin() ]\n",
    "print(36 * \"-\")\n",
    "print(\"Global Minimum Volatility portfolio:\")\n",
    "print(36 * \"-\")\n",
    "print(\"- return      : {:.2f}%\".format(low_vol_portfolio[0]*100) )\n",
    "print(\"- volatility  : {:.2f}%\".format(low_vol_portfolio[1]*100) )\n",
    "print(\"- sharpe ratio: {:.2f}\".format(low_vol_portfolio[2]) )\n",
    "\n",
    "# یافتن پرتفو با بالا ترین نسبت شارپ\n",
    "high_sharpe_portfolio = portfolios.iloc[ portfolios['sharpe ratio'].idxmax() ]\n",
    "print(36 * \"-\")\n",
    "print(\"Maximum Sharpe Ratio portfolio:\")\n",
    "print(36 * \"-\")\n",
    "print(\"- return      : {:.2f}%\".format(high_sharpe_portfolio[0]*100) )\n",
    "print(\"- volatility  : {:.2f}%\".format(high_sharpe_portfolio[1]*100) )\n",
    "print(\"- sharpe ratio: {:.2f}\".format(high_sharpe_portfolio[2]) )"
   ]
  },
  {
   "cell_type": "code",
   "execution_count": 63,
   "metadata": {},
   "outputs": [
    {
     "name": "stderr",
     "output_type": "stream",
     "text": [
      "C:\\Users\\mahdi\\AppData\\Local\\Temp\\ipykernel_17844\\4219325193.py:10: FutureWarning: Series.__getitem__ treating keys as positions is deprecated. In a future version, integer keys will always be treated as labels (consistent with DataFrame behavior). To access a value by position, use `ser.iloc[pos]`\n",
      "  ax.scatter(low_vol_portfolio[1],     low_vol_portfolio[0],     marker=\"X\", color='g', s=120, label=\"GMV portfolio\")\n",
      "C:\\Users\\mahdi\\AppData\\Local\\Temp\\ipykernel_17844\\4219325193.py:11: FutureWarning: Series.__getitem__ treating keys as positions is deprecated. In a future version, integer keys will always be treated as labels (consistent with DataFrame behavior). To access a value by position, use `ser.iloc[pos]`\n",
      "  ax.scatter(high_sharpe_portfolio[1], high_sharpe_portfolio[0], marker=\"X\", color='r', s=120, label=\"MSR portfolio\")\n"
     ]
    },
    {
     "data": {
      "image/png": "[encoded data removed]",
      "text/plain": [
       "<Figure size 1000x600 with 2 Axes>"
      ]
     },
     "metadata": {},
     "output_type": "display_data"
    }
   ],
   "source": [
    "fig, ax = plt.subplots(1,1, figsize=(10,6)) \n",
    "\n",
    "im = ax.scatter(portfolios[\"volatility\"], portfolios[\"return\"], c=portfolios[\"sharpe ratio\"], s=20, edgecolor=None, label=None, cmap='RdYlBu')\n",
    "ax.set_title(\"Portfolios and efficient frontier\")\n",
    "ax.set_xlabel(\"volatility\")\n",
    "ax.set_ylabel(\"return\")\n",
    "ax.grid()\n",
    "\n",
    "# مشخص کردن دو نقطه حساس ما در نمودار\n",
    "ax.scatter(low_vol_portfolio[1],     low_vol_portfolio[0],     marker=\"X\", color='g', s=120, label=\"GMV portfolio\")\n",
    "ax.scatter(high_sharpe_portfolio[1], high_sharpe_portfolio[0], marker=\"X\", color='r', s=120, label=\"MSR portfolio\")\n",
    "\n",
    "ax.set_xlim([0.125,0.33])\n",
    "ax.legend()\n",
    "\n",
    "fig.colorbar(im, ax=ax)\n",
    "plt.show()"
   ]
  },
  {
   "cell_type": "markdown",
   "metadata": {},
   "source": [
    "\n",
    "\n",
    "در این نمودار تمامی 4000 پرتفو مد نظر را مشاهده میکنیم که میبینیم برای پرتفوها با بازدهی های مختلف چقدر ریسک کنیم\n",
    "\n",
    "### در این نمودار دو پرتفو هستند که برای ما بسیار مهم اند و ما عاشق اینیم که اینها رو پیدا کنیم!!!\n",
    "1. the **portfolio with the Global Minimum Volatility (GMV)**  (MVP)\n",
    "2. the **portfolio with the Maximum Sharpe Ratio (MSR)**.\n",
    "\n",
    "از کد بالا به راحتی می‌توانیم با مشاهده کمترین نوسان و بالاترین نسبت شارپ، این دو پورتفولیو را در دیتافریم خود بیابیم و وزن‌های مربوطه ذخیره شده را بازیابی کنیم."
   ]
  },
  {
   "cell_type": "markdown",
   "metadata": {},
   "source": [
    " تابع زیر را تعریف می کنیم که زیرا چندین بار از آن استفاده خواهیم کرد  "
   ]
  },
  {
   "cell_type": "code",
   "execution_count": 64,
   "metadata": {},
   "outputs": [],
   "source": [
    "def get_portfolio_features(weights, rets, covmat, risk_free_rate, periods_per_year):\n",
    "    # portfolio volatility\n",
    " \n",
    "    vol = ma.portfolio_vol(weights, covmat)\n",
    "    vol = ma.annualize_vol(vol, periods_per_year)\n",
    "\n",
    "    # portfolio return\n",
    "    ret = ma.portfolio_return(weights, rets)\n",
    "\n",
    "    # portfolio sharpe ratio\n",
    "    shp = ma.sharpe_ratio(ret, risk_free_rate, periods_per_year, v=vol)\n",
    "\n",
    "    print(\"Portfolio return:       {:.2f}%\" .format(ret*100))\n",
    "    print(\"Portfolio volatility:   {:.2f}%\" .format(vol*100))\n",
    "    print(\"Portfolio sharpe ratio: {:.2f}\" .format(shp))\n",
    "    \n",
    "    return ret, vol, shp"
   ]
  },
  {
   "cell_type": "markdown",
   "metadata": {},
   "source": [
    "### Finding the optimal portfolios: minimizing the volatility \n",
    "\n",
    "در آزمایش‌های بالا، با شبیه‌سازی تعداد بالایی از پورتفولیوها و سپس ترسیم آن‌ها، پورتفولیوهای بهینه را یافتیم، یعنی نمونه‌هایی که در مرز کارا هستند. از خود نمودار می توانستیم ببینیم که مرز کارا چگونه به نظر می رسد. با این حال، می‌توانیم با حل یک مسئله کمینه‌سازی، به عنوان مثال، با استفاده از روش بهینه‌سازی مرز کارا را پیدا کنیم.\n",
    "\n",
    "\n",
    "برای مثال، فرض کنید می‌خواهیم پورتفولیویی (در مرز کارآمد) را پیدا کنیم که دارای حداقل نوسان است. سپس مشکل کمینه سازی این است:\n",
    "\n",
    "$$\n",
    "\\text{minimize} \\;\\; \\frac{1}{2} \\mathbf{w}^T\\Sigma\\mathbf{w}, \n",
    "$$\n",
    " \n",
    "$$\n",
    "\\begin{cases}\n",
    "\\mathbf{w}^T \\mathbf{1} = 1, \\\\\n",
    "0 \\leq \\mathbf{w} \\leq 1.\n",
    "\\end{cases}\n",
    "$$"
   ]
  },
  {
   "cell_type": "code",
   "execution_count": 65,
   "metadata": {},
   "outputs": [
    {
     "data": {
      "text/plain": [
       "AMZN    0.001959\n",
       "KO      0.027745\n",
       "MSFT    0.057716\n",
       "dtype: float64"
      ]
     },
     "execution_count": 65,
     "metadata": {},
     "output_type": "execute_result"
    }
   ],
   "source": [
    "#  کل بازده (سالانه) شرکت هایی را که در آنها سرمایه گذاری می کنیم ببینیم\n",
    "ann_rets = annualize_rets(daily_rets, periods_per_year)\n",
    "ann_rets"
   ]
  },
  {
   "cell_type": "code",
   "execution_count": 66,
   "metadata": {},
   "outputs": [
    {
     "data": {
      "text/html": [
       "<div>\n",
       "<style scoped>\n",
       "    .dataframe tbody tr th:only-of-type {\n",
       "        vertical-align: middle;\n",
       "    }\n",
       "\n",
       "    .dataframe tbody tr th {\n",
       "        vertical-align: top;\n",
       "    }\n",
       "\n",
       "    .dataframe thead th {\n",
       "        text-align: right;\n",
       "    }\n",
       "</style>\n",
       "<table border=\"1\" class=\"dataframe\">\n",
       "  <thead>\n",
       "    <tr style=\"text-align: right;\">\n",
       "      <th></th>\n",
       "      <th>AMZN</th>\n",
       "      <th>KO</th>\n",
       "      <th>MSFT</th>\n",
       "    </tr>\n",
       "  </thead>\n",
       "  <tbody>\n",
       "    <tr>\n",
       "      <th>AMZN</th>\n",
       "      <td>0.000610</td>\n",
       "      <td>0.000109</td>\n",
       "      <td>0.000380</td>\n",
       "    </tr>\n",
       "    <tr>\n",
       "      <th>KO</th>\n",
       "      <td>0.000109</td>\n",
       "      <td>0.000246</td>\n",
       "      <td>0.000177</td>\n",
       "    </tr>\n",
       "    <tr>\n",
       "      <th>MSFT</th>\n",
       "      <td>0.000380</td>\n",
       "      <td>0.000177</td>\n",
       "      <td>0.000485</td>\n",
       "    </tr>\n",
       "  </tbody>\n",
       "</table>\n",
       "</div>"
      ],
      "text/plain": [
       "          AMZN        KO      MSFT\n",
       "AMZN  0.000610  0.000109  0.000380\n",
       "KO    0.000109  0.000246  0.000177\n",
       "MSFT  0.000380  0.000177  0.000485"
      ]
     },
     "execution_count": 66,
     "metadata": {},
     "output_type": "execute_result"
    }
   ],
   "source": [
    "cov_rets"
   ]
  },
  {
   "cell_type": "code",
   "execution_count": 67,
   "metadata": {},
   "outputs": [
    {
     "data": {
      "text/plain": [
       "AMZN    0.001959\n",
       "KO      0.027745\n",
       "MSFT    0.057716\n",
       "dtype: float64"
      ]
     },
     "execution_count": 67,
     "metadata": {},
     "output_type": "execute_result"
    }
   ],
   "source": [
    "ann_rets"
   ]
  },
  {
   "cell_type": "code",
   "execution_count": 68,
   "metadata": {},
   "outputs": [
    {
     "data": {
      "text/plain": [
       "AMZN    0.001959\n",
       "KO      0.027745\n",
       "MSFT    0.057716\n",
       "dtype: float64"
      ]
     },
     "execution_count": 68,
     "metadata": {},
     "output_type": "execute_result"
    }
   ],
   "source": [
    "ann_rets"
   ]
  },
  {
   "cell_type": "code",
   "execution_count": 69,
   "metadata": {},
   "outputs": [
    {
     "data": {
      "text/html": [
       "<div>\n",
       "<style scoped>\n",
       "    .dataframe tbody tr th:only-of-type {\n",
       "        vertical-align: middle;\n",
       "    }\n",
       "\n",
       "    .dataframe tbody tr th {\n",
       "        vertical-align: top;\n",
       "    }\n",
       "\n",
       "    .dataframe thead th {\n",
       "        text-align: right;\n",
       "    }\n",
       "</style>\n",
       "<table border=\"1\" class=\"dataframe\">\n",
       "  <thead>\n",
       "    <tr style=\"text-align: right;\">\n",
       "      <th></th>\n",
       "      <th>AMZN</th>\n",
       "      <th>KO</th>\n",
       "      <th>MSFT</th>\n",
       "    </tr>\n",
       "  </thead>\n",
       "  <tbody>\n",
       "    <tr>\n",
       "      <th>AMZN</th>\n",
       "      <td>0.000610</td>\n",
       "      <td>0.000109</td>\n",
       "      <td>0.000380</td>\n",
       "    </tr>\n",
       "    <tr>\n",
       "      <th>KO</th>\n",
       "      <td>0.000109</td>\n",
       "      <td>0.000246</td>\n",
       "      <td>0.000177</td>\n",
       "    </tr>\n",
       "    <tr>\n",
       "      <th>MSFT</th>\n",
       "      <td>0.000380</td>\n",
       "      <td>0.000177</td>\n",
       "      <td>0.000485</td>\n",
       "    </tr>\n",
       "  </tbody>\n",
       "</table>\n",
       "</div>"
      ],
      "text/plain": [
       "          AMZN        KO      MSFT\n",
       "AMZN  0.000610  0.000109  0.000380\n",
       "KO    0.000109  0.000246  0.000177\n",
       "MSFT  0.000380  0.000177  0.000485"
      ]
     },
     "execution_count": 69,
     "metadata": {},
     "output_type": "execute_result"
    }
   ],
   "source": [
    "cov_rets"
   ]
  },
  {
   "cell_type": "code",
   "execution_count": 70,
   "metadata": {},
   "outputs": [
    {
     "name": "stdout",
     "output_type": "stream",
     "text": [
      "optimal weights:\n",
      "------------------\n",
      "  AMZN: 21.44%\n",
      "  KO:   78.56%\n",
      "  MSFT: 0.00%\n"
     ]
    }
   ],
   "source": [
    "optimal_weights = ma.minimize_volatility(ann_rets, cov_rets)\n",
    "print(\"optimal weights:\")\n",
    "print(18 * \"-\")\n",
    "print(\"  AMZN: {:.2f}%\".format(optimal_weights[0]*100))\n",
    "print(\"  KO:   {:.2f}%\".format(optimal_weights[1]*100))\n",
    "print(\"  MSFT: {:.2f}%\".format(optimal_weights[2]*100))"
   ]
  },
  {
   "cell_type": "code",
   "execution_count": 71,
   "metadata": {},
   "outputs": [],
   "source": [
    "target_return = 0.16"
   ]
  },
  {
   "cell_type": "markdown",
   "metadata": {},
   "source": [
    "اکنون ما با فراخواندن تابع حداقل کننده می آییم مسئله را با محدودیت جدید حل میکنیم"
   ]
  },
  {
   "cell_type": "code",
   "execution_count": 72,
   "metadata": {},
   "outputs": [
    {
     "name": "stdout",
     "output_type": "stream",
     "text": [
      "optimal weights:\n",
      "----------------------\n",
      "  AMZN: 0.00%\n",
      "  KO:   0.00%\n",
      "  MSFT: 100.00%\n"
     ]
    }
   ],
   "source": [
    "optimal_weights = ma.minimize_volatility(ann_rets, cov_rets, target_return)\n",
    "print(\"optimal weights:\")\n",
    "print(22*\"-\")\n",
    "print(\"  AMZN: {:.2f}%\".format(optimal_weights[0]*100))\n",
    "print(\"  KO:   {:.2f}%\".format(optimal_weights[1]*100))\n",
    "print(\"  MSFT: {:.2f}%\".format(optimal_weights[2]*100))"
   ]
  },
  {
   "cell_type": "code",
   "execution_count": 73,
   "metadata": {},
   "outputs": [
    {
     "name": "stdout",
     "output_type": "stream",
     "text": [
      "Portfolio return:       5.77%\n",
      "Portfolio volatility:   34.98%\n",
      "Portfolio sharpe ratio: 0.17\n"
     ]
    }
   ],
   "source": [
    "ret, vol, shp = get_portfolio_features(optimal_weights, ann_rets, cov_rets, risk_free_rate, periods_per_year)"
   ]
  },
  {
   "cell_type": "code",
   "execution_count": 74,
   "metadata": {},
   "outputs": [
    {
     "name": "stdout",
     "output_type": "stream",
     "text": [
      "optimal weights:\n",
      "----------------------\n",
      "  AMZN: 0.00%\n",
      "  KO:   0.00%\n",
      "  MSFT: 100.00%\n"
     ]
    }
   ],
   "source": [
    "optimal_weights = ma.minimize_volatility(ann_rets, cov_rets, 0.4)\n",
    "print(\"optimal weights:\")\n",
    "print(22*\"-\")\n",
    "print(\"  AMZN: {:.2f}%\".format(optimal_weights[0]*100))\n",
    "print(\"  KO:   {:.2f}%\".format(optimal_weights[1]*100))\n",
    "print(\"  MSFT: {:.2f}%\".format(optimal_weights[2]*100))"
   ]
  },
  {
   "cell_type": "code",
   "execution_count": 75,
   "metadata": {},
   "outputs": [
    {
     "name": "stdout",
     "output_type": "stream",
     "text": [
      "Portfolio return:       5.77%\n",
      "Portfolio volatility:   34.98%\n",
      "Portfolio sharpe ratio: 0.17\n"
     ]
    }
   ],
   "source": [
    "ret, vol, shp = get_portfolio_features(optimal_weights, ann_rets, cov_rets, risk_free_rate, periods_per_year)"
   ]
  },
  {
   "cell_type": "code",
   "execution_count": 76,
   "metadata": {},
   "outputs": [],
   "source": [
    "daily_rets=daily_rets.dropna()"
   ]
  },
  {
   "cell_type": "code",
   "execution_count": 77,
   "metadata": {},
   "outputs": [],
   "source": [
    "daily_rets.reset_index(drop=True, inplace=True)"
   ]
  },
  {
   "cell_type": "code",
   "execution_count": 78,
   "metadata": {},
   "outputs": [
    {
     "data": {
      "text/html": [
       "<div>\n",
       "<style scoped>\n",
       "    .dataframe tbody tr th:only-of-type {\n",
       "        vertical-align: middle;\n",
       "    }\n",
       "\n",
       "    .dataframe tbody tr th {\n",
       "        vertical-align: top;\n",
       "    }\n",
       "\n",
       "    .dataframe thead th {\n",
       "        text-align: right;\n",
       "    }\n",
       "</style>\n",
       "<table border=\"1\" class=\"dataframe\">\n",
       "  <thead>\n",
       "    <tr style=\"text-align: right;\">\n",
       "      <th></th>\n",
       "      <th>AMZN</th>\n",
       "      <th>KO</th>\n",
       "      <th>MSFT</th>\n",
       "    </tr>\n",
       "  </thead>\n",
       "  <tbody>\n",
       "    <tr>\n",
       "      <th>0</th>\n",
       "      <td>-0.012139</td>\n",
       "      <td>-0.005456</td>\n",
       "      <td>-0.012452</td>\n",
       "    </tr>\n",
       "    <tr>\n",
       "      <th>1</th>\n",
       "      <td>0.014886</td>\n",
       "      <td>-0.000365</td>\n",
       "      <td>0.002585</td>\n",
       "    </tr>\n",
       "    <tr>\n",
       "      <th>2</th>\n",
       "      <td>0.002092</td>\n",
       "      <td>-0.007682</td>\n",
       "      <td>-0.009118</td>\n",
       "    </tr>\n",
       "    <tr>\n",
       "      <th>3</th>\n",
       "      <td>-0.007809</td>\n",
       "      <td>0.001843</td>\n",
       "      <td>0.015928</td>\n",
       "    </tr>\n",
       "    <tr>\n",
       "      <th>4</th>\n",
       "      <td>0.004799</td>\n",
       "      <td>0.018215</td>\n",
       "      <td>0.012493</td>\n",
       "    </tr>\n",
       "    <tr>\n",
       "      <th>...</th>\n",
       "      <td>...</td>\n",
       "      <td>...</td>\n",
       "      <td>...</td>\n",
       "    </tr>\n",
       "    <tr>\n",
       "      <th>729</th>\n",
       "      <td>0.009979</td>\n",
       "      <td>0.004491</td>\n",
       "      <td>0.010407</td>\n",
       "    </tr>\n",
       "    <tr>\n",
       "      <th>730</th>\n",
       "      <td>-0.007649</td>\n",
       "      <td>0.000958</td>\n",
       "      <td>-0.000364</td>\n",
       "    </tr>\n",
       "    <tr>\n",
       "      <th>731</th>\n",
       "      <td>0.005781</td>\n",
       "      <td>0.000160</td>\n",
       "      <td>-0.023152</td>\n",
       "    </tr>\n",
       "    <tr>\n",
       "      <th>732</th>\n",
       "      <td>-0.016285</td>\n",
       "      <td>-0.003509</td>\n",
       "      <td>-0.005915</td>\n",
       "    </tr>\n",
       "    <tr>\n",
       "      <th>733</th>\n",
       "      <td>0.044579</td>\n",
       "      <td>0.025306</td>\n",
       "      <td>0.061624</td>\n",
       "    </tr>\n",
       "  </tbody>\n",
       "</table>\n",
       "<p>734 rows × 3 columns</p>\n",
       "</div>"
      ],
      "text/plain": [
       "         AMZN        KO      MSFT\n",
       "0   -0.012139 -0.005456 -0.012452\n",
       "1    0.014886 -0.000365  0.002585\n",
       "2    0.002092 -0.007682 -0.009118\n",
       "3   -0.007809  0.001843  0.015928\n",
       "4    0.004799  0.018215  0.012493\n",
       "..        ...       ...       ...\n",
       "729  0.009979  0.004491  0.010407\n",
       "730 -0.007649  0.000958 -0.000364\n",
       "731  0.005781  0.000160 -0.023152\n",
       "732 -0.016285 -0.003509 -0.005915\n",
       "733  0.044579  0.025306  0.061624\n",
       "\n",
       "[734 rows x 3 columns]"
      ]
     },
     "execution_count": 78,
     "metadata": {},
     "output_type": "execute_result"
    }
   ],
   "source": [
    "daily_rets"
   ]
  },
  {
   "cell_type": "code",
   "execution_count": 79,
   "metadata": {},
   "outputs": [],
   "source": [
    "X_train = np.array(range(734)).reshape(-1, 1)  # ایجاد اندیس به عنوان ویژگی\n",
    "y_train = daily_rets.copy()"
   ]
  },
  {
   "cell_type": "code",
   "execution_count": 80,
   "metadata": {},
   "outputs": [
    {
     "data": {
      "text/html": [
       "<div>\n",
       "<style scoped>\n",
       "    .dataframe tbody tr th:only-of-type {\n",
       "        vertical-align: middle;\n",
       "    }\n",
       "\n",
       "    .dataframe tbody tr th {\n",
       "        vertical-align: top;\n",
       "    }\n",
       "\n",
       "    .dataframe thead th {\n",
       "        text-align: right;\n",
       "    }\n",
       "</style>\n",
       "<table border=\"1\" class=\"dataframe\">\n",
       "  <thead>\n",
       "    <tr style=\"text-align: right;\">\n",
       "      <th></th>\n",
       "      <th>AMZN</th>\n",
       "      <th>KO</th>\n",
       "      <th>MSFT</th>\n",
       "    </tr>\n",
       "  </thead>\n",
       "  <tbody>\n",
       "    <tr>\n",
       "      <th>0</th>\n",
       "      <td>-0.012139</td>\n",
       "      <td>-0.005456</td>\n",
       "      <td>-0.012452</td>\n",
       "    </tr>\n",
       "    <tr>\n",
       "      <th>1</th>\n",
       "      <td>0.014886</td>\n",
       "      <td>-0.000365</td>\n",
       "      <td>0.002585</td>\n",
       "    </tr>\n",
       "    <tr>\n",
       "      <th>2</th>\n",
       "      <td>0.002092</td>\n",
       "      <td>-0.007682</td>\n",
       "      <td>-0.009118</td>\n",
       "    </tr>\n",
       "    <tr>\n",
       "      <th>3</th>\n",
       "      <td>-0.007809</td>\n",
       "      <td>0.001843</td>\n",
       "      <td>0.015928</td>\n",
       "    </tr>\n",
       "    <tr>\n",
       "      <th>4</th>\n",
       "      <td>0.004799</td>\n",
       "      <td>0.018215</td>\n",
       "      <td>0.012493</td>\n",
       "    </tr>\n",
       "    <tr>\n",
       "      <th>...</th>\n",
       "      <td>...</td>\n",
       "      <td>...</td>\n",
       "      <td>...</td>\n",
       "    </tr>\n",
       "    <tr>\n",
       "      <th>729</th>\n",
       "      <td>0.009979</td>\n",
       "      <td>0.004491</td>\n",
       "      <td>0.010407</td>\n",
       "    </tr>\n",
       "    <tr>\n",
       "      <th>730</th>\n",
       "      <td>-0.007649</td>\n",
       "      <td>0.000958</td>\n",
       "      <td>-0.000364</td>\n",
       "    </tr>\n",
       "    <tr>\n",
       "      <th>731</th>\n",
       "      <td>0.005781</td>\n",
       "      <td>0.000160</td>\n",
       "      <td>-0.023152</td>\n",
       "    </tr>\n",
       "    <tr>\n",
       "      <th>732</th>\n",
       "      <td>-0.016285</td>\n",
       "      <td>-0.003509</td>\n",
       "      <td>-0.005915</td>\n",
       "    </tr>\n",
       "    <tr>\n",
       "      <th>733</th>\n",
       "      <td>0.044579</td>\n",
       "      <td>0.025306</td>\n",
       "      <td>0.061624</td>\n",
       "    </tr>\n",
       "  </tbody>\n",
       "</table>\n",
       "<p>734 rows × 3 columns</p>\n",
       "</div>"
      ],
      "text/plain": [
       "         AMZN        KO      MSFT\n",
       "0   -0.012139 -0.005456 -0.012452\n",
       "1    0.014886 -0.000365  0.002585\n",
       "2    0.002092 -0.007682 -0.009118\n",
       "3   -0.007809  0.001843  0.015928\n",
       "4    0.004799  0.018215  0.012493\n",
       "..        ...       ...       ...\n",
       "729  0.009979  0.004491  0.010407\n",
       "730 -0.007649  0.000958 -0.000364\n",
       "731  0.005781  0.000160 -0.023152\n",
       "732 -0.016285 -0.003509 -0.005915\n",
       "733  0.044579  0.025306  0.061624\n",
       "\n",
       "[734 rows x 3 columns]"
      ]
     },
     "execution_count": 80,
     "metadata": {},
     "output_type": "execute_result"
    }
   ],
   "source": [
    "y_train"
   ]
  },
  {
   "cell_type": "code",
   "execution_count": 81,
   "metadata": {},
   "outputs": [],
   "source": [
    "import pandas as pd\n",
    "from sklearn.model_selection import train_test_split\n",
    "import numpy as np"
   ]
  },
  {
   "cell_type": "code",
   "execution_count": 82,
   "metadata": {},
   "outputs": [
    {
     "name": "stdout",
     "output_type": "stream",
     "text": [
      "دقت مدل: -0.01\n"
     ]
    }
   ],
   "source": [
    "# تقسیم داده‌ها به نسبت ۸۰ درصد آموزش و ۲۰ درصد تست\n",
    "x_train, x_test, y_train, y_test = train_test_split(X_train, y_train, test_size=0.2, random_state=10)\n",
    "\n",
    "# آموزش مدل رگرسیون خطی با داده‌های آموزش\n",
    "from sklearn.linear_model import LinearRegression\n",
    "model = LinearRegression()\n",
    "model.fit(x_train, y_train)\n",
    "\n",
    "# ارزیابی دقت مدل با داده‌های تست\n",
    "accuracy = model.score(x_test, y_test)\n",
    "print(f\"دقت مدل: {accuracy:.2f}\")"
   ]
  },
  {
   "cell_type": "code",
   "execution_count": 83,
   "metadata": {},
   "outputs": [
    {
     "data": {
      "text/plain": [
       "(587, 1)"
      ]
     },
     "execution_count": 83,
     "metadata": {},
     "output_type": "execute_result"
    }
   ],
   "source": [
    "x_train.shape"
   ]
  },
  {
   "cell_type": "code",
   "execution_count": 84,
   "metadata": {},
   "outputs": [
    {
     "data": {
      "text/plain": [
       "(587, 3)"
      ]
     },
     "execution_count": 84,
     "metadata": {},
     "output_type": "execute_result"
    }
   ],
   "source": [
    "y_train.shape"
   ]
  },
  {
   "cell_type": "code",
   "execution_count": 85,
   "metadata": {},
   "outputs": [
    {
     "name": "stdout",
     "output_type": "stream",
     "text": [
      "دقت مدل Random Forest: -0.43\n"
     ]
    }
   ],
   "source": [
    "from sklearn.ensemble import RandomForestRegressor\n",
    "\n",
    "# ایجاد مدل Random Forest با ۱۰۰ درخت\n",
    "rf_model = RandomForestRegressor(n_estimators=100, random_state=10)\n",
    "\n",
    "# آموزش مدل با داده‌های آموزش\n",
    "rf_model.fit(x_train, y_train)\n",
    "\n",
    "# ارزیابی دقت مدل با داده‌های تست\n",
    "rf_accuracy = rf_model.score(x_test, y_test)\n",
    "print(f\"دقت مدل Random Forest: {rf_accuracy:.2f}\")\n"
   ]
  },
  {
   "cell_type": "code",
   "execution_count": 86,
   "metadata": {},
   "outputs": [
    {
     "data": {
      "text/plain": [
       "-0.42760432864022885"
      ]
     },
     "execution_count": 86,
     "metadata": {},
     "output_type": "execute_result"
    }
   ],
   "source": [
    "from sklearn.neural_network import MLPRegressor\n",
    "\n",
    "\n",
    "\n",
    "model = MLPRegressor(hidden_layer_sizes=(50, 50), activation='relu', solver='adam', max_iter=500)\n",
    "model.fit(x_train, y_train)\n",
    "    \n",
    "    # پیش‌بینی قیمت برای روز i\n",
    "predicted_price_tomorrow = model.predict([[455]])\n",
    "rf_accuracy = rf_model.score(x_test, y_test) \n",
    "rf_accuracy"
   ]
  },
  {
   "cell_type": "code",
   "execution_count": 87,
   "metadata": {},
   "outputs": [],
   "source": [
    "from sklearn.model_selection import GridSearchCV"
   ]
  },
  {
   "cell_type": "code",
   "execution_count": 88,
   "metadata": {},
   "outputs": [
    {
     "name": "stdout",
     "output_type": "stream",
     "text": [
      "Best hyperparameters:  {'alpha': 1, 'hidden_layer_sizes': (200,), 'learning_rate': 'adaptive'}\n",
      "Best: -0.000659 using {'alpha': 1, 'hidden_layer_sizes': (200,), 'learning_rate': 'adaptive'}\n"
     ]
    }
   ],
   "source": [
    "\n",
    "mlp = MLPRegressor()\n",
    "\n",
    "# Define the hyperparameter grid\n",
    "param_grid = {'hidden_layer_sizes': [(50,), (100,), (200,)], 'alpha': [0.1, 0.5, 1], 'learning_rate': ['constant', 'invscaling', 'adaptive']}\n",
    "\n",
    "# Create the GridSearchCV object\n",
    "grid_search = GridSearchCV(estimator=mlp, param_grid=param_grid, cv=5, scoring='neg_mean_squared_error')\n",
    "\n",
    "# Fit the model to the training data\n",
    "grid_search.fit(x_train, y_train)\n",
    "\n",
    "# Print the best hyperparameters\n",
    "print(\"Best hyperparameters: \", grid_search.best_params_)\n",
    "print(\"Best: %f using %s\" % (grid_search.best_score_, grid_search.best_params_))"
   ]
  },
  {
   "cell_type": "code",
   "execution_count": 89,
   "metadata": {},
   "outputs": [
    {
     "name": "stdout",
     "output_type": "stream",
     "text": [
      "Fitting 3 folds for each of 36 candidates, totalling 108 fits\n",
      "بهترین پارامترها:  {'max_depth': 10, 'min_samples_leaf': 4, 'n_estimators': 300}\n"
     ]
    }
   ],
   "source": [
    "from sklearn.model_selection import GridSearchCV\n",
    "from sklearn.ensemble import RandomForestRegressor\n",
    "\n",
    "# تعریف مدل\n",
    "rf = RandomForestRegressor(random_state=4)\n",
    "\n",
    "# تعریف دیکشنری پارامترها برای جستجوی گرید\n",
    "param_grid = {\n",
    "    'n_estimators': [100, 200, 300],\n",
    "    'max_depth': [None, 10, 20, 30],\n",
    "   \n",
    "    'min_samples_leaf': [1, 2, 4],\n",
    "    \n",
    "}\n",
    "\n",
    "# ایجاد شیء GridSearchCV\n",
    "grid_search = GridSearchCV(estimator=rf, param_grid=param_grid, cv=3, scoring='neg_mean_squared_error', n_jobs=-1, verbose=2)\n",
    "\n",
    "# آموزش مدل با استفاده از جستجوی گرید\n",
    "grid_search.fit(x_train, y_train)\n",
    "\n",
    "# چاپ بهترین پارامترها\n",
    "print(\"بهترین پارامترها: \", grid_search.best_params_)\n"
   ]
  },
  {
   "cell_type": "code",
   "execution_count": 90,
   "metadata": {},
   "outputs": [
    {
     "name": "stdout",
     "output_type": "stream",
     "text": [
      "دقت مدل Random Forest با بهترین پارامترها: -0.18\n"
     ]
    }
   ],
   "source": [
    "from sklearn.ensemble import RandomForestRegressor\n",
    "\n",
    "# ایجاد مدل Random Forest با بهترین پارامترها\n",
    "best_rf_model = RandomForestRegressor(n_estimators=grid_search.best_params_['n_estimators'],\n",
    "                                      max_depth=grid_search.best_params_['max_depth'],\n",
    "                                     \n",
    "                        \n",
    "                                    \n",
    "                                      random_state=10)\n",
    "\n",
    "# آموزش مدل با داده‌های آموزشی\n",
    "best_rf_model.fit(x_train, y_train)\n",
    "\n",
    "# ارزیابی دقت مدل با داده‌های تست\n",
    "best_rf_accuracy = best_rf_model.score(x_test, y_test)\n",
    "print(f\"دقت مدل Random Forest با بهترین پارامترها: {best_rf_accuracy:.2f}\")\n"
   ]
  },
  {
   "cell_type": "code",
   "execution_count": 91,
   "metadata": {},
   "outputs": [
    {
     "name": "stdout",
     "output_type": "stream",
     "text": [
      "Best hyperparameters:  {'alpha': 1, 'hidden_layer_sizes': (200,), 'learning_rate': 'constant'}\n",
      "Best: -0.000602 using {'alpha': 1, 'hidden_layer_sizes': (200,), 'learning_rate': 'constant'}\n"
     ]
    }
   ],
   "source": [
    "\n",
    "mlp = MLPRegressor()\n",
    "\n",
    "# Define the hyperparameter grid\n",
    "param_grid = {'hidden_layer_sizes': [(50,), (100,), (200,)], 'alpha': [0.1, 0.5, 1], 'learning_rate': ['constant', 'invscaling', 'adaptive']}\n",
    "\n",
    "# Create the GridSearchCV object\n",
    "grid_search = GridSearchCV(estimator=mlp, param_grid=param_grid, cv=5, scoring='neg_mean_squared_error')\n",
    "\n",
    "# Fit the model to the training data\n",
    "grid_search.fit(x_train, y_train)\n",
    "\n",
    "# Print the best hyperparameters\n",
    "print(\"Best hyperparameters: \", grid_search.best_params_)\n",
    "print(\"Best: %f using %s\" % (grid_search.best_score_, grid_search.best_params_))"
   ]
  },
  {
   "cell_type": "code",
   "execution_count": 92,
   "metadata": {},
   "outputs": [
    {
     "data": {
      "text/plain": [
       "-0.14130975442786564"
      ]
     },
     "execution_count": 92,
     "metadata": {},
     "output_type": "execute_result"
    }
   ],
   "source": [
    "# ایجاد یک نمونه جدید از MLPRegressor با بهترین پارامترها\n",
    "best_mlp = MLPRegressor(hidden_layer_sizes=grid_search.best_params_['hidden_layer_sizes'],\n",
    "                        alpha=grid_search.best_params_['alpha'],\n",
    "                        learning_rate=grid_search.best_params_['learning_rate'])\n",
    "\n",
    "# آموزش مدل با داده‌های آموزشی\n",
    "best_mlp.fit(x_train, y_train)\n",
    "\n",
    "# اکنون می‌توانید از مدل آموزش دیده برای پیش‌بینی‌ها استفاده کنید\n",
    "# مثلاً برای پیش‌بینی داده‌های تست:\n",
    "predictions = best_mlp.predict(x_test)\n",
    "rf_accuracy = best_mlp.score(x_test, y_test) \n",
    "rf_accuracy"
   ]
  },
  {
   "cell_type": "code",
   "execution_count": 93,
   "metadata": {},
   "outputs": [
    {
     "name": "stdout",
     "output_type": "stream",
     "text": [
      "Requirement already satisfied: torch in c:\\users\\mahdi\\appdata\\local\\packages\\pythonsoftwarefoundation.python.3.9_qbz5n2kfra8p0\\localcache\\local-packages\\python39\\site-packages (2.2.2)Note: you may need to restart the kernel to use updated packages.\n",
      "\n",
      "Requirement already satisfied: filelock in c:\\users\\mahdi\\appdata\\local\\packages\\pythonsoftwarefoundation.python.3.9_qbz5n2kfra8p0\\localcache\\local-packages\\python39\\site-packages (from torch) (3.13.3)\n",
      "Requirement already satisfied: typing-extensions>=4.8.0 in c:\\users\\mahdi\\appdata\\local\\packages\\pythonsoftwarefoundation.python.3.9_qbz5n2kfra8p0\\localcache\\local-packages\\python39\\site-packages (from torch) (4.11.0)\n",
      "Requirement already satisfied: sympy in c:\\users\\mahdi\\appdata\\local\\packages\\pythonsoftwarefoundation.python.3.9_qbz5n2kfra8p0\\localcache\\local-packages\\python39\\site-packages (from torch) (1.12)\n",
      "Requirement already satisfied: networkx in c:\\users\\mahdi\\appdata\\local\\packages\\pythonsoftwarefoundation.python.3.9_qbz5n2kfra8p0\\localcache\\local-packages\\python39\\site-packages (from torch) (3.2.1)\n",
      "Requirement already satisfied: jinja2 in c:\\users\\mahdi\\appdata\\local\\packages\\pythonsoftwarefoundation.python.3.9_qbz5n2kfra8p0\\localcache\\local-packages\\python39\\site-packages (from torch) (3.1.2)\n",
      "Requirement already satisfied: fsspec in c:\\users\\mahdi\\appdata\\local\\packages\\pythonsoftwarefoundation.python.3.9_qbz5n2kfra8p0\\localcache\\local-packages\\python39\\site-packages (from torch) (2024.3.1)\n",
      "Requirement already satisfied: MarkupSafe>=2.0 in c:\\users\\mahdi\\appdata\\local\\packages\\pythonsoftwarefoundation.python.3.9_qbz5n2kfra8p0\\localcache\\local-packages\\python39\\site-packages (from jinja2->torch) (2.1.3)\n",
      "Requirement already satisfied: mpmath>=0.19 in c:\\users\\mahdi\\appdata\\local\\packages\\pythonsoftwarefoundation.python.3.9_qbz5n2kfra8p0\\localcache\\local-packages\\python39\\site-packages (from sympy->torch) (1.3.0)\n"
     ]
    },
    {
     "name": "stderr",
     "output_type": "stream",
     "text": [
      "\n",
      "[notice] A new release of pip is available: 23.2.1 -> 24.0\n",
      "[notice] To update, run: C:\\Users\\mahdi\\AppData\\Local\\Microsoft\\WindowsApps\\PythonSoftwareFoundation.Python.3.9_qbz5n2kfra8p0\\python.exe -m pip install --upgrade pip\n"
     ]
    }
   ],
   "source": [
    "pip install torch"
   ]
  }
 ],
 "metadata": {
  "kernelspec": {
   "display_name": "Python 3 (ipykernel)",
   "language": "python",
   "name": "python3"
  },
  "language_info": {
   "codemirror_mode": {
    "name": "ipython",
    "version": 3
   },
   "file_extension": ".py",
   "mimetype": "text/x-python",
   "name": "python",
   "nbconvert_exporter": "python",
   "pygments_lexer": "ipython3",
   "version": "3.9.13"
  }
 },
 "nbformat": 4,
 "nbformat_minor": 4
}
