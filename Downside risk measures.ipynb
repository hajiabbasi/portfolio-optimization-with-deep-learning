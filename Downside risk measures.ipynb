{
 "cells": [
  {
   "cell_type": "markdown",
   "id": "e662567c",
   "metadata": {},
   "source": [
    "## Downside risk measures"
   ]
  },
  {
   "cell_type": "markdown",
   "id": "6bd92b95",
   "metadata": {},
   "source": [
    "### Semivolatility (or semideviation) (نیم انحراف معیار)\n",
    "به یاد داشته باشید که نوسانات یک دارایی صرفاً انحراف معیار است.\n",
    "\n",
    "نیمه انحراف معیار صرفاً نوسان بخشی از مجموعه داده ها است که منفی است.\n",
    "\n",
    "اما ما یک تعریف جامع تر میکنیم. نیم انحراف معیار فقط برای بخشی از داده ها محاسبه میگردد که از میانگین کمتر باشند\n",
    "\n",
    "$$\n",
    "\\sigma_{semi} := \\sqrt{ \\frac{1}{N_{semi}} \\sum_{R_t < 0} (R_t - \\mu_{semi})^2 },\n",
    "$$\n",
    "\n"
   ]
  },
  {
   "cell_type": "code",
   "execution_count": 17,
   "id": "1a3a949a",
   "metadata": {},
   "outputs": [],
   "source": [
    "import pandas as pd\n",
    "import numpy as np\n",
    "import matplotlib.pyplot as plt\n",
    "import scipy.stats "
   ]
  },
  {
   "cell_type": "code",
   "execution_count": 18,
   "id": "4e476278",
   "metadata": {},
   "outputs": [
    {
     "name": "stdout",
     "output_type": "stream",
     "text": [
      "The autoreload extension is already loaded. To reload it, use:\n",
      "  %reload_ext autoreload\n"
     ]
    }
   ],
   "source": [
    "%load_ext autoreload\n",
    "%autoreload 2\n",
    "%matplotlib inline\n",
    "\n",
    "plt.style.use(\"seaborn-dark\")  "
   ]
  },
  {
   "cell_type": "code",
   "execution_count": 19,
   "id": "5d4b2f5d",
   "metadata": {},
   "outputs": [],
   "source": [
    "import Maktab_S_J as msj"
   ]
  },
  {
   "cell_type": "code",
   "execution_count": null,
   "id": "c3a7fe10",
   "metadata": {},
   "outputs": [],
   "source": [
    "#add to msj\n",
    "\n",
    "def semideviation(r):\n",
    "    \"\"\"\n",
    "    نیمه انحراف را برمی گرداند\n",
    "    r ===>  باید یک سری یا یک دیتافریم باشد، در غیر این صورت یک ارور ایجاد می کند\n",
    "    \"\"\"\n",
    "    if isinstance(r, pd.Series):\n",
    "        is_negative = r < 0\n",
    "        return r[is_negative].std(ddof=0)\n",
    "    elif isinstance(r, pd.DataFrame):\n",
    "        return r.aggregate(semideviation)\n",
    "    else:\n",
    "        raise TypeError(\"Expected r to be a Series or DataFrame\")\n"
   ]
  },
  {
   "cell_type": "code",
   "execution_count": null,
   "id": "c8737319",
   "metadata": {},
   "outputs": [],
   "source": [
    "hfi = msj.get_hfi_returns()"
   ]
  },
  {
   "cell_type": "code",
   "execution_count": null,
   "id": "fb751f98",
   "metadata": {},
   "outputs": [],
   "source": [
    "# محاسبه نیم انحراف معیار برای کل ستون ها\n",
    "msj.semideviation( hfi )"
   ]
  },
  {
   "cell_type": "code",
   "execution_count": null,
   "id": "125bda91",
   "metadata": {},
   "outputs": [],
   "source": [
    "hfi[hfi<0].std(ddof=0)"
   ]
  },
  {
   "cell_type": "code",
   "execution_count": null,
   "id": "be853f23",
   "metadata": {},
   "outputs": [],
   "source": [
    "msj.semideviation(hfi).sort_values()"
   ]
  },
  {
   "cell_type": "code",
   "execution_count": null,
   "id": "37be4201",
   "metadata": {},
   "outputs": [],
   "source": [
    "ffme = msj.get_ffme_returns()\n",
    "msj.semideviation(ffme)"
   ]
  },
  {
   "cell_type": "markdown",
   "id": "12a5f05c",
   "metadata": {},
   "source": [
    "### Value at Risk (VaR)\n",
    "\n",
    "این نشان دهنده **حداکثر ضرر مورد انتظار** در یک دوره زمانی معین است\n",
    "\n",
    "اول از همه، ما یک اطمینان خاص **سطح** را در $(0,1)$ مشخص می کنیم، اگرچه معمولاً به صورت درصد بیان می شود.\n",
    "\n",
    "به عنوان مثال سطح 99% را در نظر بگیرید (یعنی 0.99).\n",
    "وقتی می گوییم 1٪ ارزش در معرض خطر ماهانه، به این معنی است که پس از حذف 1٪ از بدترین زیان، به بدترین نتیجه ممکن در طول یک ماه نگاه می کنیم. به عبارت دیگر، حداکثر ضرری که می توانید با احتمال 99 درصد در طول یک ماه متحمل شوید چقدر است.\n",
    "\n",
    "**Example:** سری بازده زیر را در نظر بگیرید\n",
    "$$\n",
    "R = (-4\\%, +5\\%, +2\\%, -7\\%, +1\\%, +0.5\\%, -2\\%, -1\\%, -2\\%, +5\\%).\n",
    "$$\n",
    "**ارزش در معرض 90 درصد چه مقدار است** \n",
    "\n",
    "ابتدا ده درصد پایینی را مشخص میکنیم. سپس اولین بازده بعد از آن ارزش در معرض خطر می باشد\n",
    "\n",
    "Then $\\text{VaR} = 4\\%$.\n",
    "\n",
    "\n",
    "تعریف ارزش در معرض خطر به صورت ریاضی به این صورت است\n",
    "\n",
    "$\\alpha\\in(0,1)$,\n",
    "$$\n",
    "\\text{VaR}_{\\alpha}\n",
    ":= - \\text{inf}\\{x\\in\\mathbb{R} \\;:\\; \\mathbb{P}(R \\leq x) \\geq 1-\\alpha \\} \n",
    "= - \\text{inf}\\left\\{x\\in\\mathbb{R} \\;:\\;  \\mathbb{P}(R \\geq x) \\leq \\alpha\\right\\},  \n",
    "$$\n"
   ]
  },
  {
   "cell_type": "markdown",
   "id": "911f94c7",
   "metadata": {},
   "source": [
    "### سه مدل روش محاسبه ارزش در معرض خطر داریم\n",
    "\n",
    "1. Historic VaR\n",
    "2. Parametric Gaussian VaR\n",
    "3. Modified (Cornish-Fisher) VaR"
   ]
  },
  {
   "cell_type": "markdown",
   "id": "26b29be4",
   "metadata": {},
   "source": [
    "<img src=\"value at risk1.png\" width=\"700\" height=\"450\">"
   ]
  },
  {
   "cell_type": "markdown",
   "id": "07431c04",
   "metadata": {},
   "source": [
    "<img src=\"note4.png\" width=\"700\" height=\"450\">"
   ]
  },
  {
   "cell_type": "code",
   "execution_count": null,
   "id": "b9fc9740",
   "metadata": {},
   "outputs": [],
   "source": []
  },
  {
   "cell_type": "markdown",
   "id": "5d065842",
   "metadata": {},
   "source": [
    "### Methods for estimating VaR \n",
    "\n",
    "#### Historical method (non parametric)\n",
    "\n",
    "این شهودی ترین موردی است که به سادگی با استفاده از تعریف به عنوان توزیع کمی بازده دارایی ها مورد بررسی قرار میگیرد .\n",
    "\n",
    "به عنوان مثال، بازده شاخص های صندوق تامینی را در نظر بگیرید:"
   ]
  },
  {
   "cell_type": "code",
   "execution_count": null,
   "id": "849075d4",
   "metadata": {},
   "outputs": [],
   "source": [
    "# the CTA global returns\n",
    "hfi = msj.get_hfi_returns()\n",
    "\n",
    "# plot their distribution\n",
    "ax = hfi[\"CTA Global\"].plot.hist(figsize=(8,4), bins=60, density=True)\n",
    "ax.set_title(\"CTA Global returns distribution\")\n",
    "ax.grid()"
   ]
  },
  {
   "cell_type": "markdown",
   "id": "30e39018",
   "metadata": {},
   "source": [
    "ما ارزش در معرض ریسک 90 و 95 و 99 را میخواهیم.\n",
    "از متد صدک استفاده می کنیم"
   ]
  },
  {
   "cell_type": "code",
   "execution_count": null,
   "id": "21d034f2",
   "metadata": {},
   "outputs": [],
   "source": [
    "alpha = np.array([0.90, 0.95, 0.99])\n",
    "level = 1 - alpha\n",
    "\n",
    "# ضرب در 100 میکنیم که عددی بین 0 تا 100 تحویل دهد\n",
    "VaRs = -np.percentile(hfi[\"CTA Global\"], level*100)\n",
    "\n",
    "print(\"90% Var: {:.2f}%\".format(VaRs[0] * 100))\n",
    "print(\"95% Var: {:.2f}%\".format(VaRs[1] * 100))\n",
    "print(\"99% Var: {:.2f}%\".format(VaRs[2] * 100))"
   ]
  },
  {
   "cell_type": "markdown",
   "id": "95963c30",
   "metadata": {},
   "source": [
    "این اینطور معنی میدهد که به احتمال 10 درصد, 2.4 درصد دارایی را از دست میدهیم.\n",
    "\n",
    "به احتمال 5 درصد, 3 درصد از دارایی و به احتمال 1 درصد, 5 درصد از دارایی را از دست میدهیم"
   ]
  },
  {
   "cell_type": "code",
   "execution_count": null,
   "id": "8e792e6f",
   "metadata": {},
   "outputs": [],
   "source": [
    "## add to msj\n",
    "\n",
    "def var_historic(r, level=5):\n",
    "    \"\"\"\n",
    "    ارزش در معرض خطر تاریخی را در سطح مشخصی برمی‌گرداند\n",
    "    \"\"\"\n",
    "    if isinstance(r, pd.DataFrame):\n",
    "        return r.aggregate(var_historic, level=level)\n",
    "    elif isinstance(r, pd.Series):\n",
    "        return -np.percentile(r, level)\n",
    "    else:\n",
    "        raise TypeError(\"Expected r to be a Series or DataFrame\")   "
   ]
  },
  {
   "cell_type": "code",
   "execution_count": 25,
   "id": "60f5d5a7",
   "metadata": {},
   "outputs": [
    {
     "data": {
      "text/plain": [
       "Fixed Income Arbitrage    0.00787\n",
       "Equity Market Neutral     0.00814\n",
       "Merger Arbitrage          0.01047\n",
       "Relative Value            0.01174\n",
       "Global Macro              0.01499\n",
       "Convertible Arbitrage     0.01576\n",
       "Distressed Securities     0.01966\n",
       "Funds Of Funds            0.02047\n",
       "Event Driven              0.02535\n",
       "Long/Short Equity         0.02598\n",
       "CTA Global                0.03169\n",
       "Emerging Markets          0.04247\n",
       "Short Selling             0.06783\n",
       "dtype: float64"
      ]
     },
     "execution_count": 25,
     "metadata": {},
     "output_type": "execute_result"
    }
   ],
   "source": [
    "msj.var_historic(hfi , level = 5).sort_values()"
   ]
  },
  {
   "cell_type": "markdown",
   "id": "7caa33fd",
   "metadata": {},
   "source": [
    "شایان ذکر است که این روش محاسبه ارزش در معرض ریسک به مقیاس زمانی بازده ما حساس است،\n",
    "\n",
    "زیرا ارزش در معرض ریسک محاسبه شده با بازده ماهانه با ارزش در معرض ریسک محاسبه شده با بازده هفتگی متفاوت است."
   ]
  },
  {
   "cell_type": "markdown",
   "id": "0ae44e88",
   "metadata": {},
   "source": [
    "#### Parametric method (Gaussian)\n",
    "\n",
    "در اینجا، **فرض می کنیم که بازده ها دارای توزیع نرمال هستند**، که البته **اغلب نادرست** است.\n",
    "\n",
    "\n",
    "$$\n",
    "\\mathbb{P}(R \\leq z_\\alpha) = 1-\\alpha.\n",
    "$$\n",
    "لذا داریم\n",
    "$$\n",
    "1-\\alpha = \\mathbb{P}(R \\leq z_\\alpha) = \\mathbb{P}(\\mu+ X\\sigma \\leq z_\\alpha) \n",
    "= \\mathbb{P}\\left(X \\leq \\frac{z_\\alpha-\\mu}{\\sigma}\\right) \n",
    "= \\Phi\\left( \\frac{z_\\alpha-\\mu}{\\sigma} \\right)\n",
    "\\qquad\\Longrightarrow\\qquad\n",
    "z_\\alpha = \\mu + \\Phi^{-1}(1-\\alpha)\\sigma \n",
    "$$\n",
    "در نتیجه\n",
    "$$\n",
    "\\text{VaR}_\\alpha = -\\left(\\;\\mu + \\Phi^{-1}(1-\\alpha) \\sigma\\;\\right),\n",
    "$$\n"
   ]
  },
  {
   "cell_type": "code",
   "execution_count": 20,
   "id": "6e8da293",
   "metadata": {},
   "outputs": [],
   "source": [
    "#add to msj\n",
    "\n",
    "from scipy.stats import norm\n",
    "def var_gaussian(r, level=5):\n",
    "    \n",
    "    # compute the Z score\n",
    "    z = norm.ppf(level/100)\n",
    "\n",
    "    return -(r.mean() + z*r.std(ddof=0))\n",
    "\n"
   ]
  },
  {
   "cell_type": "code",
   "execution_count": 21,
   "id": "5e07abb7",
   "metadata": {},
   "outputs": [
    {
     "data": {
      "text/plain": [
       "0.0"
      ]
     },
     "execution_count": 21,
     "metadata": {},
     "output_type": "execute_result"
    }
   ],
   "source": [
    "from scipy.stats import norm\n",
    "norm.ppf(.5)"
   ]
  },
  {
   "cell_type": "code",
   "execution_count": 22,
   "id": "af02caa5",
   "metadata": {},
   "outputs": [
    {
     "data": {
      "text/plain": [
       "-1.6448536269514729"
      ]
     },
     "execution_count": 22,
     "metadata": {},
     "output_type": "execute_result"
    }
   ],
   "source": [
    "norm.ppf(.05)  #مقدار زد آلفا رو میده"
   ]
  },
  {
   "cell_type": "code",
   "execution_count": 24,
   "id": "6d7ae881",
   "metadata": {},
   "outputs": [
    {
     "data": {
      "text/plain": [
       "Equity Market Neutral     0.022204\n",
       "Merger Arbitrage          0.026235\n",
       "Relative Value            0.031924\n",
       "Fixed Income Arbitrage    0.033532\n",
       "Global Macro              0.042948\n",
       "Funds Of Funds            0.046860\n",
       "Event Driven              0.048646\n",
       "Convertible Arbitrage     0.048904\n",
       "Distressed Securities     0.049023\n",
       "Long/Short Equity         0.059141\n",
       "CTA Global                0.072563\n",
       "Emerging Markets          0.100609\n",
       "Short Selling             0.158511\n",
       "dtype: float64"
      ]
     },
     "execution_count": 24,
     "metadata": {},
     "output_type": "execute_result"
    }
   ],
   "source": [
    "# ارزش در معرض ریسک ماهانه گاوسی شاخص های صندوق تامینی را محاسبه می کنیم \n",
    "alpha = 0.95\n",
    "msj.var_gaussian( hfi, level=1-alpha).sort_values()"
   ]
  },
  {
   "cell_type": "markdown",
   "id": "1eedbe9e",
   "metadata": {},
   "source": [
    "#### Cornish-Fisher method (semi parametric)\n",
    "\n",
    "این اصلاح روش گاوسی پارامتریک است. این روش از بسط چندک‌های کورنیش-فیشر (1937) استفاده می‌کند که اساساً کمیت‌های توزیع غیر گاوسی را با کمیت‌های توزیع گاوسی به روش زیر مرتبط می‌کند.\n",
    "\n",
    "در این روش فرض خاصی برای توزیع در نظر نمیگیرد چرا که مثلا شاید فرض های تی-استیودنت یا لوگ گاما یا ... غلط باشند\n",
    "\n",
    "\n",
    "بسط کورنیش-فیشر به صورت زیر می باشد\n",
    "\n",
    "$$\n",
    "\\tilde{z}_\\alpha \n",
    "= z_\\alpha + \\frac{1}{6}(z_\\alpha^2 - 1)S \n",
    "+ \\frac{1}{24}(z_\\alpha^3 - 3 z_\\alpha)(K-3) \n",
    "- \\frac{1}{36}(2z_\\alpha^3 - 5 z_\\alpha)S^2\n",
    "$$\n",
    "\n",
    "\n",
    "در نهایت برای محاسبه ارزش در معرض ریسک کورنیش فیشر داریم:\n",
    "$$\n",
    "\\text{VaR}_\\alpha = -\\left(\\;\\mu + \\tilde{z}_\\alpha  \\sigma\\;\\right).\n",
    "$$"
   ]
  },
  {
   "cell_type": "code",
   "execution_count": null,
   "id": "25d10b43",
   "metadata": {},
   "outputs": [],
   "source": [
    "#add to msj\n",
    "\n",
    "from scipy.stats import norm\n",
    "def var_gaussian(r, level=5, modified=False):\n",
    "    \"\"\"\n",
    "    If \"modified\" is True ===> ارزش در معرض تعدیل شده را بر میگرداند\n",
    "    using the Cornish-Fisher modification\n",
    "    \"\"\"\n",
    "    # compute the Z score\n",
    "    z = norm.ppf(level/100)\n",
    "    if modified:\n",
    "        # modify the Z score based on observed skewness and kurtosis\n",
    "        s = skewness(r)\n",
    "        k = kurtosis(r)\n",
    "        z = (z +\n",
    "                (z**2 - 1)*s/6 +\n",
    "                (z**3 -3*z)*(k-3)/24 -\n",
    "                (2*z**3 - 5*z)*(s**2)/36\n",
    "            )\n",
    "    return -(r.mean() + z*r.std(ddof=0))\n",
    "\n"
   ]
  },
  {
   "cell_type": "code",
   "execution_count": 30,
   "id": "785d71a3",
   "metadata": {},
   "outputs": [
    {
     "data": {
      "text/plain": [
       "Equity Market Neutral     0.010734\n",
       "Merger Arbitrage          0.012612\n",
       "Global Macro              0.013581\n",
       "Relative Value            0.016157\n",
       "Fixed Income Arbitrage    0.017881\n",
       "Funds Of Funds            0.021576\n",
       "Distressed Securities     0.025102\n",
       "Convertible Arbitrage     0.025166\n",
       "Event Driven              0.025516\n",
       "Long/Short Equity         0.027935\n",
       "CTA Global                0.033094\n",
       "Emerging Markets          0.053011\n",
       "Short Selling             0.066157\n",
       "dtype: float64"
      ]
     },
     "execution_count": 30,
     "metadata": {},
     "output_type": "execute_result"
    }
   ],
   "source": [
    "msj.var_gaussian(hfi, modified=True).sort_values()"
   ]
  },
  {
   "cell_type": "code",
   "execution_count": null,
   "id": "120a495a",
   "metadata": {},
   "outputs": [],
   "source": []
  },
  {
   "cell_type": "markdown",
   "id": "77fdd5f2",
   "metadata": {},
   "source": [
    "### Conditional VaR (or Beyond VaR)\n",
    "\n",
    "این به عنوان ارزش در معرض خطر شرطی ** فراتر از ** ارزش در معرض خطر تعریف می شود،\n",
    "\n",
    "یا به طور رسمی تر، بازده هایی که کمتر از ارزش در معرض خطر هستند، نگاه می کنیم. از نظر ریاضی، این خواهد بود:\n",
    "\n",
    "$$\n",
    "\\text{CVaR} := - \\mathbb{E}( R | R<-\\text{VaR}) = - \\frac{\\int_{-\\infty}^{-\\text{VaR}} t f_R(t)dt }{F_R(-\\text{Var})},\n",
    "$$\n",
    "\n",
    "<img src=\"cvar.png\" width=\"750\" height=\"400\">\n",
    "\n",
    " $f_R$ ===> تابع چگالی بازده ها \n",
    "\n",
    "$F_R$ ===> تابع توزیع تجمعی بازده ها \n",
    "\n",
    "**Example:** بازده های ماهانه زیر به ما داده شده است\n",
    "$$\n",
    "R = (-4\\%, +5\\%, +2\\%, -7\\%, +1\\%, +0.5\\%, -2\\%, -1\\%, -2\\%, +5\\%).\n",
    "$$\n",
    "**ارزش در معرض خطر شرطی ماهانه کدام است?** \n",
    "\n",
    "<img src=\"cvar2.png\" width=\"750\" height=\"400\">\n",
    "\n",
    "\n",
    "<img src=\"cvar3.png\" width=\"750\" height=\"400\">\n"
   ]
  },
  {
   "cell_type": "code",
   "execution_count": null,
   "id": "b46bc2ec",
   "metadata": {},
   "outputs": [],
   "source": [
    "#add to msj\n",
    "\n",
    "def cvar_historic(r, level=5):\n",
    "    \"\"\"\n",
    "    Computes the Conditional VaR of Series or DataFrame\n",
    "    \"\"\"\n",
    "    if isinstance(r, pd.Series):\n",
    "        is_beyond = r <= -var_historic(r, level=level)    # علامت منفی برای اینه که خود وار ها منفی هستند\n",
    "        return -r[is_beyond].mean()\n",
    "    \n",
    "    elif isinstance(r, pd.DataFrame):\n",
    "        return r.aggregate(cvar_historic, level=level)\n",
    "    else:\n",
    "        raise TypeError(\"Expected r to be a Series or DataFrame\")\n"
   ]
  },
  {
   "cell_type": "code",
   "execution_count": 31,
   "id": "12f37f57",
   "metadata": {},
   "outputs": [
    {
     "data": {
      "text/plain": [
       "Global Macro              0.029333\n",
       "Equity Market Neutral     0.036100\n",
       "Merger Arbitrage          0.036233\n",
       "Relative Value            0.052367\n",
       "CTA Global                0.054767\n",
       "Funds Of Funds            0.061133\n",
       "Long/Short Equity         0.061867\n",
       "Distressed Securities     0.070967\n",
       "Event Driven              0.071267\n",
       "Fixed Income Arbitrage    0.072467\n",
       "Convertible Arbitrage     0.086100\n",
       "Short Selling             0.123867\n",
       "Emerging Markets          0.141167\n",
       "dtype: float64"
      ]
     },
     "execution_count": 31,
     "metadata": {},
     "output_type": "execute_result"
    }
   ],
   "source": [
    "msj.cvar_historic(hfi, level=1).sort_values()"
   ]
  },
  {
   "cell_type": "code",
   "execution_count": 32,
   "id": "935c45ad",
   "metadata": {},
   "outputs": [
    {
     "data": {
      "text/plain": [
       "Lo 10    0.162609\n",
       "Hi 10    0.121277\n",
       "dtype: float64"
      ]
     },
     "execution_count": 32,
     "metadata": {},
     "output_type": "execute_result"
    }
   ],
   "source": [
    "msj.cvar_historic(ffme)"
   ]
  },
  {
   "cell_type": "markdown",
   "id": "0448bf61",
   "metadata": {},
   "source": [
    "#### Compare VaRs"
   ]
  },
  {
   "cell_type": "code",
   "execution_count": 33,
   "id": "8906e6b0",
   "metadata": {},
   "outputs": [
    {
     "data": {
      "image/png": "[encoded data removed]",
      "text/plain": [
       "<Figure size 936x360 with 1 Axes>"
      ]
     },
     "metadata": {},
     "output_type": "display_data"
    }
   ],
   "source": [
    "comparevars = pd.concat([msj.var_historic(hfi), msj.var_gaussian(hfi), msj.var_gaussian(hfi,modified=True), msj.cvar_historic(hfi)], axis=1)\n",
    "comparevars.columns = [\"Historical\",\"Gaussian\",\"Cornish-Fisher\",\"Conditional VaR\"]\n",
    "(comparevars * 100).plot.bar(figsize=(13,5), grid=True, title=\"Comparison of 95% monthly VaRs for Hedge Fund indices\")\n",
    "plt.ylabel(\"%\")\n",
    "plt.show()"
   ]
  },
  {
   "cell_type": "markdown",
   "id": "ebff9366",
   "metadata": {},
   "source": [
    "مشاهده کنید که چگونه ارزش در معرض خطر شرطی معمولاً  بزرگتر از ارزش در معرض خطر معمولی است،\n",
    "\n",
    "در حالی که روش تاریخی معمولاً کوچکترین ارزش در معرض خطر را ارائه می دهد."
   ]
  },
  {
   "cell_type": "code",
   "execution_count": null,
   "id": "c0b5d977",
   "metadata": {},
   "outputs": [],
   "source": []
  },
  {
   "cell_type": "code",
   "execution_count": null,
   "id": "418fa1ba",
   "metadata": {},
   "outputs": [],
   "source": []
  },
  {
   "cell_type": "code",
   "execution_count": null,
   "id": "51bd8b37",
   "metadata": {},
   "outputs": [],
   "source": []
  }
 ],
 "metadata": {
  "kernelspec": {
   "display_name": "Python 3 (ipykernel)",
   "language": "python",
   "name": "python3"
  },
  "language_info": {
   "codemirror_mode": {
    "name": "ipython",
    "version": 3
   },
   "file_extension": ".py",
   "mimetype": "text/x-python",
   "name": "python",
   "nbconvert_exporter": "python",
   "pygments_lexer": "ipython3",
   "version": "3.10.2"
  }
 },
 "nbformat": 4,
 "nbformat_minor": 5
}
