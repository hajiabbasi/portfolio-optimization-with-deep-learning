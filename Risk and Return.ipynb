{
 "cells": [
  {
   "cell_type": "code",
   "execution_count": 1,
   "metadata": {},
   "outputs": [],
   "source": [
    "import pandas as pd\n",
    "import numpy as np\n",
    "import matplotlib.pyplot as plt\n",
    "import scipy.stats "
   ]
  },
  {
   "cell_type": "code",
   "execution_count": 2,
   "metadata": {},
   "outputs": [
    {
     "data": {
      "text/html": [
       "<div>\n",
       "<style scoped>\n",
       "    .dataframe tbody tr th:only-of-type {\n",
       "        vertical-align: middle;\n",
       "    }\n",
       "\n",
       "    .dataframe tbody tr th {\n",
       "        vertical-align: top;\n",
       "    }\n",
       "\n",
       "    .dataframe thead th {\n",
       "        text-align: right;\n",
       "    }\n",
       "</style>\n",
       "<table border=\"1\" class=\"dataframe\">\n",
       "  <thead>\n",
       "    <tr style=\"text-align: right;\">\n",
       "      <th></th>\n",
       "      <th>Stock A</th>\n",
       "      <th>Stock B</th>\n",
       "    </tr>\n",
       "    <tr>\n",
       "      <th>Months</th>\n",
       "      <th></th>\n",
       "      <th></th>\n",
       "    </tr>\n",
       "  </thead>\n",
       "  <tbody>\n",
       "    <tr>\n",
       "      <th>0</th>\n",
       "      <td>10.63</td>\n",
       "      <td>17.45</td>\n",
       "    </tr>\n",
       "    <tr>\n",
       "      <th>1</th>\n",
       "      <td>9.84</td>\n",
       "      <td>-1.77</td>\n",
       "    </tr>\n",
       "    <tr>\n",
       "      <th>2</th>\n",
       "      <td>10.55</td>\n",
       "      <td>9.44</td>\n",
       "    </tr>\n",
       "    <tr>\n",
       "      <th>3</th>\n",
       "      <td>8.81</td>\n",
       "      <td>10.57</td>\n",
       "    </tr>\n",
       "    <tr>\n",
       "      <th>4</th>\n",
       "      <td>10.88</td>\n",
       "      <td>10.88</td>\n",
       "    </tr>\n",
       "    <tr>\n",
       "      <th>5</th>\n",
       "      <td>10.38</td>\n",
       "      <td>5.50</td>\n",
       "    </tr>\n",
       "    <tr>\n",
       "      <th>6</th>\n",
       "      <td>9.91</td>\n",
       "      <td>14.19</td>\n",
       "    </tr>\n",
       "    <tr>\n",
       "      <th>7</th>\n",
       "      <td>8.61</td>\n",
       "      <td>3.61</td>\n",
       "    </tr>\n",
       "    <tr>\n",
       "      <th>8</th>\n",
       "      <td>10.33</td>\n",
       "      <td>19.05</td>\n",
       "    </tr>\n",
       "    <tr>\n",
       "      <th>9</th>\n",
       "      <td>11.59</td>\n",
       "      <td>9.12</td>\n",
       "    </tr>\n",
       "  </tbody>\n",
       "</table>\n",
       "</div>"
      ],
      "text/plain": [
       "        Stock A  Stock B\n",
       "Months                  \n",
       "0         10.63    17.45\n",
       "1          9.84    -1.77\n",
       "2         10.55     9.44\n",
       "3          8.81    10.57\n",
       "4         10.88    10.88\n",
       "5         10.38     5.50\n",
       "6          9.91    14.19\n",
       "7          8.61     3.61\n",
       "8         10.33    19.05\n",
       "9         11.59     9.12"
      ]
     },
     "execution_count": 2,
     "metadata": {},
     "output_type": "execute_result"
    }
   ],
   "source": [
    "# دو سهام داریم که از توزیع نرمال با پارامتر های(10,1) و (10,5) پیروی می کنند.\n",
    "stocks = pd.DataFrame( {\"Stock A\" : np.random.normal(10,1,size=10), \"Stock B\" : np.random.normal(10,5,size=10)} )\n",
    "stocks.index.name = \"Months\"\n",
    "stocks = round(stocks,2)\n",
    "stocks"
   ]
  },
  {
   "cell_type": "code",
   "execution_count": 3,
   "metadata": {},
   "outputs": [
    {
     "data": {
      "text/html": [
       "<div>\n",
       "<style scoped>\n",
       "    .dataframe tbody tr th:only-of-type {\n",
       "        vertical-align: middle;\n",
       "    }\n",
       "\n",
       "    .dataframe tbody tr th {\n",
       "        vertical-align: top;\n",
       "    }\n",
       "\n",
       "    .dataframe thead th {\n",
       "        text-align: right;\n",
       "    }\n",
       "</style>\n",
       "<table border=\"1\" class=\"dataframe\">\n",
       "  <thead>\n",
       "    <tr style=\"text-align: right;\">\n",
       "      <th></th>\n",
       "      <th>Stock A</th>\n",
       "      <th>Stock B</th>\n",
       "      <th>Stock A Rets</th>\n",
       "      <th>Stock B Rets</th>\n",
       "    </tr>\n",
       "    <tr>\n",
       "      <th>Months</th>\n",
       "      <th></th>\n",
       "      <th></th>\n",
       "      <th></th>\n",
       "      <th></th>\n",
       "    </tr>\n",
       "  </thead>\n",
       "  <tbody>\n",
       "    <tr>\n",
       "      <th>0</th>\n",
       "      <td>10.63</td>\n",
       "      <td>17.45</td>\n",
       "      <td>NaN</td>\n",
       "      <td>NaN</td>\n",
       "    </tr>\n",
       "    <tr>\n",
       "      <th>1</th>\n",
       "      <td>9.84</td>\n",
       "      <td>-1.77</td>\n",
       "      <td>-0.07</td>\n",
       "      <td>-1.10</td>\n",
       "    </tr>\n",
       "    <tr>\n",
       "      <th>2</th>\n",
       "      <td>10.55</td>\n",
       "      <td>9.44</td>\n",
       "      <td>0.07</td>\n",
       "      <td>-6.33</td>\n",
       "    </tr>\n",
       "    <tr>\n",
       "      <th>3</th>\n",
       "      <td>8.81</td>\n",
       "      <td>10.57</td>\n",
       "      <td>-0.16</td>\n",
       "      <td>0.12</td>\n",
       "    </tr>\n",
       "    <tr>\n",
       "      <th>4</th>\n",
       "      <td>10.88</td>\n",
       "      <td>10.88</td>\n",
       "      <td>0.23</td>\n",
       "      <td>0.03</td>\n",
       "    </tr>\n",
       "    <tr>\n",
       "      <th>5</th>\n",
       "      <td>10.38</td>\n",
       "      <td>5.50</td>\n",
       "      <td>-0.05</td>\n",
       "      <td>-0.49</td>\n",
       "    </tr>\n",
       "    <tr>\n",
       "      <th>6</th>\n",
       "      <td>9.91</td>\n",
       "      <td>14.19</td>\n",
       "      <td>-0.05</td>\n",
       "      <td>1.58</td>\n",
       "    </tr>\n",
       "    <tr>\n",
       "      <th>7</th>\n",
       "      <td>8.61</td>\n",
       "      <td>3.61</td>\n",
       "      <td>-0.13</td>\n",
       "      <td>-0.75</td>\n",
       "    </tr>\n",
       "    <tr>\n",
       "      <th>8</th>\n",
       "      <td>10.33</td>\n",
       "      <td>19.05</td>\n",
       "      <td>0.20</td>\n",
       "      <td>4.28</td>\n",
       "    </tr>\n",
       "    <tr>\n",
       "      <th>9</th>\n",
       "      <td>11.59</td>\n",
       "      <td>9.12</td>\n",
       "      <td>0.12</td>\n",
       "      <td>-0.52</td>\n",
       "    </tr>\n",
       "  </tbody>\n",
       "</table>\n",
       "</div>"
      ],
      "text/plain": [
       "        Stock A  Stock B  Stock A Rets  Stock B Rets\n",
       "Months                                              \n",
       "0         10.63    17.45           NaN           NaN\n",
       "1          9.84    -1.77         -0.07         -1.10\n",
       "2         10.55     9.44          0.07         -6.33\n",
       "3          8.81    10.57         -0.16          0.12\n",
       "4         10.88    10.88          0.23          0.03\n",
       "5         10.38     5.50         -0.05         -0.49\n",
       "6          9.91    14.19         -0.05          1.58\n",
       "7          8.61     3.61         -0.13         -0.75\n",
       "8         10.33    19.05          0.20          4.28\n",
       "9         11.59     9.12          0.12         -0.52"
      ]
     },
     "execution_count": 3,
     "metadata": {},
     "output_type": "execute_result"
    }
   ],
   "source": [
    "# محاسبه بازده با استفاده از متد shift()\n",
    "stocks[\"Stock A Rets\"] = stocks[\"Stock A\"]/stocks[\"Stock A\"].shift(1) - 1\n",
    "stocks[\"Stock B Rets\"] = stocks[\"Stock B\"]/stocks[\"Stock B\"].shift(1) - 1\n",
    "stocks = round(stocks,2)\n",
    "stocks"
   ]
  },
  {
   "cell_type": "markdown",
   "metadata": {},
   "source": [
    "یا یک راه دیگر دیگر برای یافتن بازدهی استفاده از متد زیر است\n",
    "\n",
    "pct_change()"
   ]
  },
  {
   "cell_type": "code",
   "execution_count": 4,
   "metadata": {},
   "outputs": [
    {
     "data": {
      "text/html": [
       "<div>\n",
       "<style scoped>\n",
       "    .dataframe tbody tr th:only-of-type {\n",
       "        vertical-align: middle;\n",
       "    }\n",
       "\n",
       "    .dataframe tbody tr th {\n",
       "        vertical-align: top;\n",
       "    }\n",
       "\n",
       "    .dataframe thead th {\n",
       "        text-align: right;\n",
       "    }\n",
       "</style>\n",
       "<table border=\"1\" class=\"dataframe\">\n",
       "  <thead>\n",
       "    <tr style=\"text-align: right;\">\n",
       "      <th></th>\n",
       "      <th>Stock A</th>\n",
       "      <th>Stock B</th>\n",
       "      <th>Stock A Rets</th>\n",
       "      <th>Stock B Rets</th>\n",
       "    </tr>\n",
       "    <tr>\n",
       "      <th>Months</th>\n",
       "      <th></th>\n",
       "      <th></th>\n",
       "      <th></th>\n",
       "      <th></th>\n",
       "    </tr>\n",
       "  </thead>\n",
       "  <tbody>\n",
       "    <tr>\n",
       "      <th>0</th>\n",
       "      <td>NaN</td>\n",
       "      <td>NaN</td>\n",
       "      <td>NaN</td>\n",
       "      <td>NaN</td>\n",
       "    </tr>\n",
       "    <tr>\n",
       "      <th>1</th>\n",
       "      <td>-0.074318</td>\n",
       "      <td>-1.101433</td>\n",
       "      <td>NaN</td>\n",
       "      <td>NaN</td>\n",
       "    </tr>\n",
       "    <tr>\n",
       "      <th>2</th>\n",
       "      <td>0.072154</td>\n",
       "      <td>-6.333333</td>\n",
       "      <td>-2.000000</td>\n",
       "      <td>4.754545</td>\n",
       "    </tr>\n",
       "    <tr>\n",
       "      <th>3</th>\n",
       "      <td>-0.164929</td>\n",
       "      <td>0.119703</td>\n",
       "      <td>-3.285714</td>\n",
       "      <td>-1.018957</td>\n",
       "    </tr>\n",
       "    <tr>\n",
       "      <th>4</th>\n",
       "      <td>0.234960</td>\n",
       "      <td>0.029328</td>\n",
       "      <td>-2.437500</td>\n",
       "      <td>-0.750000</td>\n",
       "    </tr>\n",
       "    <tr>\n",
       "      <th>5</th>\n",
       "      <td>-0.045956</td>\n",
       "      <td>-0.494485</td>\n",
       "      <td>-1.217391</td>\n",
       "      <td>-17.333333</td>\n",
       "    </tr>\n",
       "    <tr>\n",
       "      <th>6</th>\n",
       "      <td>-0.045279</td>\n",
       "      <td>1.580000</td>\n",
       "      <td>0.000000</td>\n",
       "      <td>-4.224490</td>\n",
       "    </tr>\n",
       "    <tr>\n",
       "      <th>7</th>\n",
       "      <td>-0.131181</td>\n",
       "      <td>-0.745595</td>\n",
       "      <td>1.600000</td>\n",
       "      <td>-1.474684</td>\n",
       "    </tr>\n",
       "    <tr>\n",
       "      <th>8</th>\n",
       "      <td>0.199768</td>\n",
       "      <td>4.277008</td>\n",
       "      <td>-2.538462</td>\n",
       "      <td>-6.706667</td>\n",
       "    </tr>\n",
       "    <tr>\n",
       "      <th>9</th>\n",
       "      <td>0.121975</td>\n",
       "      <td>-0.521260</td>\n",
       "      <td>-0.400000</td>\n",
       "      <td>-1.121495</td>\n",
       "    </tr>\n",
       "  </tbody>\n",
       "</table>\n",
       "</div>"
      ],
      "text/plain": [
       "         Stock A   Stock B  Stock A Rets  Stock B Rets\n",
       "Months                                                \n",
       "0            NaN       NaN           NaN           NaN\n",
       "1      -0.074318 -1.101433           NaN           NaN\n",
       "2       0.072154 -6.333333     -2.000000      4.754545\n",
       "3      -0.164929  0.119703     -3.285714     -1.018957\n",
       "4       0.234960  0.029328     -2.437500     -0.750000\n",
       "5      -0.045956 -0.494485     -1.217391    -17.333333\n",
       "6      -0.045279  1.580000      0.000000     -4.224490\n",
       "7      -0.131181 -0.745595      1.600000     -1.474684\n",
       "8       0.199768  4.277008     -2.538462     -6.706667\n",
       "9       0.121975 -0.521260     -0.400000     -1.121495"
      ]
     },
     "execution_count": 4,
     "metadata": {},
     "output_type": "execute_result"
    }
   ],
   "source": [
    "returns = stocks.pct_change()\n",
    "returns"
   ]
  },
  {
   "cell_type": "code",
   "execution_count": 5,
   "metadata": {},
   "outputs": [
    {
     "data": {
      "image/png": "[encoded data removed]",
      "text/plain": [
       "<Figure size 1500x500 with 2 Axes>"
      ]
     },
     "metadata": {},
     "output_type": "display_data"
    }
   ],
   "source": [
    "f, ax = plt.subplots(1,2,figsize=(15,5))\n",
    "ax[0].plot( stocks[[\"Stock A\",\"Stock B\"]] )\n",
    "ax[0].set_title('Stock price')\n",
    "ax[0].set_xlabel(\"months\") \n",
    "ax[0].set_ylabel(\"Price (USD)\")\n",
    "ax[0].legend([\"Stock A\",\"Stock B\"])\n",
    "ax[0].grid()\n",
    "(stocks[[\"Stock A Rets\",\"Stock B Rets\"]].drop(index=0,axis=0)*100).plot.bar(ax=ax[1]) \n",
    "ax[1].set_title('Stock returns')\n",
    "ax[1].set_xlabel(\"months\") \n",
    "ax[1].set_ylabel(\"Returns (%)\") \n",
    "ax[1].legend([\"Stock A\",\"Stock B\"])\n",
    "ax[1].grid()\n",
    "plt.show()"
   ]
  },
  {
   "cell_type": "code",
   "execution_count": 6,
   "metadata": {},
   "outputs": [
    {
     "name": "stdout",
     "output_type": "stream",
     "text": [
      "Total returns (%):\n"
     ]
    },
    {
     "data": {
      "text/plain": [
       "Stock A Rets     8.496782\n",
       "Stock B Rets   -48.738949\n",
       "dtype: float64"
      ]
     },
     "execution_count": 6,
     "metadata": {},
     "output_type": "execute_result"
    }
   ],
   "source": [
    "# محاسبه بازده کل (مرکب) با استفاده از تابع \n",
    "# prod()\n",
    "\n",
    "total_ret = (1 + stocks[[\"Stock A Rets\",\"Stock B Rets\"]]).prod() - 1 \n",
    "print(\"Total returns (%):\")\n",
    "total_ret*100"
   ]
  },
  {
   "cell_type": "code",
   "execution_count": 7,
   "metadata": {
    "tags": []
   },
   "outputs": [
    {
     "name": "stdout",
     "output_type": "stream",
     "text": [
      "Means:\n",
      "Stock A Rets    0.017778\n",
      "Stock B Rets   -0.353333\n",
      "dtype: float64\n",
      "----------------------------\n",
      "Volatility:\n",
      "Stock A Rets    0.142195\n",
      "Stock B Rets    2.785193\n",
      "dtype: float64\n"
     ]
    }
   ],
   "source": [
    "# محاسبه میانگین و نوسانات سهام ها\n",
    "means      = stocks[[\"Stock A Rets\",\"Stock B Rets\"]].mean()\n",
    "volatility = stocks[[\"Stock A Rets\",\"Stock B Rets\"]].std()\n",
    "print(\"Means:\")\n",
    "print(means)\n",
    "print(\"----------------------------\")\n",
    "print(\"Volatility:\")\n",
    "print(volatility)"
   ]
  },
  {
   "cell_type": "code",
   "execution_count": 8,
   "metadata": {},
   "outputs": [
    {
     "data": {
      "text/plain": [
       "Stock A Rets    0.492578\n",
       "Stock B Rets    9.648192\n",
       "dtype: float64"
      ]
     },
     "execution_count": 8,
     "metadata": {},
     "output_type": "execute_result"
    }
   ],
   "source": [
    "# annualizing the volatility\n",
    "ann_volatility = volatility * np.sqrt(12)\n",
    "ann_volatility"
   ]
  },
  {
   "cell_type": "markdown",
   "metadata": {},
   "source": [
    "### Return on risk "
   ]
  },
  {
   "cell_type": "code",
   "execution_count": 9,
   "metadata": {},
   "outputs": [
    {
     "name": "stdout",
     "output_type": "stream",
     "text": [
      "Return on risk:\n"
     ]
    },
    {
     "data": {
      "text/plain": [
       "Stock A Rets    0.597544\n",
       "Stock B Rets   -0.174993\n",
       "dtype: float64"
      ]
     },
     "execution_count": 9,
     "metadata": {},
     "output_type": "execute_result"
    }
   ],
   "source": [
    "ROR = total_ret / volatility\n",
    "print(\"Return on risk:\")\n",
    "ROR"
   ]
  },
  {
   "cell_type": "markdown",
   "metadata": {},
   "source": [
    "این نسبت اندازه گیری هر چه بزرگتر باشد مبین این است که به ازای هر واحد ریسک,بازده بیشتری کسب میکنیم و لذا سهامی را انتخاب میکنیم که این نسبت در آن بزرگ تر باشد"
   ]
  },
  {
   "cell_type": "markdown",
   "metadata": {},
   "source": [
    "### Sharpe Ratio\n",
    "زمانی که دارایی بدون ریسک را در بازار در نظر بگیریم, نسبت شارپ معنا پیدا میکند که از **بازده مازاد** استفاده میکند و از رابطه زیر محاسبه می گردد\n",
    "$$\n",
    "\\lambda := \\frac{E_R}{\\sigma}\n",
    "\\quad\\text{where}\\quad\n",
    "E_R := R - R_F, \n",
    "$$\n"
   ]
  },
  {
   "cell_type": "code",
   "execution_count": 10,
   "metadata": {},
   "outputs": [
    {
     "data": {
      "text/plain": [
       "Stock A Rets    0.386566\n",
       "Stock B Rets   -0.185764\n",
       "dtype: float64"
      ]
     },
     "execution_count": 10,
     "metadata": {},
     "output_type": "execute_result"
    }
   ],
   "source": [
    "# فرض نرخ بازده بدون ریسک برابر 3 درصد\n",
    "risk_free_rate = 0.03 \n",
    "excess_return  = total_ret - risk_free_rate\n",
    "sharpe_ratio   = excess_return / volatility\n",
    "sharpe_ratio"
   ]
  }
 ],
 "metadata": {
  "kernelspec": {
   "display_name": "Python 3 (ipykernel)",
   "language": "python",
   "name": "python3"
  },
  "language_info": {
   "codemirror_mode": {
    "name": "ipython",
    "version": 3
   },
   "file_extension": ".py",
   "mimetype": "text/x-python",
   "name": "python",
   "nbconvert_exporter": "python",
   "pygments_lexer": "ipython3",
   "version": "3.9.13"
  }
 },
 "nbformat": 4,
 "nbformat_minor": 4
}
